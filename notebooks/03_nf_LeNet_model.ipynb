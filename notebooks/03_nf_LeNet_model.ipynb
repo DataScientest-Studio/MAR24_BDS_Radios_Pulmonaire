{
 "cells": [
  {
   "cell_type": "markdown",
   "metadata": {},
   "source": [
    "Dans un premier temps, le modèle LeNet sera testé sur les données brutes sans masque appliqué, pour vérifier que tout fonctionne correctement."
   ]
  },
  {
   "cell_type": "code",
   "execution_count": 16,
   "metadata": {},
   "outputs": [],
   "source": [
    "import numpy as np\n",
    "import pandas as pd\n",
    "import cv2\n",
    "from tqdm import tqdm\n",
    "import os\n",
    "from sklearn.model_selection import train_test_split\n",
    "import matplotlib.pyplot as plt\n",
    "from sklearn.preprocessing import LabelEncoder\n",
    "from sklearn import metrics"
   ]
  },
  {
   "cell_type": "code",
   "execution_count": 17,
   "metadata": {},
   "outputs": [],
   "source": [
    "lung_seg_path = os.path.join(\"..\", \"data\", \"processed\",\"Lung Segmentation Data\")"
   ]
  },
  {
   "cell_type": "code",
   "execution_count": 18,
   "metadata": {},
   "outputs": [],
   "source": [
    "def load_images(folder_path, num_images, final_folder):\n",
    "    '''Cette fonction permet de charger les images qui seront utilisées pour le modèle LeNet.\n",
    "    folder_path est le chemin vers le dossier contenant l'ensemble des images (qui contient normalement 3 sous-dossiers)\n",
    "    num_images est le nombre d'images que l'on souhaite importer par sous dossier\n",
    "    final_folder est le dossier final dans lequel les images sont contenues : \"images\" pour les données brutes, \"lung_masks\" pour les masques...'''\n",
    "\n",
    "    images = []\n",
    "    labels = []\n",
    "\n",
    "    for subfolder in os.listdir(folder_path): # Je parcours les sous-dossiers (Covid, Non-covid, Normal)\n",
    "        subfolder_path = os.path.join(folder_path, subfolder, final_folder) # Les images se situent encore dans un sous dossier\n",
    "\n",
    "        for image in tqdm(os.listdir(subfolder_path)[:num_images]):\n",
    "            image_path = os.path.join(subfolder_path, image)\n",
    "            img = cv2.imread(image_path,  cv2.IMREAD_GRAYSCALE)\n",
    "            img_array = np.array(img)\n",
    "            images.append(img_array)\n",
    "            labels.append(subfolder)\n",
    "    \n",
    "    return images, labels\n"
   ]
  },
  {
   "cell_type": "code",
   "execution_count": 19,
   "metadata": {},
   "outputs": [
    {
     "name": "stderr",
     "output_type": "stream",
     "text": [
      "  8%|▊         | 77/1000 [00:00<00:01, 764.41it/s]"
     ]
    },
    {
     "name": "stderr",
     "output_type": "stream",
     "text": [
      "100%|██████████| 1000/1000 [00:01<00:00, 705.12it/s]\n",
      "100%|██████████| 1000/1000 [00:01<00:00, 730.28it/s]\n",
      "100%|██████████| 1000/1000 [00:01<00:00, 805.36it/s]\n"
     ]
    }
   ],
   "source": [
    "image, label = load_images(lung_seg_path, 1000, \"images\") # Images brutes"
   ]
  },
  {
   "cell_type": "code",
   "execution_count": 20,
   "metadata": {},
   "outputs": [
    {
     "name": "stderr",
     "output_type": "stream",
     "text": [
      "  0%|          | 0/1000 [00:00<?, ?it/s]"
     ]
    },
    {
     "name": "stderr",
     "output_type": "stream",
     "text": [
      "100%|██████████| 1000/1000 [00:02<00:00, 416.93it/s]\n",
      "100%|██████████| 1000/1000 [00:03<00:00, 279.28it/s]\n",
      "100%|██████████| 1000/1000 [00:04<00:00, 241.66it/s]\n"
     ]
    }
   ],
   "source": [
    "image_norm, label_norm = load_images(lung_seg_path, 1000, \"MinMaxNormalized images\")"
   ]
  },
  {
   "cell_type": "code",
   "execution_count": 21,
   "metadata": {},
   "outputs": [
    {
     "data": {
      "text/plain": [
       "(3000,)"
      ]
     },
     "execution_count": 21,
     "metadata": {},
     "output_type": "execute_result"
    }
   ],
   "source": [
    "# Transformation des labels pour ne plus avoir des strings\n",
    "label_encoder = LabelEncoder()\n",
    "targets_encoded = label_encoder.fit_transform(label) #COVID-19 =0, Non_COVID =1, Normal =2\n",
    "targets_encoded.shape"
   ]
  },
  {
   "cell_type": "code",
   "execution_count": 22,
   "metadata": {},
   "outputs": [
    {
     "data": {
      "text/plain": [
       "(3000,)"
      ]
     },
     "execution_count": 22,
     "metadata": {},
     "output_type": "execute_result"
    }
   ],
   "source": [
    "# Transformation des labels pour ne plus avoir des strings (Images normalisées)\n",
    "label_encoder_norm = LabelEncoder()\n",
    "targets_encoded_norm = label_encoder_norm.fit_transform(label_norm) #COVID-19 =0, Non_COVID =1, Normal =2\n",
    "targets_encoded_norm.shape"
   ]
  },
  {
   "cell_type": "code",
   "execution_count": 23,
   "metadata": {},
   "outputs": [
    {
     "data": {
      "text/plain": [
       "(3000, 256, 256, 1)"
      ]
     },
     "execution_count": 23,
     "metadata": {},
     "output_type": "execute_result"
    }
   ],
   "source": [
    "# Transformation de la liste d'images en tableau à 4 dimensions (nb_images, largeur, hauteur, profondeur)\n",
    "images_encoded = np.stack(image)\n",
    "images_encoded = images_encoded.reshape((-1, 256, 256, 1))\n",
    "images_encoded.shape"
   ]
  },
  {
   "cell_type": "code",
   "execution_count": 24,
   "metadata": {},
   "outputs": [
    {
     "data": {
      "text/plain": [
       "(3000, 256, 256, 1)"
      ]
     },
     "execution_count": 24,
     "metadata": {},
     "output_type": "execute_result"
    }
   ],
   "source": [
    "# Transformation de la liste d'images en tableau à 4 dimensions (nb_images, largeur, hauteur, profondeur) (Images normalisées)\n",
    "images_encoded_norm = np.stack(image_norm)\n",
    "images_encoded_norm = images_encoded_norm.reshape((-1, 256, 256, 1))\n",
    "images_encoded_norm.shape"
   ]
  },
  {
   "cell_type": "code",
   "execution_count": 25,
   "metadata": {},
   "outputs": [],
   "source": [
    "# Séparation des données en ensembles de test et train\n",
    "X_train, X_test, y_train, y_test = train_test_split(images_encoded, targets_encoded, test_size=0.2, random_state=42)"
   ]
  },
  {
   "cell_type": "code",
   "execution_count": 26,
   "metadata": {},
   "outputs": [],
   "source": [
    "# Séparation des données en ensembles de test et train (Images normalisées)\n",
    "X_norm_train, X_norm_test, y_norm_train, y_norm_test = train_test_split(images_encoded_norm, targets_encoded_norm, test_size=0.2, random_state=42)"
   ]
  },
  {
   "cell_type": "code",
   "execution_count": 27,
   "metadata": {},
   "outputs": [],
   "source": [
    "from keras.utils import to_categorical"
   ]
  },
  {
   "cell_type": "code",
   "execution_count": 28,
   "metadata": {},
   "outputs": [],
   "source": [
    "# Labels en vecteurs catégoriels binaires\n",
    "y_train = to_categorical(y_train)\n",
    "y_test = to_categorical(y_test)\n",
    "\n",
    "# Données de X comprises entre 0 et 1\n",
    "X_train = X_train / 255\n",
    "X_test = X_test / 255"
   ]
  },
  {
   "cell_type": "code",
   "execution_count": 29,
   "metadata": {},
   "outputs": [],
   "source": [
    "# Images normalisées\n",
    "# Labels en vecteurs catégoriels binaires\n",
    "y_norm_train = to_categorical(y_norm_train)\n",
    "y_norm_test = to_categorical(y_norm_test)\n",
    "\n",
    "# Données de X comprises entre 0 et 1\n",
    "X_norm_train = X_norm_train / 255\n",
    "X_norm_test = X_norm_test / 255"
   ]
  },
  {
   "cell_type": "markdown",
   "metadata": {},
   "source": [
    "Création du modèle LeNet"
   ]
  },
  {
   "cell_type": "code",
   "execution_count": 30,
   "metadata": {},
   "outputs": [],
   "source": [
    "from tensorflow.keras.models import Sequential, Model\n",
    "from tensorflow.keras.layers import Dense, Activation, Input\n",
    "from tensorflow.keras.layers import Dropout\n",
    "from tensorflow.keras.layers import Flatten\n",
    "from tensorflow.keras.layers import Conv2D\n",
    "from tensorflow.keras.layers import MaxPooling2D"
   ]
  },
  {
   "cell_type": "code",
   "execution_count": 31,
   "metadata": {},
   "outputs": [
    {
     "data": {
      "text/plain": [
       "[]"
      ]
     },
     "execution_count": 31,
     "metadata": {},
     "output_type": "execute_result"
    }
   ],
   "source": [
    "import tensorflow as tf\n",
    "\n",
    "os.environ[\"CUDA_VISIBLE_DEVICES\"] = \"0\"\n",
    "\n",
    "tf.config.list_physical_devices('GPU') # Si la liste est vide, le GPU n'est pas détecté"
   ]
  },
  {
   "cell_type": "code",
   "execution_count": 32,
   "metadata": {},
   "outputs": [
    {
     "name": "stderr",
     "output_type": "stream",
     "text": [
      "d:\\Nico\\Code\\MAR24_BDS_Radios_Pulmonaire\\.venv\\Lib\\site-packages\\keras\\src\\layers\\convolutional\\base_conv.py:107: UserWarning: Do not pass an `input_shape`/`input_dim` argument to a layer. When using Sequential models, prefer using an `Input(shape)` object as the first layer in the model instead.\n",
      "  super().__init__(activity_regularizer=activity_regularizer, **kwargs)\n"
     ]
    }
   ],
   "source": [
    "# Architecture du modèle\n",
    "inputs=Input(shape = (256, 256,1), name = \"Input\")\n",
    "\n",
    "\n",
    "conv_1 = Conv2D(filters = 30,                    # Nombre de filtres\n",
    "                kernel_size = (5, 5),            # Dimensions du noyau\n",
    "                padding = 'valid',               # Mode de Dépassement\n",
    "                input_shape = (28, 28, 1),       # Dimensions de l'image en entrée\n",
    "                activation = 'relu')             # Fonction d'activation\n",
    "\n",
    "max_pool_1 = MaxPooling2D(pool_size = (2, 2))\n",
    "\n",
    "conv_2 = Conv2D(filters = 16,                    \n",
    "                kernel_size = (3, 3),          \n",
    "                padding = 'valid',             \n",
    "                activation = 'relu')\n",
    "\n",
    "max_pool_2 = MaxPooling2D(pool_size = (2, 2))\n",
    "\n",
    "flatten = Flatten()\n",
    "\n",
    "dropout = Dropout(rate = 0.2)\n",
    "\n",
    "dense_1 = Dense(units = 128,\n",
    "                activation = 'relu')\n",
    "\n",
    "dense_2 = Dense(units = 3,\n",
    "                activation = 'softmax')\n",
    "x=conv_1(inputs)\n",
    "x=max_pool_1(x)\n",
    "x=conv_2(x)\n",
    "x=max_pool_2(x)\n",
    "\n",
    "\n",
    "x=dropout(x)\n",
    "x=flatten(x)\n",
    "x=dense_1(x)\n",
    "outputs=dense_2(x)"
   ]
  },
  {
   "cell_type": "code",
   "execution_count": 33,
   "metadata": {},
   "outputs": [
    {
     "name": "stdout",
     "output_type": "stream",
     "text": [
      "Epoch 1/16\n",
      "\u001b[1m10/10\u001b[0m \u001b[32m━━━━━━━━━━━━━━━━━━━━\u001b[0m\u001b[37m\u001b[0m \u001b[1m53s\u001b[0m 4s/step - accuracy: 0.4171 - loss: 1.3653 - val_accuracy: 0.5396 - val_loss: 0.9406\n",
      "Epoch 2/16\n",
      "\u001b[1m10/10\u001b[0m \u001b[32m━━━━━━━━━━━━━━━━━━━━\u001b[0m\u001b[37m\u001b[0m \u001b[1m21s\u001b[0m 2s/step - accuracy: 0.6486 - loss: 0.8464 - val_accuracy: 0.7625 - val_loss: 0.5632\n",
      "Epoch 3/16\n",
      "\u001b[1m10/10\u001b[0m \u001b[32m━━━━━━━━━━━━━━━━━━━━\u001b[0m\u001b[37m\u001b[0m \u001b[1m21s\u001b[0m 2s/step - accuracy: 0.7690 - loss: 0.5908 - val_accuracy: 0.7667 - val_loss: 0.5599\n",
      "Epoch 4/16\n",
      "\u001b[1m10/10\u001b[0m \u001b[32m━━━━━━━━━━━━━━━━━━━━\u001b[0m\u001b[37m\u001b[0m \u001b[1m20s\u001b[0m 2s/step - accuracy: 0.7980 - loss: 0.5345 - val_accuracy: 0.8167 - val_loss: 0.4654\n",
      "Epoch 5/16\n",
      "\u001b[1m10/10\u001b[0m \u001b[32m━━━━━━━━━━━━━━━━━━━━\u001b[0m\u001b[37m\u001b[0m \u001b[1m20s\u001b[0m 2s/step - accuracy: 0.8491 - loss: 0.4458 - val_accuracy: 0.8167 - val_loss: 0.4803\n",
      "Epoch 6/16\n",
      "\u001b[1m10/10\u001b[0m \u001b[32m━━━━━━━━━━━━━━━━━━━━\u001b[0m\u001b[37m\u001b[0m \u001b[1m20s\u001b[0m 2s/step - accuracy: 0.8701 - loss: 0.4077 - val_accuracy: 0.8604 - val_loss: 0.3977\n",
      "Epoch 7/16\n",
      "\u001b[1m10/10\u001b[0m \u001b[32m━━━━━━━━━━━━━━━━━━━━\u001b[0m\u001b[37m\u001b[0m \u001b[1m20s\u001b[0m 2s/step - accuracy: 0.8772 - loss: 0.3538 - val_accuracy: 0.8208 - val_loss: 0.4816\n",
      "Epoch 8/16\n",
      "\u001b[1m10/10\u001b[0m \u001b[32m━━━━━━━━━━━━━━━━━━━━\u001b[0m\u001b[37m\u001b[0m \u001b[1m20s\u001b[0m 2s/step - accuracy: 0.8728 - loss: 0.3675 - val_accuracy: 0.8500 - val_loss: 0.3964\n",
      "Epoch 9/16\n",
      "\u001b[1m10/10\u001b[0m \u001b[32m━━━━━━━━━━━━━━━━━━━━\u001b[0m\u001b[37m\u001b[0m \u001b[1m20s\u001b[0m 2s/step - accuracy: 0.8937 - loss: 0.3426 - val_accuracy: 0.8417 - val_loss: 0.4107\n",
      "Epoch 10/16\n",
      "\u001b[1m10/10\u001b[0m \u001b[32m━━━━━━━━━━━━━━━━━━━━\u001b[0m\u001b[37m\u001b[0m \u001b[1m20s\u001b[0m 2s/step - accuracy: 0.9114 - loss: 0.3054 - val_accuracy: 0.8521 - val_loss: 0.3898\n",
      "Epoch 11/16\n",
      "\u001b[1m10/10\u001b[0m \u001b[32m━━━━━━━━━━━━━━━━━━━━\u001b[0m\u001b[37m\u001b[0m \u001b[1m20s\u001b[0m 2s/step - accuracy: 0.9187 - loss: 0.2632 - val_accuracy: 0.8417 - val_loss: 0.3952\n",
      "Epoch 12/16\n",
      "\u001b[1m10/10\u001b[0m \u001b[32m━━━━━━━━━━━━━━━━━━━━\u001b[0m\u001b[37m\u001b[0m \u001b[1m20s\u001b[0m 2s/step - accuracy: 0.9241 - loss: 0.2323 - val_accuracy: 0.8333 - val_loss: 0.4373\n",
      "Epoch 13/16\n",
      "\u001b[1m10/10\u001b[0m \u001b[32m━━━━━━━━━━━━━━━━━━━━\u001b[0m\u001b[37m\u001b[0m \u001b[1m20s\u001b[0m 2s/step - accuracy: 0.9042 - loss: 0.2616 - val_accuracy: 0.8583 - val_loss: 0.4069\n",
      "Epoch 14/16\n",
      "\u001b[1m10/10\u001b[0m \u001b[32m━━━━━━━━━━━━━━━━━━━━\u001b[0m\u001b[37m\u001b[0m \u001b[1m21s\u001b[0m 2s/step - accuracy: 0.9417 - loss: 0.1962 - val_accuracy: 0.8562 - val_loss: 0.4216\n",
      "Epoch 15/16\n",
      "\u001b[1m10/10\u001b[0m \u001b[32m━━━━━━━━━━━━━━━━━━━━\u001b[0m\u001b[37m\u001b[0m \u001b[1m20s\u001b[0m 2s/step - accuracy: 0.9532 - loss: 0.1729 - val_accuracy: 0.8625 - val_loss: 0.3996\n",
      "Epoch 16/16\n",
      "\u001b[1m10/10\u001b[0m \u001b[32m━━━━━━━━━━━━━━━━━━━━\u001b[0m\u001b[37m\u001b[0m \u001b[1m20s\u001b[0m 2s/step - accuracy: 0.9553 - loss: 0.1554 - val_accuracy: 0.8667 - val_loss: 0.3788\n"
     ]
    }
   ],
   "source": [
    "lenet = Model(inputs = inputs, outputs = outputs)\n",
    "\n",
    "# Compilation\n",
    "lenet.compile(loss='categorical_crossentropy',  # fonction de perte\n",
    "              optimizer='adam',                 # algorithme de descente de gradient\n",
    "              metrics=['accuracy'])             # métrique d'évaluation\n",
    "\n",
    "training_history_lenet = lenet.fit(X_train, y_train,          # données\n",
    "                                   validation_split = 0.2,    # split de test\n",
    "                                   epochs = 16,               # nombre d'epochs\n",
    "                                   batch_size = 200)          # taille des batchs"
   ]
  },
  {
   "cell_type": "code",
   "execution_count": 34,
   "metadata": {},
   "outputs": [
    {
     "name": "stdout",
     "output_type": "stream",
     "text": [
      "\u001b[1m19/19\u001b[0m \u001b[32m━━━━━━━━━━━━━━━━━━━━\u001b[0m\u001b[37m\u001b[0m \u001b[1m2s\u001b[0m 83ms/step\n",
      "              precision    recall  f1-score   support\n",
      "\n",
      "           0       0.85      0.84      0.84       217\n",
      "           1       0.90      0.90      0.90       197\n",
      "           2       0.81      0.82      0.82       186\n",
      "\n",
      "    accuracy                           0.85       600\n",
      "   macro avg       0.85      0.85      0.85       600\n",
      "weighted avg       0.86      0.85      0.86       600\n",
      "\n"
     ]
    },
    {
     "data": {
      "text/html": [
       "<div>\n",
       "<style scoped>\n",
       "    .dataframe tbody tr th:only-of-type {\n",
       "        vertical-align: middle;\n",
       "    }\n",
       "\n",
       "    .dataframe tbody tr th {\n",
       "        vertical-align: top;\n",
       "    }\n",
       "\n",
       "    .dataframe thead th {\n",
       "        text-align: right;\n",
       "    }\n",
       "</style>\n",
       "<table border=\"1\" class=\"dataframe\">\n",
       "  <thead>\n",
       "    <tr style=\"text-align: right;\">\n",
       "      <th>col_0</th>\n",
       "      <th>0</th>\n",
       "      <th>1</th>\n",
       "      <th>2</th>\n",
       "    </tr>\n",
       "    <tr>\n",
       "      <th>row_0</th>\n",
       "      <th></th>\n",
       "      <th></th>\n",
       "      <th></th>\n",
       "    </tr>\n",
       "  </thead>\n",
       "  <tbody>\n",
       "    <tr>\n",
       "      <th>0</th>\n",
       "      <td>182</td>\n",
       "      <td>9</td>\n",
       "      <td>26</td>\n",
       "    </tr>\n",
       "    <tr>\n",
       "      <th>1</th>\n",
       "      <td>10</td>\n",
       "      <td>178</td>\n",
       "      <td>9</td>\n",
       "    </tr>\n",
       "    <tr>\n",
       "      <th>2</th>\n",
       "      <td>23</td>\n",
       "      <td>10</td>\n",
       "      <td>153</td>\n",
       "    </tr>\n",
       "  </tbody>\n",
       "</table>\n",
       "</div>"
      ],
      "text/plain": [
       "col_0    0    1    2\n",
       "row_0               \n",
       "0      182    9   26\n",
       "1       10  178    9\n",
       "2       23   10  153"
      ]
     },
     "execution_count": 34,
     "metadata": {},
     "output_type": "execute_result"
    }
   ],
   "source": [
    "all_val_accuracy=[]\n",
    "train_acc_lenet = training_history_lenet.history['accuracy']\n",
    "all_val_accuracy.append(training_history_lenet.history['val_accuracy'])\n",
    "\n",
    "\n",
    "# Results\n",
    "test_pred_lenet = lenet.predict(X_test)\n",
    "test_pred_lenet_class = test_pred_lenet.argmax(axis = 1)\n",
    "y_test_class = y_test.argmax(axis = 1)\n",
    "\n",
    "print(metrics.classification_report(y_test_class, test_pred_lenet_class))\n",
    "pd.crosstab(y_test_class, test_pred_lenet_class)"
   ]
  },
  {
   "cell_type": "code",
   "execution_count": 35,
   "metadata": {},
   "outputs": [
    {
     "name": "stdout",
     "output_type": "stream",
     "text": [
      "Epoch 1/16\n",
      "\u001b[1m10/10\u001b[0m \u001b[32m━━━━━━━━━━━━━━━━━━━━\u001b[0m\u001b[37m\u001b[0m \u001b[1m24s\u001b[0m 2s/step - accuracy: 0.6780 - loss: 1.6383 - val_accuracy: 0.7396 - val_loss: 0.6670\n",
      "Epoch 2/16\n",
      "\u001b[1m10/10\u001b[0m \u001b[32m━━━━━━━━━━━━━━━━━━━━\u001b[0m\u001b[37m\u001b[0m \u001b[1m24s\u001b[0m 2s/step - accuracy: 0.8009 - loss: 0.5018 - val_accuracy: 0.8000 - val_loss: 0.5563\n",
      "Epoch 3/16\n",
      "\u001b[1m10/10\u001b[0m \u001b[32m━━━━━━━━━━━━━━━━━━━━\u001b[0m\u001b[37m\u001b[0m \u001b[1m19s\u001b[0m 2s/step - accuracy: 0.8841 - loss: 0.3954 - val_accuracy: 0.8542 - val_loss: 0.4525\n",
      "Epoch 4/16\n",
      "\u001b[1m10/10\u001b[0m \u001b[32m━━━━━━━━━━━━━━━━━━━━\u001b[0m\u001b[37m\u001b[0m \u001b[1m19s\u001b[0m 2s/step - accuracy: 0.8968 - loss: 0.3372 - val_accuracy: 0.8417 - val_loss: 0.4319\n",
      "Epoch 5/16\n",
      "\u001b[1m10/10\u001b[0m \u001b[32m━━━━━━━━━━━━━━━━━━━━\u001b[0m\u001b[37m\u001b[0m \u001b[1m19s\u001b[0m 2s/step - accuracy: 0.9156 - loss: 0.2840 - val_accuracy: 0.8521 - val_loss: 0.4299\n",
      "Epoch 6/16\n",
      "\u001b[1m10/10\u001b[0m \u001b[32m━━━━━━━━━━━━━━━━━━━━\u001b[0m\u001b[37m\u001b[0m \u001b[1m19s\u001b[0m 2s/step - accuracy: 0.9175 - loss: 0.2693 - val_accuracy: 0.8583 - val_loss: 0.4322\n",
      "Epoch 7/16\n",
      "\u001b[1m10/10\u001b[0m \u001b[32m━━━━━━━━━━━━━━━━━━━━\u001b[0m\u001b[37m\u001b[0m \u001b[1m19s\u001b[0m 2s/step - accuracy: 0.9200 - loss: 0.2480 - val_accuracy: 0.8604 - val_loss: 0.4024\n",
      "Epoch 8/16\n",
      "\u001b[1m10/10\u001b[0m \u001b[32m━━━━━━━━━━━━━━━━━━━━\u001b[0m\u001b[37m\u001b[0m \u001b[1m19s\u001b[0m 2s/step - accuracy: 0.9287 - loss: 0.2182 - val_accuracy: 0.8625 - val_loss: 0.4001\n",
      "Epoch 9/16\n",
      "\u001b[1m10/10\u001b[0m \u001b[32m━━━━━━━━━━━━━━━━━━━━\u001b[0m\u001b[37m\u001b[0m \u001b[1m20s\u001b[0m 2s/step - accuracy: 0.9423 - loss: 0.1972 - val_accuracy: 0.8479 - val_loss: 0.4566\n",
      "Epoch 10/16\n",
      "\u001b[1m10/10\u001b[0m \u001b[32m━━━━━━━━━━━━━━━━━━━━\u001b[0m\u001b[37m\u001b[0m \u001b[1m19s\u001b[0m 2s/step - accuracy: 0.9390 - loss: 0.1952 - val_accuracy: 0.8542 - val_loss: 0.4286\n",
      "Epoch 11/16\n",
      "\u001b[1m10/10\u001b[0m \u001b[32m━━━━━━━━━━━━━━━━━━━━\u001b[0m\u001b[37m\u001b[0m \u001b[1m19s\u001b[0m 2s/step - accuracy: 0.9477 - loss: 0.1682 - val_accuracy: 0.8604 - val_loss: 0.4094\n",
      "Epoch 12/16\n",
      "\u001b[1m10/10\u001b[0m \u001b[32m━━━━━━━━━━━━━━━━━━━━\u001b[0m\u001b[37m\u001b[0m \u001b[1m19s\u001b[0m 2s/step - accuracy: 0.9509 - loss: 0.1659 - val_accuracy: 0.8646 - val_loss: 0.4377\n",
      "Epoch 13/16\n",
      "\u001b[1m10/10\u001b[0m \u001b[32m━━━━━━━━━━━━━━━━━━━━\u001b[0m\u001b[37m\u001b[0m \u001b[1m19s\u001b[0m 2s/step - accuracy: 0.9554 - loss: 0.1426 - val_accuracy: 0.8562 - val_loss: 0.4556\n",
      "Epoch 14/16\n",
      "\u001b[1m10/10\u001b[0m \u001b[32m━━━━━━━━━━━━━━━━━━━━\u001b[0m\u001b[37m\u001b[0m \u001b[1m19s\u001b[0m 2s/step - accuracy: 0.9550 - loss: 0.1501 - val_accuracy: 0.8542 - val_loss: 0.4361\n",
      "Epoch 15/16\n",
      "\u001b[1m10/10\u001b[0m \u001b[32m━━━━━━━━━━━━━━━━━━━━\u001b[0m\u001b[37m\u001b[0m \u001b[1m19s\u001b[0m 2s/step - accuracy: 0.9549 - loss: 0.1343 - val_accuracy: 0.8708 - val_loss: 0.4168\n",
      "Epoch 16/16\n",
      "\u001b[1m10/10\u001b[0m \u001b[32m━━━━━━━━━━━━━━━━━━━━\u001b[0m\u001b[37m\u001b[0m \u001b[1m19s\u001b[0m 2s/step - accuracy: 0.9739 - loss: 0.0981 - val_accuracy: 0.8667 - val_loss: 0.4102\n"
     ]
    }
   ],
   "source": [
    "lenet_norm = Model(inputs = inputs, outputs = outputs)\n",
    "\n",
    "# Compilation\n",
    "lenet_norm.compile(loss='categorical_crossentropy',  # fonction de perte\n",
    "              optimizer='adam',                 # algorithme de descente de gradient\n",
    "              metrics=['accuracy'])             # métrique d'évaluation\n",
    "\n",
    "training_history_lenet_norm = lenet_norm.fit(X_norm_train, y_norm_train,          # données\n",
    "                                   validation_split = 0.2,    # split de test\n",
    "                                   epochs = 16,               # nombre d'epochs\n",
    "                                   batch_size = 200)          # taille des batchs"
   ]
  },
  {
   "cell_type": "code",
   "execution_count": 36,
   "metadata": {},
   "outputs": [
    {
     "name": "stdout",
     "output_type": "stream",
     "text": [
      "\u001b[1m19/19\u001b[0m \u001b[32m━━━━━━━━━━━━━━━━━━━━\u001b[0m\u001b[37m\u001b[0m \u001b[1m1s\u001b[0m 70ms/step\n",
      "              precision    recall  f1-score   support\n",
      "\n",
      "           0       0.86      0.85      0.85       217\n",
      "           1       0.89      0.89      0.89       197\n",
      "           2       0.83      0.85      0.84       186\n",
      "\n",
      "    accuracy                           0.86       600\n",
      "   macro avg       0.86      0.86      0.86       600\n",
      "weighted avg       0.86      0.86      0.86       600\n",
      "\n"
     ]
    },
    {
     "data": {
      "text/html": [
       "<div>\n",
       "<style scoped>\n",
       "    .dataframe tbody tr th:only-of-type {\n",
       "        vertical-align: middle;\n",
       "    }\n",
       "\n",
       "    .dataframe tbody tr th {\n",
       "        vertical-align: top;\n",
       "    }\n",
       "\n",
       "    .dataframe thead th {\n",
       "        text-align: right;\n",
       "    }\n",
       "</style>\n",
       "<table border=\"1\" class=\"dataframe\">\n",
       "  <thead>\n",
       "    <tr style=\"text-align: right;\">\n",
       "      <th>col_0</th>\n",
       "      <th>0</th>\n",
       "      <th>1</th>\n",
       "      <th>2</th>\n",
       "    </tr>\n",
       "    <tr>\n",
       "      <th>row_0</th>\n",
       "      <th></th>\n",
       "      <th></th>\n",
       "      <th></th>\n",
       "    </tr>\n",
       "  </thead>\n",
       "  <tbody>\n",
       "    <tr>\n",
       "      <th>0</th>\n",
       "      <td>184</td>\n",
       "      <td>11</td>\n",
       "      <td>22</td>\n",
       "    </tr>\n",
       "    <tr>\n",
       "      <th>1</th>\n",
       "      <td>12</td>\n",
       "      <td>175</td>\n",
       "      <td>10</td>\n",
       "    </tr>\n",
       "    <tr>\n",
       "      <th>2</th>\n",
       "      <td>18</td>\n",
       "      <td>10</td>\n",
       "      <td>158</td>\n",
       "    </tr>\n",
       "  </tbody>\n",
       "</table>\n",
       "</div>"
      ],
      "text/plain": [
       "col_0    0    1    2\n",
       "row_0               \n",
       "0      184   11   22\n",
       "1       12  175   10\n",
       "2       18   10  158"
      ]
     },
     "execution_count": 36,
     "metadata": {},
     "output_type": "execute_result"
    }
   ],
   "source": [
    "all_val_accuracy_norm=[]\n",
    "train_acc_lenet_norm = training_history_lenet_norm.history['accuracy']\n",
    "all_val_accuracy_norm.append(training_history_lenet_norm.history['val_accuracy'])\n",
    "\n",
    "\n",
    "# Results\n",
    "test_pred_lenet_norm = lenet_norm.predict(X_norm_test)\n",
    "test_pred_lenet_class_norm = test_pred_lenet_norm.argmax(axis = 1)\n",
    "y_test_class_norm = y_norm_test.argmax(axis = 1)\n",
    "\n",
    "print(metrics.classification_report(y_test_class_norm, test_pred_lenet_class_norm))\n",
    "pd.crosstab(y_test_class_norm, test_pred_lenet_class_norm)"
   ]
  },
  {
   "cell_type": "markdown",
   "metadata": {},
   "source": [
    "Test modèle LeNet avec les masques non-aggrandis"
   ]
  },
  {
   "cell_type": "code",
   "execution_count": 37,
   "metadata": {},
   "outputs": [
    {
     "name": "stderr",
     "output_type": "stream",
     "text": [
      "100%|██████████| 1000/1000 [00:03<00:00, 253.55it/s]\n",
      "100%|██████████| 1000/1000 [00:04<00:00, 231.12it/s]\n",
      "100%|██████████| 1000/1000 [00:01<00:00, 542.37it/s]\n"
     ]
    }
   ],
   "source": [
    "image_mask, label_mask = load_images(lung_seg_path, 1000, \"masks_applicated\")"
   ]
  },
  {
   "cell_type": "code",
   "execution_count": 38,
   "metadata": {},
   "outputs": [
    {
     "data": {
      "text/plain": [
       "(3000,)"
      ]
     },
     "execution_count": 38,
     "metadata": {},
     "output_type": "execute_result"
    }
   ],
   "source": [
    "# Transformation des labels pour ne plus avoir des strings (Images masquées)\n",
    "label_encoder_mask = LabelEncoder()\n",
    "targets_encoded_mask = label_encoder_mask.fit_transform(label_mask) #COVID-19 =0, Non_COVID =1, Normal =2\n",
    "targets_encoded_mask.shape"
   ]
  },
  {
   "cell_type": "code",
   "execution_count": 39,
   "metadata": {},
   "outputs": [
    {
     "data": {
      "text/plain": [
       "(3000, 256, 256, 1)"
      ]
     },
     "execution_count": 39,
     "metadata": {},
     "output_type": "execute_result"
    }
   ],
   "source": [
    "# Transformation de la liste d'images en tableau à 4 dimensions (nb_images, largeur, hauteur, profondeur) (Images masquées)\n",
    "images_encoded_mask = np.stack(image_mask)\n",
    "images_encoded_mask = images_encoded_mask.reshape((-1, 256, 256, 1))\n",
    "images_encoded_mask.shape"
   ]
  },
  {
   "cell_type": "code",
   "execution_count": 40,
   "metadata": {},
   "outputs": [],
   "source": [
    "# Séparation des données en ensembles de test et train (Images masquées)\n",
    "X_mask_train, X_mask_test, y_mask_train, y_mask_test = train_test_split(images_encoded_mask, targets_encoded_mask, test_size=0.2, random_state=42)"
   ]
  },
  {
   "cell_type": "code",
   "execution_count": 41,
   "metadata": {},
   "outputs": [],
   "source": [
    "# Images masquées\n",
    "# Labels en vecteurs catégoriels binaires\n",
    "y_mask_train = to_categorical(y_mask_train)\n",
    "y_mask_test = to_categorical(y_mask_test)\n",
    "\n",
    "# Données de X comprises entre 0 et 1\n",
    "X_mask_train = X_mask_train / 255\n",
    "X_mask_test = X_mask_test / 255"
   ]
  },
  {
   "cell_type": "code",
   "execution_count": 42,
   "metadata": {},
   "outputs": [
    {
     "name": "stdout",
     "output_type": "stream",
     "text": [
      "Epoch 1/16\n",
      "\u001b[1m10/10\u001b[0m \u001b[32m━━━━━━━━━━━━━━━━━━━━\u001b[0m\u001b[37m\u001b[0m \u001b[1m26s\u001b[0m 2s/step - accuracy: 0.3955 - loss: 2.8453 - val_accuracy: 0.5375 - val_loss: 1.0381\n",
      "Epoch 2/16\n",
      "\u001b[1m10/10\u001b[0m \u001b[32m━━━━━━━━━━━━━━━━━━━━\u001b[0m\u001b[37m\u001b[0m \u001b[1m19s\u001b[0m 2s/step - accuracy: 0.5884 - loss: 0.9106 - val_accuracy: 0.6438 - val_loss: 0.7731\n",
      "Epoch 3/16\n",
      "\u001b[1m10/10\u001b[0m \u001b[32m━━━━━━━━━━━━━━━━━━━━\u001b[0m\u001b[37m\u001b[0m \u001b[1m19s\u001b[0m 2s/step - accuracy: 0.7215 - loss: 0.6882 - val_accuracy: 0.7208 - val_loss: 0.6453\n",
      "Epoch 4/16\n",
      "\u001b[1m10/10\u001b[0m \u001b[32m━━━━━━━━━━━━━━━━━━━━\u001b[0m\u001b[37m\u001b[0m \u001b[1m19s\u001b[0m 2s/step - accuracy: 0.7586 - loss: 0.5773 - val_accuracy: 0.7354 - val_loss: 0.5972\n",
      "Epoch 5/16\n",
      "\u001b[1m10/10\u001b[0m \u001b[32m━━━━━━━━━━━━━━━━━━━━\u001b[0m\u001b[37m\u001b[0m \u001b[1m19s\u001b[0m 2s/step - accuracy: 0.7878 - loss: 0.5358 - val_accuracy: 0.7479 - val_loss: 0.6037\n",
      "Epoch 6/16\n",
      "\u001b[1m10/10\u001b[0m \u001b[32m━━━━━━━━━━━━━━━━━━━━\u001b[0m\u001b[37m\u001b[0m \u001b[1m19s\u001b[0m 2s/step - accuracy: 0.8257 - loss: 0.4593 - val_accuracy: 0.7396 - val_loss: 0.5856\n",
      "Epoch 7/16\n",
      "\u001b[1m10/10\u001b[0m \u001b[32m━━━━━━━━━━━━━━━━━━━━\u001b[0m\u001b[37m\u001b[0m \u001b[1m19s\u001b[0m 2s/step - accuracy: 0.8447 - loss: 0.4252 - val_accuracy: 0.7625 - val_loss: 0.5734\n",
      "Epoch 8/16\n",
      "\u001b[1m10/10\u001b[0m \u001b[32m━━━━━━━━━━━━━━━━━━━━\u001b[0m\u001b[37m\u001b[0m \u001b[1m19s\u001b[0m 2s/step - accuracy: 0.8472 - loss: 0.3915 - val_accuracy: 0.7542 - val_loss: 0.5866\n",
      "Epoch 9/16\n",
      "\u001b[1m10/10\u001b[0m \u001b[32m━━━━━━━━━━━━━━━━━━━━\u001b[0m\u001b[37m\u001b[0m \u001b[1m19s\u001b[0m 2s/step - accuracy: 0.8720 - loss: 0.3490 - val_accuracy: 0.7458 - val_loss: 0.6044\n",
      "Epoch 10/16\n",
      "\u001b[1m10/10\u001b[0m \u001b[32m━━━━━━━━━━━━━━━━━━━━\u001b[0m\u001b[37m\u001b[0m \u001b[1m19s\u001b[0m 2s/step - accuracy: 0.8603 - loss: 0.3426 - val_accuracy: 0.7583 - val_loss: 0.6528\n",
      "Epoch 11/16\n",
      "\u001b[1m10/10\u001b[0m \u001b[32m━━━━━━━━━━━━━━━━━━━━\u001b[0m\u001b[37m\u001b[0m \u001b[1m19s\u001b[0m 2s/step - accuracy: 0.8743 - loss: 0.3107 - val_accuracy: 0.7521 - val_loss: 0.6374\n",
      "Epoch 12/16\n",
      "\u001b[1m10/10\u001b[0m \u001b[32m━━━━━━━━━━━━━━━━━━━━\u001b[0m\u001b[37m\u001b[0m \u001b[1m19s\u001b[0m 2s/step - accuracy: 0.8850 - loss: 0.2987 - val_accuracy: 0.7604 - val_loss: 0.6705\n",
      "Epoch 13/16\n",
      "\u001b[1m10/10\u001b[0m \u001b[32m━━━━━━━━━━━━━━━━━━━━\u001b[0m\u001b[37m\u001b[0m \u001b[1m19s\u001b[0m 2s/step - accuracy: 0.9302 - loss: 0.2190 - val_accuracy: 0.7729 - val_loss: 0.6676\n",
      "Epoch 14/16\n",
      "\u001b[1m10/10\u001b[0m \u001b[32m━━━━━━━━━━━━━━━━━━━━\u001b[0m\u001b[37m\u001b[0m \u001b[1m24s\u001b[0m 2s/step - accuracy: 0.9323 - loss: 0.2053 - val_accuracy: 0.7542 - val_loss: 0.6946\n",
      "Epoch 15/16\n",
      "\u001b[1m10/10\u001b[0m \u001b[32m━━━━━━━━━━━━━━━━━━━━\u001b[0m\u001b[37m\u001b[0m \u001b[1m20s\u001b[0m 2s/step - accuracy: 0.9454 - loss: 0.1778 - val_accuracy: 0.7729 - val_loss: 0.7258\n",
      "Epoch 16/16\n",
      "\u001b[1m10/10\u001b[0m \u001b[32m━━━━━━━━━━━━━━━━━━━━\u001b[0m\u001b[37m\u001b[0m \u001b[1m19s\u001b[0m 2s/step - accuracy: 0.9564 - loss: 0.1516 - val_accuracy: 0.7542 - val_loss: 0.7573\n"
     ]
    }
   ],
   "source": [
    "lenet_mask = Model(inputs = inputs, outputs = outputs)\n",
    "\n",
    "# Compilation\n",
    "lenet_mask.compile(loss='categorical_crossentropy',  # fonction de perte\n",
    "              optimizer='adam',                 # algorithme de descente de gradient\n",
    "              metrics=['accuracy'])             # métrique d'évaluation\n",
    "\n",
    "training_history_lenet_mask = lenet_mask.fit(X_mask_train, y_mask_train,          # données\n",
    "                                   validation_split = 0.2,    # split de test\n",
    "                                   epochs = 16,               # nombre d'epochs\n",
    "                                   batch_size = 200)          # taille des batchs"
   ]
  },
  {
   "cell_type": "code",
   "execution_count": 43,
   "metadata": {},
   "outputs": [
    {
     "name": "stdout",
     "output_type": "stream",
     "text": [
      "\u001b[1m19/19\u001b[0m \u001b[32m━━━━━━━━━━━━━━━━━━━━\u001b[0m\u001b[37m\u001b[0m \u001b[1m2s\u001b[0m 77ms/step\n",
      "              precision    recall  f1-score   support\n",
      "\n",
      "           0       0.70      0.56      0.62       217\n",
      "           1       0.83      0.88      0.86       197\n",
      "           2       0.63      0.74      0.68       186\n",
      "\n",
      "    accuracy                           0.72       600\n",
      "   macro avg       0.72      0.73      0.72       600\n",
      "weighted avg       0.72      0.72      0.72       600\n",
      "\n"
     ]
    },
    {
     "data": {
      "text/html": [
       "<div>\n",
       "<style scoped>\n",
       "    .dataframe tbody tr th:only-of-type {\n",
       "        vertical-align: middle;\n",
       "    }\n",
       "\n",
       "    .dataframe tbody tr th {\n",
       "        vertical-align: top;\n",
       "    }\n",
       "\n",
       "    .dataframe thead th {\n",
       "        text-align: right;\n",
       "    }\n",
       "</style>\n",
       "<table border=\"1\" class=\"dataframe\">\n",
       "  <thead>\n",
       "    <tr style=\"text-align: right;\">\n",
       "      <th>col_0</th>\n",
       "      <th>0</th>\n",
       "      <th>1</th>\n",
       "      <th>2</th>\n",
       "    </tr>\n",
       "    <tr>\n",
       "      <th>row_0</th>\n",
       "      <th></th>\n",
       "      <th></th>\n",
       "      <th></th>\n",
       "    </tr>\n",
       "  </thead>\n",
       "  <tbody>\n",
       "    <tr>\n",
       "      <th>0</th>\n",
       "      <td>121</td>\n",
       "      <td>25</td>\n",
       "      <td>71</td>\n",
       "    </tr>\n",
       "    <tr>\n",
       "      <th>1</th>\n",
       "      <td>14</td>\n",
       "      <td>174</td>\n",
       "      <td>9</td>\n",
       "    </tr>\n",
       "    <tr>\n",
       "      <th>2</th>\n",
       "      <td>39</td>\n",
       "      <td>10</td>\n",
       "      <td>137</td>\n",
       "    </tr>\n",
       "  </tbody>\n",
       "</table>\n",
       "</div>"
      ],
      "text/plain": [
       "col_0    0    1    2\n",
       "row_0               \n",
       "0      121   25   71\n",
       "1       14  174    9\n",
       "2       39   10  137"
      ]
     },
     "execution_count": 43,
     "metadata": {},
     "output_type": "execute_result"
    }
   ],
   "source": [
    "all_val_accuracy_mask=[]\n",
    "train_acc_lenet_mask = training_history_lenet_mask.history['accuracy']\n",
    "all_val_accuracy_mask.append(training_history_lenet_mask.history['val_accuracy'])\n",
    "\n",
    "# Results\n",
    "test_pred_lenet_mask = lenet_mask.predict(X_mask_test)\n",
    "test_pred_lenet_class_mask = test_pred_lenet_mask.argmax(axis = 1)\n",
    "y_test_class_mask = y_mask_test.argmax(axis = 1)\n",
    "\n",
    "print(metrics.classification_report(y_test_class_mask, test_pred_lenet_class_mask))\n",
    "pd.crosstab(y_test_class_mask, test_pred_lenet_class_mask)"
   ]
  },
  {
   "cell_type": "markdown",
   "metadata": {},
   "source": [
    "Test LeNet avec masques dilatés une fois"
   ]
  },
  {
   "cell_type": "code",
   "execution_count": 44,
   "metadata": {},
   "outputs": [
    {
     "name": "stderr",
     "output_type": "stream",
     "text": [
      "100%|██████████| 1000/1000 [00:01<00:00, 604.63it/s]\n",
      "100%|██████████| 1000/1000 [00:01<00:00, 890.28it/s]\n",
      "100%|██████████| 1000/1000 [00:01<00:00, 669.13it/s]\n"
     ]
    }
   ],
   "source": [
    "image_mask_dil1, label_mask_dil1 = load_images(lung_seg_path, 1000, \"masks_dilated1_applicated\")"
   ]
  },
  {
   "cell_type": "code",
   "execution_count": 45,
   "metadata": {},
   "outputs": [
    {
     "data": {
      "text/plain": [
       "(3000,)"
      ]
     },
     "execution_count": 45,
     "metadata": {},
     "output_type": "execute_result"
    }
   ],
   "source": [
    "# Transformation des labels pour ne plus avoir des strings (Images masquées dilatées 1 fois)\n",
    "label_encoder_mask_dil1 = LabelEncoder()\n",
    "targets_encoded_mask_dil1 = label_encoder_mask_dil1.fit_transform(label_mask_dil1) #COVID-19 =0, Non_COVID =1, Normal =2\n",
    "targets_encoded_mask_dil1.shape"
   ]
  },
  {
   "cell_type": "code",
   "execution_count": 46,
   "metadata": {},
   "outputs": [
    {
     "data": {
      "text/plain": [
       "(3000, 256, 256, 1)"
      ]
     },
     "execution_count": 46,
     "metadata": {},
     "output_type": "execute_result"
    }
   ],
   "source": [
    "# Transformation de la liste d'images en tableau à 4 dimensions (nb_images, largeur, hauteur, profondeur) (Images masquées dilatées 1 fois)\n",
    "images_encoded_mask_dil1 = np.stack(image_mask_dil1)\n",
    "images_encoded_mask_dil1 = images_encoded_mask_dil1.reshape((-1, 256, 256, 1))\n",
    "images_encoded_mask_dil1.shape"
   ]
  },
  {
   "cell_type": "code",
   "execution_count": 47,
   "metadata": {},
   "outputs": [],
   "source": [
    "# Séparation des données en ensembles de test et train (Images masquées dilatées une fois)\n",
    "X_mask_dil1_train, X_mask_dil1_test, y_mask_dil1_train, y_mask_dil1_test = train_test_split(images_encoded_mask_dil1, targets_encoded_mask_dil1, test_size=0.2, random_state=42)"
   ]
  },
  {
   "cell_type": "code",
   "execution_count": 48,
   "metadata": {},
   "outputs": [],
   "source": [
    "# Images masquées dilatées 1 fois\n",
    "# Labels en vecteurs catégoriels binaires\n",
    "y_mask_dil1_train = to_categorical(y_mask_dil1_train)\n",
    "y_mask_dil1_test = to_categorical(y_mask_dil1_test)\n",
    "\n",
    "# Données de X comprises entre 0 et 1\n",
    "X_mask_dil1_train = X_mask_dil1_train / 255\n",
    "X_mask_dil1_test = X_mask_dil1_test / 255"
   ]
  },
  {
   "cell_type": "code",
   "execution_count": 49,
   "metadata": {},
   "outputs": [
    {
     "name": "stdout",
     "output_type": "stream",
     "text": [
      "Epoch 1/16\n",
      "\u001b[1m10/10\u001b[0m \u001b[32m━━━━━━━━━━━━━━━━━━━━\u001b[0m\u001b[37m\u001b[0m \u001b[1m30s\u001b[0m 2s/step - accuracy: 0.8215 - loss: 0.5309 - val_accuracy: 0.6896 - val_loss: 0.8499\n",
      "Epoch 2/16\n",
      "\u001b[1m10/10\u001b[0m \u001b[32m━━━━━━━━━━━━━━━━━━━━\u001b[0m\u001b[37m\u001b[0m \u001b[1m20s\u001b[0m 2s/step - accuracy: 0.8653 - loss: 0.3331 - val_accuracy: 0.7333 - val_loss: 0.7808\n",
      "Epoch 3/16\n",
      "\u001b[1m10/10\u001b[0m \u001b[32m━━━━━━━━━━━━━━━━━━━━\u001b[0m\u001b[37m\u001b[0m \u001b[1m20s\u001b[0m 2s/step - accuracy: 0.9223 - loss: 0.2222 - val_accuracy: 0.7458 - val_loss: 0.8575\n",
      "Epoch 4/16\n",
      "\u001b[1m10/10\u001b[0m \u001b[32m━━━━━━━━━━━━━━━━━━━━\u001b[0m\u001b[37m\u001b[0m \u001b[1m20s\u001b[0m 2s/step - accuracy: 0.9393 - loss: 0.1689 - val_accuracy: 0.7458 - val_loss: 0.9410\n",
      "Epoch 5/16\n",
      "\u001b[1m10/10\u001b[0m \u001b[32m━━━━━━━━━━━━━━━━━━━━\u001b[0m\u001b[37m\u001b[0m \u001b[1m21s\u001b[0m 2s/step - accuracy: 0.9408 - loss: 0.1525 - val_accuracy: 0.7563 - val_loss: 0.9353\n",
      "Epoch 6/16\n",
      "\u001b[1m10/10\u001b[0m \u001b[32m━━━━━━━━━━━━━━━━━━━━\u001b[0m\u001b[37m\u001b[0m \u001b[1m20s\u001b[0m 2s/step - accuracy: 0.9621 - loss: 0.1073 - val_accuracy: 0.7437 - val_loss: 1.0154\n",
      "Epoch 7/16\n",
      "\u001b[1m10/10\u001b[0m \u001b[32m━━━━━━━━━━━━━━━━━━━━\u001b[0m\u001b[37m\u001b[0m \u001b[1m20s\u001b[0m 2s/step - accuracy: 0.9761 - loss: 0.0925 - val_accuracy: 0.7521 - val_loss: 1.0395\n",
      "Epoch 8/16\n",
      "\u001b[1m10/10\u001b[0m \u001b[32m━━━━━━━━━━━━━━━━━━━━\u001b[0m\u001b[37m\u001b[0m \u001b[1m20s\u001b[0m 2s/step - accuracy: 0.9802 - loss: 0.0715 - val_accuracy: 0.7521 - val_loss: 1.0751\n",
      "Epoch 9/16\n",
      "\u001b[1m10/10\u001b[0m \u001b[32m━━━━━━━━━━━━━━━━━━━━\u001b[0m\u001b[37m\u001b[0m \u001b[1m20s\u001b[0m 2s/step - accuracy: 0.9900 - loss: 0.0540 - val_accuracy: 0.7437 - val_loss: 1.1349\n",
      "Epoch 10/16\n",
      "\u001b[1m10/10\u001b[0m \u001b[32m━━━━━━━━━━━━━━━━━━━━\u001b[0m\u001b[37m\u001b[0m \u001b[1m21s\u001b[0m 2s/step - accuracy: 0.9924 - loss: 0.0406 - val_accuracy: 0.7417 - val_loss: 1.2170\n",
      "Epoch 11/16\n",
      "\u001b[1m10/10\u001b[0m \u001b[32m━━━━━━━━━━━━━━━━━━━━\u001b[0m\u001b[37m\u001b[0m \u001b[1m20s\u001b[0m 2s/step - accuracy: 0.9926 - loss: 0.0389 - val_accuracy: 0.7500 - val_loss: 1.2816\n",
      "Epoch 12/16\n",
      "\u001b[1m10/10\u001b[0m \u001b[32m━━━━━━━━━━━━━━━━━━━━\u001b[0m\u001b[37m\u001b[0m \u001b[1m20s\u001b[0m 2s/step - accuracy: 0.9929 - loss: 0.0344 - val_accuracy: 0.7396 - val_loss: 1.3110\n",
      "Epoch 13/16\n",
      "\u001b[1m10/10\u001b[0m \u001b[32m━━━━━━━━━━━━━━━━━━━━\u001b[0m\u001b[37m\u001b[0m \u001b[1m20s\u001b[0m 2s/step - accuracy: 0.9924 - loss: 0.0301 - val_accuracy: 0.7479 - val_loss: 1.3438\n",
      "Epoch 14/16\n",
      "\u001b[1m10/10\u001b[0m \u001b[32m━━━━━━━━━━━━━━━━━━━━\u001b[0m\u001b[37m\u001b[0m \u001b[1m20s\u001b[0m 2s/step - accuracy: 0.9969 - loss: 0.0243 - val_accuracy: 0.7500 - val_loss: 1.3966\n",
      "Epoch 15/16\n",
      "\u001b[1m10/10\u001b[0m \u001b[32m━━━━━━━━━━━━━━━━━━━━\u001b[0m\u001b[37m\u001b[0m \u001b[1m20s\u001b[0m 2s/step - accuracy: 0.9985 - loss: 0.0224 - val_accuracy: 0.7521 - val_loss: 1.4621\n",
      "Epoch 16/16\n",
      "\u001b[1m10/10\u001b[0m \u001b[32m━━━━━━━━━━━━━━━━━━━━\u001b[0m\u001b[37m\u001b[0m \u001b[1m20s\u001b[0m 2s/step - accuracy: 0.9968 - loss: 0.0192 - val_accuracy: 0.7479 - val_loss: 1.4783\n"
     ]
    }
   ],
   "source": [
    "lenet_mask_dil1 = Model(inputs = inputs, outputs = outputs)\n",
    "\n",
    "# Compilation\n",
    "lenet_mask_dil1.compile(loss='categorical_crossentropy',  # fonction de perte\n",
    "              optimizer='adam',                 # algorithme de descente de gradient\n",
    "              metrics=['accuracy'])             # métrique d'évaluation\n",
    "\n",
    "training_history_lenet_mask_dil1 = lenet_mask_dil1.fit(X_mask_dil1_train, y_mask_dil1_train,          # données\n",
    "                                   validation_split = 0.2,    # split de test\n",
    "                                   epochs = 16,               # nombre d'epochs\n",
    "                                   batch_size = 200)          # taille des batchs"
   ]
  },
  {
   "cell_type": "code",
   "execution_count": 50,
   "metadata": {},
   "outputs": [
    {
     "name": "stdout",
     "output_type": "stream",
     "text": [
      "\u001b[1m19/19\u001b[0m \u001b[32m━━━━━━━━━━━━━━━━━━━━\u001b[0m\u001b[37m\u001b[0m \u001b[1m1s\u001b[0m 72ms/step\n",
      "              precision    recall  f1-score   support\n",
      "\n",
      "           0       0.69      0.56      0.62       217\n",
      "           1       0.85      0.87      0.86       197\n",
      "           2       0.62      0.73      0.67       186\n",
      "\n",
      "    accuracy                           0.72       600\n",
      "   macro avg       0.72      0.72      0.72       600\n",
      "weighted avg       0.72      0.72      0.71       600\n",
      "\n"
     ]
    },
    {
     "data": {
      "text/html": [
       "<div>\n",
       "<style scoped>\n",
       "    .dataframe tbody tr th:only-of-type {\n",
       "        vertical-align: middle;\n",
       "    }\n",
       "\n",
       "    .dataframe tbody tr th {\n",
       "        vertical-align: top;\n",
       "    }\n",
       "\n",
       "    .dataframe thead th {\n",
       "        text-align: right;\n",
       "    }\n",
       "</style>\n",
       "<table border=\"1\" class=\"dataframe\">\n",
       "  <thead>\n",
       "    <tr style=\"text-align: right;\">\n",
       "      <th>col_0</th>\n",
       "      <th>0</th>\n",
       "      <th>1</th>\n",
       "      <th>2</th>\n",
       "    </tr>\n",
       "    <tr>\n",
       "      <th>row_0</th>\n",
       "      <th></th>\n",
       "      <th></th>\n",
       "      <th></th>\n",
       "    </tr>\n",
       "  </thead>\n",
       "  <tbody>\n",
       "    <tr>\n",
       "      <th>0</th>\n",
       "      <td>122</td>\n",
       "      <td>20</td>\n",
       "      <td>75</td>\n",
       "    </tr>\n",
       "    <tr>\n",
       "      <th>1</th>\n",
       "      <td>15</td>\n",
       "      <td>172</td>\n",
       "      <td>10</td>\n",
       "    </tr>\n",
       "    <tr>\n",
       "      <th>2</th>\n",
       "      <td>39</td>\n",
       "      <td>11</td>\n",
       "      <td>136</td>\n",
       "    </tr>\n",
       "  </tbody>\n",
       "</table>\n",
       "</div>"
      ],
      "text/plain": [
       "col_0    0    1    2\n",
       "row_0               \n",
       "0      122   20   75\n",
       "1       15  172   10\n",
       "2       39   11  136"
      ]
     },
     "execution_count": 50,
     "metadata": {},
     "output_type": "execute_result"
    }
   ],
   "source": [
    "all_val_accuracy_mask_dil1=[]\n",
    "train_acc_lenet_mask_dil1 = training_history_lenet_mask_dil1.history['accuracy']\n",
    "all_val_accuracy_mask_dil1.append(training_history_lenet_mask_dil1.history['val_accuracy'])\n",
    "\n",
    "# Results\n",
    "test_pred_lenet_mask_dil1 = lenet_mask_dil1.predict(X_mask_dil1_test)\n",
    "test_pred_lenet_class_mask_dil1 = test_pred_lenet_mask_dil1.argmax(axis = 1)\n",
    "y_test_class_mask_dil1 = y_mask_dil1_test.argmax(axis = 1)\n",
    "\n",
    "print(metrics.classification_report(y_test_class_mask_dil1, test_pred_lenet_class_mask_dil1))\n",
    "pd.crosstab(y_test_class_mask_dil1, test_pred_lenet_class_mask_dil1)"
   ]
  },
  {
   "cell_type": "markdown",
   "metadata": {},
   "source": [
    "Test LeNet avec masques dilatés deux fois"
   ]
  },
  {
   "cell_type": "code",
   "execution_count": 51,
   "metadata": {},
   "outputs": [
    {
     "name": "stderr",
     "output_type": "stream",
     "text": [
      "100%|██████████| 1000/1000 [00:01<00:00, 570.18it/s]\n",
      "100%|██████████| 1000/1000 [00:01<00:00, 513.89it/s]\n",
      "100%|██████████| 1000/1000 [00:01<00:00, 578.66it/s]\n"
     ]
    }
   ],
   "source": [
    "image_mask_dil2, label_mask_dil2 = load_images(lung_seg_path, 1000, \"masks_dilated2_applicated\")"
   ]
  },
  {
   "cell_type": "code",
   "execution_count": 52,
   "metadata": {},
   "outputs": [
    {
     "data": {
      "text/plain": [
       "(3000,)"
      ]
     },
     "execution_count": 52,
     "metadata": {},
     "output_type": "execute_result"
    }
   ],
   "source": [
    "# Transformation des labels pour ne plus avoir des strings (Images masquées dilatées 2 fois)\n",
    "label_encoder_mask_dil2 = LabelEncoder()\n",
    "targets_encoded_mask_dil2 = label_encoder_mask_dil2.fit_transform(label_mask_dil2) #COVID-19 =0, Non_COVID =1, Normal =2\n",
    "targets_encoded_mask_dil2.shape"
   ]
  },
  {
   "cell_type": "code",
   "execution_count": 53,
   "metadata": {},
   "outputs": [
    {
     "data": {
      "text/plain": [
       "(3000, 256, 256, 1)"
      ]
     },
     "execution_count": 53,
     "metadata": {},
     "output_type": "execute_result"
    }
   ],
   "source": [
    "# Transformation de la liste d'images en tableau à 4 dimensions (nb_images, largeur, hauteur, profondeur) (Images masquées dilatées 2 fois)\n",
    "images_encoded_mask_dil2 = np.stack(image_mask_dil2)\n",
    "images_encoded_mask_dil2 = images_encoded_mask_dil2.reshape((-1, 256, 256, 1))\n",
    "images_encoded_mask_dil2.shape"
   ]
  },
  {
   "cell_type": "code",
   "execution_count": 54,
   "metadata": {},
   "outputs": [],
   "source": [
    "# Séparation des données en ensembles de test et train (Images masquées dilatées 2 fois)\n",
    "X_mask_dil2_train, X_mask_dil2_test, y_mask_dil2_train, y_mask_dil2_test = train_test_split(images_encoded_mask_dil2, targets_encoded_mask_dil2, test_size=0.2, random_state=42)"
   ]
  },
  {
   "cell_type": "code",
   "execution_count": 55,
   "metadata": {},
   "outputs": [],
   "source": [
    "# Images masquées dilatées 1 fois\n",
    "# Labels en vecteurs catégoriels binaires\n",
    "y_mask_dil2_train = to_categorical(y_mask_dil2_train)\n",
    "y_mask_dil2_test = to_categorical(y_mask_dil2_test)\n",
    "\n",
    "# Données de X comprises entre 0 et 1\n",
    "X_mask_dil2_train = X_mask_dil2_train / 255\n",
    "X_mask_dil2_test = X_mask_dil2_test / 255"
   ]
  },
  {
   "cell_type": "code",
   "execution_count": 56,
   "metadata": {},
   "outputs": [
    {
     "name": "stdout",
     "output_type": "stream",
     "text": [
      "Epoch 1/16\n",
      "\u001b[1m10/10\u001b[0m \u001b[32m━━━━━━━━━━━━━━━━━━━━\u001b[0m\u001b[37m\u001b[0m \u001b[1m22s\u001b[0m 2s/step - accuracy: 0.8661 - loss: 0.5402 - val_accuracy: 0.6979 - val_loss: 1.2403\n",
      "Epoch 2/16\n",
      "\u001b[1m10/10\u001b[0m \u001b[32m━━━━━━━━━━━━━━━━━━━━\u001b[0m\u001b[37m\u001b[0m \u001b[1m19s\u001b[0m 2s/step - accuracy: 0.8981 - loss: 0.2563 - val_accuracy: 0.7312 - val_loss: 1.0803\n",
      "Epoch 3/16\n",
      "\u001b[1m10/10\u001b[0m \u001b[32m━━━━━━━━━━━━━━━━━━━━\u001b[0m\u001b[37m\u001b[0m \u001b[1m19s\u001b[0m 2s/step - accuracy: 0.9517 - loss: 0.1336 - val_accuracy: 0.7437 - val_loss: 1.1100\n",
      "Epoch 4/16\n",
      "\u001b[1m10/10\u001b[0m \u001b[32m━━━━━━━━━━━━━━━━━━━━\u001b[0m\u001b[37m\u001b[0m \u001b[1m19s\u001b[0m 2s/step - accuracy: 0.9784 - loss: 0.0779 - val_accuracy: 0.7292 - val_loss: 1.2389\n",
      "Epoch 5/16\n",
      "\u001b[1m10/10\u001b[0m \u001b[32m━━━━━━━━━━━━━━━━━━━━\u001b[0m\u001b[37m\u001b[0m \u001b[1m19s\u001b[0m 2s/step - accuracy: 0.9847 - loss: 0.0611 - val_accuracy: 0.7396 - val_loss: 1.3080\n",
      "Epoch 6/16\n",
      "\u001b[1m10/10\u001b[0m \u001b[32m━━━━━━━━━━━━━━━━━━━━\u001b[0m\u001b[37m\u001b[0m \u001b[1m19s\u001b[0m 2s/step - accuracy: 0.9930 - loss: 0.0329 - val_accuracy: 0.7333 - val_loss: 1.3617\n",
      "Epoch 7/16\n",
      "\u001b[1m10/10\u001b[0m \u001b[32m━━━━━━━━━━━━━━━━━━━━\u001b[0m\u001b[37m\u001b[0m \u001b[1m20s\u001b[0m 2s/step - accuracy: 0.9959 - loss: 0.0239 - val_accuracy: 0.7479 - val_loss: 1.4529\n",
      "Epoch 8/16\n",
      "\u001b[1m10/10\u001b[0m \u001b[32m━━━━━━━━━━━━━━━━━━━━\u001b[0m\u001b[37m\u001b[0m \u001b[1m19s\u001b[0m 2s/step - accuracy: 0.9980 - loss: 0.0194 - val_accuracy: 0.7437 - val_loss: 1.5066\n",
      "Epoch 9/16\n",
      "\u001b[1m10/10\u001b[0m \u001b[32m━━━━━━━━━━━━━━━━━━━━\u001b[0m\u001b[37m\u001b[0m \u001b[1m19s\u001b[0m 2s/step - accuracy: 0.9982 - loss: 0.0179 - val_accuracy: 0.7458 - val_loss: 1.5693\n",
      "Epoch 10/16\n",
      "\u001b[1m10/10\u001b[0m \u001b[32m━━━━━━━━━━━━━━━━━━━━\u001b[0m\u001b[37m\u001b[0m \u001b[1m19s\u001b[0m 2s/step - accuracy: 0.9989 - loss: 0.0110 - val_accuracy: 0.7479 - val_loss: 1.6065\n",
      "Epoch 11/16\n",
      "\u001b[1m10/10\u001b[0m \u001b[32m━━━━━━━━━━━━━━━━━━━━\u001b[0m\u001b[37m\u001b[0m \u001b[1m19s\u001b[0m 2s/step - accuracy: 0.9999 - loss: 0.0076 - val_accuracy: 0.7458 - val_loss: 1.6358\n",
      "Epoch 12/16\n",
      "\u001b[1m10/10\u001b[0m \u001b[32m━━━━━━━━━━━━━━━━━━━━\u001b[0m\u001b[37m\u001b[0m \u001b[1m19s\u001b[0m 2s/step - accuracy: 0.9986 - loss: 0.0068 - val_accuracy: 0.7458 - val_loss: 1.6907\n",
      "Epoch 13/16\n",
      "\u001b[1m10/10\u001b[0m \u001b[32m━━━━━━━━━━━━━━━━━━━━\u001b[0m\u001b[37m\u001b[0m \u001b[1m20s\u001b[0m 2s/step - accuracy: 1.0000 - loss: 0.0048 - val_accuracy: 0.7417 - val_loss: 1.7102\n",
      "Epoch 14/16\n",
      "\u001b[1m10/10\u001b[0m \u001b[32m━━━━━━━━━━━━━━━━━━━━\u001b[0m\u001b[37m\u001b[0m \u001b[1m20s\u001b[0m 2s/step - accuracy: 1.0000 - loss: 0.0045 - val_accuracy: 0.7396 - val_loss: 1.7462\n",
      "Epoch 15/16\n",
      "\u001b[1m10/10\u001b[0m \u001b[32m━━━━━━━━━━━━━━━━━━━━\u001b[0m\u001b[37m\u001b[0m \u001b[1m19s\u001b[0m 2s/step - accuracy: 1.0000 - loss: 0.0040 - val_accuracy: 0.7479 - val_loss: 1.7883\n",
      "Epoch 16/16\n",
      "\u001b[1m10/10\u001b[0m \u001b[32m━━━━━━━━━━━━━━━━━━━━\u001b[0m\u001b[37m\u001b[0m \u001b[1m19s\u001b[0m 2s/step - accuracy: 1.0000 - loss: 0.0033 - val_accuracy: 0.7437 - val_loss: 1.8158\n"
     ]
    }
   ],
   "source": [
    "lenet_mask_dil2 = Model(inputs = inputs, outputs = outputs)\n",
    "\n",
    "# Compilation\n",
    "lenet_mask_dil2.compile(loss='categorical_crossentropy',  # fonction de perte\n",
    "              optimizer='adam',                 # algorithme de descente de gradient\n",
    "              metrics=['accuracy'])             # métrique d'évaluation\n",
    "\n",
    "training_history_lenet_mask_dil2 = lenet_mask_dil2.fit(X_mask_dil2_train, y_mask_dil2_train,          # données\n",
    "                                   validation_split = 0.2,    # split de test\n",
    "                                   epochs = 16,               # nombre d'epochs\n",
    "                                   batch_size = 200)          # taille des batchs"
   ]
  },
  {
   "cell_type": "code",
   "execution_count": 57,
   "metadata": {},
   "outputs": [
    {
     "name": "stdout",
     "output_type": "stream",
     "text": [
      "\u001b[1m19/19\u001b[0m \u001b[32m━━━━━━━━━━━━━━━━━━━━\u001b[0m\u001b[37m\u001b[0m \u001b[1m1s\u001b[0m 75ms/step\n",
      "              precision    recall  f1-score   support\n",
      "\n",
      "           0       0.70      0.63      0.66       217\n",
      "           1       0.85      0.88      0.86       197\n",
      "           2       0.66      0.72      0.69       186\n",
      "\n",
      "    accuracy                           0.74       600\n",
      "   macro avg       0.74      0.74      0.74       600\n",
      "weighted avg       0.74      0.74      0.74       600\n",
      "\n"
     ]
    },
    {
     "data": {
      "text/html": [
       "<div>\n",
       "<style scoped>\n",
       "    .dataframe tbody tr th:only-of-type {\n",
       "        vertical-align: middle;\n",
       "    }\n",
       "\n",
       "    .dataframe tbody tr th {\n",
       "        vertical-align: top;\n",
       "    }\n",
       "\n",
       "    .dataframe thead th {\n",
       "        text-align: right;\n",
       "    }\n",
       "</style>\n",
       "<table border=\"1\" class=\"dataframe\">\n",
       "  <thead>\n",
       "    <tr style=\"text-align: right;\">\n",
       "      <th>col_0</th>\n",
       "      <th>0</th>\n",
       "      <th>1</th>\n",
       "      <th>2</th>\n",
       "    </tr>\n",
       "    <tr>\n",
       "      <th>row_0</th>\n",
       "      <th></th>\n",
       "      <th></th>\n",
       "      <th></th>\n",
       "    </tr>\n",
       "  </thead>\n",
       "  <tbody>\n",
       "    <tr>\n",
       "      <th>0</th>\n",
       "      <td>136</td>\n",
       "      <td>20</td>\n",
       "      <td>61</td>\n",
       "    </tr>\n",
       "    <tr>\n",
       "      <th>1</th>\n",
       "      <td>16</td>\n",
       "      <td>173</td>\n",
       "      <td>8</td>\n",
       "    </tr>\n",
       "    <tr>\n",
       "      <th>2</th>\n",
       "      <td>42</td>\n",
       "      <td>10</td>\n",
       "      <td>134</td>\n",
       "    </tr>\n",
       "  </tbody>\n",
       "</table>\n",
       "</div>"
      ],
      "text/plain": [
       "col_0    0    1    2\n",
       "row_0               \n",
       "0      136   20   61\n",
       "1       16  173    8\n",
       "2       42   10  134"
      ]
     },
     "execution_count": 57,
     "metadata": {},
     "output_type": "execute_result"
    }
   ],
   "source": [
    "all_val_accuracy_mask_dil2=[]\n",
    "train_acc_lenet_mask_dil2 = training_history_lenet_mask_dil2.history['accuracy']\n",
    "all_val_accuracy_mask_dil2.append(training_history_lenet_mask_dil2.history['val_accuracy'])\n",
    "\n",
    "# Results\n",
    "test_pred_lenet_mask_dil2 = lenet_mask_dil2.predict(X_mask_dil2_test)\n",
    "test_pred_lenet_class_mask_dil2 = test_pred_lenet_mask_dil2.argmax(axis = 1)\n",
    "y_test_class_mask_dil2 = y_mask_dil2_test.argmax(axis = 1)\n",
    "\n",
    "print(metrics.classification_report(y_test_class_mask_dil2, test_pred_lenet_class_mask_dil2))\n",
    "pd.crosstab(y_test_class_mask_dil2, test_pred_lenet_class_mask_dil2)"
   ]
  },
  {
   "cell_type": "code",
   "execution_count": 58,
   "metadata": {},
   "outputs": [
    {
     "data": {
      "text/plain": [
       "<matplotlib.legend.Legend at 0x1c5eb356870>"
      ]
     },
     "execution_count": 58,
     "metadata": {},
     "output_type": "execute_result"
    },
    {
     "data": {
      "image/png": "[encoded data removed]",
      "text/plain": [
       "<Figure size 640x480 with 1 Axes>"
      ]
     },
     "metadata": {},
     "output_type": "display_data"
    }
   ],
   "source": [
    "# Graphes combinés de l'ensemble des modèles\n",
    "plt.xlabel('Epochs')\n",
    "plt.ylabel('Accuracy')\n",
    "plt.plot(np.arange(1 , 17, 1),\n",
    "         all_val_accuracy[0], \n",
    "         label = 'LeNet',\n",
    "         color = 'green')\n",
    "plt.plot(np.arange(1 , 17, 1),\n",
    "         all_val_accuracy_norm[0], \n",
    "         label = 'LeNet Norm',\n",
    "         color = 'red')        \n",
    "plt.plot(np.arange(1 , 17, 1),\n",
    "         all_val_accuracy_mask[0], \n",
    "         label = 'LeNet Mask',\n",
    "         color = 'blue')\n",
    "plt.plot(np.arange(1 , 17, 1),\n",
    "         all_val_accuracy_mask_dil1[0], \n",
    "         label = 'LeNet Mask Dil1',\n",
    "         color = 'yellow')\n",
    "plt.plot(np.arange(1 , 17, 1),\n",
    "         all_val_accuracy_mask_dil2[0], \n",
    "         label = 'LeNet Mask Dil2',\n",
    "         color = 'purple')\n",
    "plt.legend()"
   ]
  },
  {
   "cell_type": "markdown",
   "metadata": {},
   "source": [
    "cdzefc"
   ]
  }
 ],
 "metadata": {
  "kernelspec": {
   "display_name": ".venv",
   "language": "python",
   "name": "python3"
  },
  "language_info": {
   "codemirror_mode": {
    "name": "ipython",
    "version": 3
   },
   "file_extension": ".py",
   "mimetype": "text/x-python",
   "name": "python",
   "nbconvert_exporter": "python",
   "pygments_lexer": "ipython3",
   "version": "3.12.3"
  }
 },
 "nbformat": 4,
 "nbformat_minor": 2
}
