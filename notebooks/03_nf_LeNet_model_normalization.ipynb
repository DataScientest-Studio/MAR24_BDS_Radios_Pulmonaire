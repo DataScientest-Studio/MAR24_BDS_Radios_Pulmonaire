{
 "cells": [
  {
   "cell_type": "code",
   "execution_count": 1,
   "metadata": {},
   "outputs": [],
   "source": [
    "import numpy as np\n",
    "import pandas as pd\n",
    "import cv2\n",
    "from tqdm import tqdm\n",
    "import os\n",
    "from sklearn.model_selection import train_test_split\n",
    "import matplotlib.pyplot as plt\n",
    "from sklearn.preprocessing import LabelEncoder\n",
    "from sklearn import metrics"
   ]
  },
  {
   "cell_type": "code",
   "execution_count": 2,
   "metadata": {},
   "outputs": [],
   "source": [
    "lung_seg_path = os.path.join(\"..\", \"data\", \"processed\",\"Lung Segmentation Data\")"
   ]
  },
  {
   "cell_type": "code",
   "execution_count": 3,
   "metadata": {},
   "outputs": [],
   "source": [
    "def load_images(folder_path, num_images, final_folder):\n",
    "    '''Cette fonction permet de charger les images qui seront utilisées pour le modèle LeNet.\n",
    "    folder_path est le chemin vers le dossier contenant l'ensemble des images (qui contient normalement 3 sous-dossiers)\n",
    "    num_images est le nombre d'images que l'on souhaite importer par sous dossier\n",
    "    final_folder est le dossier final dans lequel les images sont contenues : \"images\" pour les données brutes, \"lung_masks\" pour les masques...'''\n",
    "\n",
    "    images = []\n",
    "    labels = []\n",
    "\n",
    "    for subfolder in os.listdir(folder_path): # Je parcours les sous-dossiers (Covid, Non-covid, Normal)\n",
    "        subfolder_path = os.path.join(folder_path, subfolder, final_folder) # Les images se situent encore dans un sous dossier\n",
    "\n",
    "        for image in tqdm(os.listdir(subfolder_path)[:num_images]):\n",
    "            image_path = os.path.join(subfolder_path, image)\n",
    "            img = cv2.imread(image_path,  cv2.IMREAD_GRAYSCALE)\n",
    "            img_array = np.array(img)\n",
    "            images.append(img_array)\n",
    "            labels.append(subfolder)\n",
    "    \n",
    "    return images, labels"
   ]
  },
  {
   "cell_type": "code",
   "execution_count": 4,
   "metadata": {},
   "outputs": [
    {
     "name": "stderr",
     "output_type": "stream",
     "text": [
      "100%|██████████| 1000/1000 [00:01<00:00, 674.31it/s]\n",
      "100%|██████████| 1000/1000 [00:01<00:00, 746.27it/s]\n",
      "100%|██████████| 1000/1000 [00:01<00:00, 797.45it/s]\n"
     ]
    }
   ],
   "source": [
    "image, label = load_images(lung_seg_path, 1000, \"images\") # Images brutes"
   ]
  },
  {
   "cell_type": "code",
   "execution_count": 5,
   "metadata": {},
   "outputs": [
    {
     "name": "stderr",
     "output_type": "stream",
     "text": [
      "100%|██████████| 1000/1000 [00:07<00:00, 141.15it/s]\n",
      "100%|██████████| 1000/1000 [00:08<00:00, 122.61it/s]\n",
      "100%|██████████| 1000/1000 [00:09<00:00, 109.41it/s]\n"
     ]
    }
   ],
   "source": [
    "image_norm, label_norm = load_images(lung_seg_path, 1000, \"MinMaxNormalized images\")"
   ]
  },
  {
   "cell_type": "code",
   "execution_count": 6,
   "metadata": {},
   "outputs": [
    {
     "name": "stderr",
     "output_type": "stream",
     "text": [
      "100%|██████████| 1000/1000 [00:06<00:00, 164.11it/s]\n",
      "100%|██████████| 1000/1000 [00:06<00:00, 151.82it/s]\n",
      "100%|██████████| 1000/1000 [00:05<00:00, 169.13it/s]\n"
     ]
    }
   ],
   "source": [
    "image_norm_hist, label_norm_hist = load_images(lung_seg_path, 1000, \"HistEgalNormalized images\")"
   ]
  },
  {
   "cell_type": "code",
   "execution_count": 7,
   "metadata": {},
   "outputs": [
    {
     "data": {
      "text/plain": [
       "(3000,)"
      ]
     },
     "execution_count": 7,
     "metadata": {},
     "output_type": "execute_result"
    }
   ],
   "source": [
    "# Transformation des labels pour ne plus avoir des strings\n",
    "label_encoder = LabelEncoder()\n",
    "targets_encoded = label_encoder.fit_transform(label) #COVID-19 =0, Non_COVID =1, Normal =2\n",
    "targets_encoded.shape"
   ]
  },
  {
   "cell_type": "code",
   "execution_count": 8,
   "metadata": {},
   "outputs": [
    {
     "data": {
      "text/plain": [
       "(3000,)"
      ]
     },
     "execution_count": 8,
     "metadata": {},
     "output_type": "execute_result"
    }
   ],
   "source": [
    "# Transformation des labels pour ne plus avoir des strings (Images normalisées MinMax)\n",
    "label_encoder_norm = LabelEncoder()\n",
    "targets_encoded_norm = label_encoder_norm.fit_transform(label_norm) #COVID-19 =0, Non_COVID =1, Normal =2\n",
    "targets_encoded_norm.shape"
   ]
  },
  {
   "cell_type": "code",
   "execution_count": 9,
   "metadata": {},
   "outputs": [
    {
     "data": {
      "text/plain": [
       "(3000,)"
      ]
     },
     "execution_count": 9,
     "metadata": {},
     "output_type": "execute_result"
    }
   ],
   "source": [
    "# Transformation des labels pour ne plus avoir des strings (Images normalisées HistEgal)\n",
    "label_encoder_norm_hist = LabelEncoder()\n",
    "targets_encoded_norm_hist = label_encoder_norm_hist.fit_transform(label_norm_hist) #COVID-19 =0, Non_COVID =1, Normal =2\n",
    "targets_encoded_norm_hist.shape"
   ]
  },
  {
   "cell_type": "code",
   "execution_count": 10,
   "metadata": {},
   "outputs": [
    {
     "data": {
      "text/plain": [
       "(3000, 256, 256, 1)"
      ]
     },
     "execution_count": 10,
     "metadata": {},
     "output_type": "execute_result"
    }
   ],
   "source": [
    "# Transformation de la liste d'images en tableau à 4 dimensions (nb_images, largeur, hauteur, profondeur)\n",
    "images_encoded = np.stack(image)\n",
    "images_encoded = images_encoded.reshape((-1, 256, 256, 1))\n",
    "images_encoded.shape"
   ]
  },
  {
   "cell_type": "code",
   "execution_count": 11,
   "metadata": {},
   "outputs": [
    {
     "data": {
      "text/plain": [
       "(3000, 256, 256, 1)"
      ]
     },
     "execution_count": 11,
     "metadata": {},
     "output_type": "execute_result"
    }
   ],
   "source": [
    "# Transformation de la liste d'images en tableau à 4 dimensions (nb_images, largeur, hauteur, profondeur) (Images normalisées)\n",
    "images_encoded_norm = np.stack(image_norm)\n",
    "images_encoded_norm = images_encoded_norm.reshape((-1, 256, 256, 1))\n",
    "images_encoded_norm.shape"
   ]
  },
  {
   "cell_type": "code",
   "execution_count": 12,
   "metadata": {},
   "outputs": [
    {
     "data": {
      "text/plain": [
       "(3000, 256, 256, 1)"
      ]
     },
     "execution_count": 12,
     "metadata": {},
     "output_type": "execute_result"
    }
   ],
   "source": [
    "# Transformation de la liste d'images en tableau à 4 dimensions (nb_images, largeur, hauteur, profondeur) (Images normalisées HistEgal)\n",
    "images_encoded_norm_hist = np.stack(image_norm_hist)\n",
    "images_encoded_norm_hist = images_encoded_norm_hist.reshape((-1, 256, 256, 1))\n",
    "images_encoded_norm_hist.shape"
   ]
  },
  {
   "cell_type": "code",
   "execution_count": 13,
   "metadata": {},
   "outputs": [],
   "source": [
    "# Séparation des données en ensembles de test et train\n",
    "X_train, X_test, y_train, y_test = train_test_split(images_encoded, targets_encoded, test_size=0.2, random_state=42)\n",
    "\n",
    "# Séparation des données en ensembles de test et train (Images normalisées)\n",
    "X_norm_train, X_norm_test, y_norm_train, y_norm_test = train_test_split(images_encoded_norm, targets_encoded_norm, test_size=0.2, random_state=42)\n",
    "\n",
    "# Séparation des données en ensembles de test et train (Images normalisées HistEgal)\n",
    "X_norm_hist_train, X_norm_hist_test, y_norm_hist_train, y_norm_hist_test = train_test_split(images_encoded_norm_hist, targets_encoded_norm_hist, test_size=0.2, random_state=42)"
   ]
  },
  {
   "cell_type": "code",
   "execution_count": 14,
   "metadata": {},
   "outputs": [],
   "source": [
    "from keras.utils import to_categorical"
   ]
  },
  {
   "cell_type": "code",
   "execution_count": 15,
   "metadata": {},
   "outputs": [],
   "source": [
    "# Labels en vecteurs catégoriels binaires\n",
    "y_train = to_categorical(y_train)\n",
    "y_test = to_categorical(y_test)\n",
    "# Données de X comprises entre 0 et 1\n",
    "X_train = X_train / 255\n",
    "X_test = X_test / 255\n",
    "\n",
    "# Labels en vecteurs catégoriels binaires (Images normalisées)\n",
    "y_norm_train = to_categorical(y_norm_train)\n",
    "y_norm_test = to_categorical(y_norm_test)\n",
    "\n",
    "# Données de X comprises entre 0 et 1 (Images normalisées)\n",
    "X_norm_train = X_norm_train / 255\n",
    "X_norm_test = X_norm_test / 255\n",
    "\n",
    "# Labels en vecteurs catégoriels binaires (Images normalisées HistEgal)\n",
    "y_norm_hist_train = to_categorical(y_norm_hist_train)\n",
    "y_norm_hist_test = to_categorical(y_norm_hist_test)\n",
    "\n",
    "# Données de X comprises entre 0 et 1 (Images normalisées HistEgal)\n",
    "X_norm_hist_train = X_norm_hist_train / 255\n",
    "X_norm_hist_test = X_norm_hist_test / 255"
   ]
  },
  {
   "cell_type": "code",
   "execution_count": 16,
   "metadata": {},
   "outputs": [],
   "source": [
    "from tensorflow.keras.models import Sequential, Model\n",
    "from tensorflow.keras.layers import Dense, Activation, Input\n",
    "from tensorflow.keras.layers import Dropout\n",
    "from tensorflow.keras.layers import Flatten\n",
    "from tensorflow.keras.layers import Conv2D\n",
    "from tensorflow.keras.layers import MaxPooling2D"
   ]
  },
  {
   "cell_type": "code",
   "execution_count": 17,
   "metadata": {},
   "outputs": [
    {
     "name": "stderr",
     "output_type": "stream",
     "text": [
      "d:\\Nico\\Code\\MAR24_BDS_Radios_Pulmonaire\\.venv\\Lib\\site-packages\\keras\\src\\layers\\convolutional\\base_conv.py:107: UserWarning: Do not pass an `input_shape`/`input_dim` argument to a layer. When using Sequential models, prefer using an `Input(shape)` object as the first layer in the model instead.\n",
      "  super().__init__(activity_regularizer=activity_regularizer, **kwargs)\n"
     ]
    }
   ],
   "source": [
    "# Architecture du modèle\n",
    "inputs=Input(shape = (256, 256,1), name = \"Input\")\n",
    "\n",
    "\n",
    "conv_1 = Conv2D(filters = 30,                    # Nombre de filtres\n",
    "                kernel_size = (5, 5),            # Dimensions du noyau\n",
    "                padding = 'valid',               # Mode de Dépassement\n",
    "                input_shape = (28, 28, 1),       # Dimensions de l'image en entrée\n",
    "                activation = 'relu')             # Fonction d'activation\n",
    "\n",
    "max_pool_1 = MaxPooling2D(pool_size = (2, 2))\n",
    "\n",
    "conv_2 = Conv2D(filters = 16,                    \n",
    "                kernel_size = (3, 3),          \n",
    "                padding = 'valid',             \n",
    "                activation = 'relu')\n",
    "\n",
    "max_pool_2 = MaxPooling2D(pool_size = (2, 2))\n",
    "\n",
    "flatten = Flatten()\n",
    "\n",
    "dropout = Dropout(rate = 0.2)\n",
    "\n",
    "dense_1 = Dense(units = 128,\n",
    "                activation = 'relu')\n",
    "\n",
    "dense_2 = Dense(units = 3,\n",
    "                activation = 'softmax')\n",
    "x=conv_1(inputs)\n",
    "x=max_pool_1(x)\n",
    "x=conv_2(x)\n",
    "x=max_pool_2(x)\n",
    "\n",
    "\n",
    "x=dropout(x)\n",
    "x=flatten(x)\n",
    "x=dense_1(x)\n",
    "outputs=dense_2(x)"
   ]
  },
  {
   "cell_type": "code",
   "execution_count": 18,
   "metadata": {},
   "outputs": [
    {
     "name": "stdout",
     "output_type": "stream",
     "text": [
      "Epoch 1/16\n",
      "\u001b[1m10/10\u001b[0m \u001b[32m━━━━━━━━━━━━━━━━━━━━\u001b[0m\u001b[37m\u001b[0m \u001b[1m52s\u001b[0m 3s/step - accuracy: 0.3730 - loss: 2.4537 - val_accuracy: 0.4521 - val_loss: 1.0532\n",
      "Epoch 2/16\n",
      "\u001b[1m10/10\u001b[0m \u001b[32m━━━━━━━━━━━━━━━━━━━━\u001b[0m\u001b[37m\u001b[0m \u001b[1m21s\u001b[0m 2s/step - accuracy: 0.5852 - loss: 0.9893 - val_accuracy: 0.6833 - val_loss: 0.6602\n",
      "Epoch 3/16\n",
      "\u001b[1m10/10\u001b[0m \u001b[32m━━━━━━━━━━━━━━━━━━━━\u001b[0m\u001b[37m\u001b[0m \u001b[1m20s\u001b[0m 2s/step - accuracy: 0.7270 - loss: 0.6451 - val_accuracy: 0.7833 - val_loss: 0.5211\n",
      "Epoch 4/16\n",
      "\u001b[1m10/10\u001b[0m \u001b[32m━━━━━━━━━━━━━━━━━━━━\u001b[0m\u001b[37m\u001b[0m \u001b[1m22s\u001b[0m 2s/step - accuracy: 0.7883 - loss: 0.5518 - val_accuracy: 0.7937 - val_loss: 0.5042\n",
      "Epoch 5/16\n",
      "\u001b[1m10/10\u001b[0m \u001b[32m━━━━━━━━━━━━━━━━━━━━\u001b[0m\u001b[37m\u001b[0m \u001b[1m21s\u001b[0m 2s/step - accuracy: 0.8486 - loss: 0.4477 - val_accuracy: 0.7917 - val_loss: 0.5045\n",
      "Epoch 6/16\n",
      "\u001b[1m10/10\u001b[0m \u001b[32m━━━━━━━━━━━━━━━━━━━━\u001b[0m\u001b[37m\u001b[0m \u001b[1m21s\u001b[0m 2s/step - accuracy: 0.8364 - loss: 0.4579 - val_accuracy: 0.8104 - val_loss: 0.4614\n",
      "Epoch 7/16\n",
      "\u001b[1m10/10\u001b[0m \u001b[32m━━━━━━━━━━━━━━━━━━━━\u001b[0m\u001b[37m\u001b[0m \u001b[1m21s\u001b[0m 2s/step - accuracy: 0.8313 - loss: 0.4508 - val_accuracy: 0.7812 - val_loss: 0.5640\n",
      "Epoch 8/16\n",
      "\u001b[1m10/10\u001b[0m \u001b[32m━━━━━━━━━━━━━━━━━━━━\u001b[0m\u001b[37m\u001b[0m \u001b[1m21s\u001b[0m 2s/step - accuracy: 0.8331 - loss: 0.4633 - val_accuracy: 0.8313 - val_loss: 0.4463\n",
      "Epoch 9/16\n",
      "\u001b[1m10/10\u001b[0m \u001b[32m━━━━━━━━━━━━━━━━━━━━\u001b[0m\u001b[37m\u001b[0m \u001b[1m20s\u001b[0m 2s/step - accuracy: 0.8670 - loss: 0.3913 - val_accuracy: 0.8354 - val_loss: 0.4315\n",
      "Epoch 10/16\n",
      "\u001b[1m10/10\u001b[0m \u001b[32m━━━━━━━━━━━━━━━━━━━━\u001b[0m\u001b[37m\u001b[0m \u001b[1m21s\u001b[0m 2s/step - accuracy: 0.8917 - loss: 0.3337 - val_accuracy: 0.8354 - val_loss: 0.4152\n",
      "Epoch 11/16\n",
      "\u001b[1m10/10\u001b[0m \u001b[32m━━━━━━━━━━━━━━━━━━━━\u001b[0m\u001b[37m\u001b[0m \u001b[1m23s\u001b[0m 2s/step - accuracy: 0.8959 - loss: 0.2959 - val_accuracy: 0.8479 - val_loss: 0.4259\n",
      "Epoch 12/16\n",
      "\u001b[1m10/10\u001b[0m \u001b[32m━━━━━━━━━━━━━━━━━━━━\u001b[0m\u001b[37m\u001b[0m \u001b[1m21s\u001b[0m 2s/step - accuracy: 0.9214 - loss: 0.2429 - val_accuracy: 0.8604 - val_loss: 0.3725\n",
      "Epoch 13/16\n",
      "\u001b[1m10/10\u001b[0m \u001b[32m━━━━━━━━━━━━━━━━━━━━\u001b[0m\u001b[37m\u001b[0m \u001b[1m21s\u001b[0m 2s/step - accuracy: 0.9240 - loss: 0.2346 - val_accuracy: 0.8438 - val_loss: 0.4022\n",
      "Epoch 14/16\n",
      "\u001b[1m10/10\u001b[0m \u001b[32m━━━━━━━━━━━━━━━━━━━━\u001b[0m\u001b[37m\u001b[0m \u001b[1m21s\u001b[0m 2s/step - accuracy: 0.9361 - loss: 0.2225 - val_accuracy: 0.8625 - val_loss: 0.3954\n",
      "Epoch 15/16\n",
      "\u001b[1m10/10\u001b[0m \u001b[32m━━━━━━━━━━━━━━━━━━━━\u001b[0m\u001b[37m\u001b[0m \u001b[1m21s\u001b[0m 2s/step - accuracy: 0.9463 - loss: 0.1657 - val_accuracy: 0.8104 - val_loss: 0.5569\n",
      "Epoch 16/16\n",
      "\u001b[1m10/10\u001b[0m \u001b[32m━━━━━━━━━━━━━━━━━━━━\u001b[0m\u001b[37m\u001b[0m \u001b[1m21s\u001b[0m 2s/step - accuracy: 0.8828 - loss: 0.3126 - val_accuracy: 0.8292 - val_loss: 0.4260\n"
     ]
    }
   ],
   "source": [
    "lenet = Model(inputs = inputs, outputs = outputs) # Images brutes\n",
    "\n",
    "# Compilation\n",
    "lenet.compile(loss='categorical_crossentropy',  # fonction de perte\n",
    "              optimizer='adam',                 # algorithme de descente de gradient\n",
    "              metrics=['accuracy'])             # métrique d'évaluation\n",
    "\n",
    "training_history_lenet = lenet.fit(X_train, y_train,          # données\n",
    "                                   validation_split = 0.2,    # split de test\n",
    "                                   epochs = 16,               # nombre d'epochs\n",
    "                                   batch_size = 200)          # taille des batchs"
   ]
  },
  {
   "cell_type": "code",
   "execution_count": 19,
   "metadata": {},
   "outputs": [
    {
     "name": "stdout",
     "output_type": "stream",
     "text": [
      "\u001b[1m19/19\u001b[0m \u001b[32m━━━━━━━━━━━━━━━━━━━━\u001b[0m\u001b[37m\u001b[0m \u001b[1m2s\u001b[0m 78ms/step\n",
      "              precision    recall  f1-score   support\n",
      "\n",
      "           0       0.88      0.69      0.78       217\n",
      "           1       0.89      0.90      0.90       197\n",
      "           2       0.72      0.90      0.80       186\n",
      "\n",
      "    accuracy                           0.82       600\n",
      "   macro avg       0.83      0.83      0.83       600\n",
      "weighted avg       0.84      0.82      0.82       600\n",
      "\n"
     ]
    },
    {
     "data": {
      "text/html": [
       "<div>\n",
       "<style scoped>\n",
       "    .dataframe tbody tr th:only-of-type {\n",
       "        vertical-align: middle;\n",
       "    }\n",
       "\n",
       "    .dataframe tbody tr th {\n",
       "        vertical-align: top;\n",
       "    }\n",
       "\n",
       "    .dataframe thead th {\n",
       "        text-align: right;\n",
       "    }\n",
       "</style>\n",
       "<table border=\"1\" class=\"dataframe\">\n",
       "  <thead>\n",
       "    <tr style=\"text-align: right;\">\n",
       "      <th>col_0</th>\n",
       "      <th>0</th>\n",
       "      <th>1</th>\n",
       "      <th>2</th>\n",
       "    </tr>\n",
       "    <tr>\n",
       "      <th>row_0</th>\n",
       "      <th></th>\n",
       "      <th></th>\n",
       "      <th></th>\n",
       "    </tr>\n",
       "  </thead>\n",
       "  <tbody>\n",
       "    <tr>\n",
       "      <th>0</th>\n",
       "      <td>150</td>\n",
       "      <td>18</td>\n",
       "      <td>49</td>\n",
       "    </tr>\n",
       "    <tr>\n",
       "      <th>1</th>\n",
       "      <td>4</td>\n",
       "      <td>178</td>\n",
       "      <td>15</td>\n",
       "    </tr>\n",
       "    <tr>\n",
       "      <th>2</th>\n",
       "      <td>16</td>\n",
       "      <td>3</td>\n",
       "      <td>167</td>\n",
       "    </tr>\n",
       "  </tbody>\n",
       "</table>\n",
       "</div>"
      ],
      "text/plain": [
       "col_0    0    1    2\n",
       "row_0               \n",
       "0      150   18   49\n",
       "1        4  178   15\n",
       "2       16    3  167"
      ]
     },
     "execution_count": 19,
     "metadata": {},
     "output_type": "execute_result"
    }
   ],
   "source": [
    "all_val_accuracy=[]\n",
    "train_acc_lenet = training_history_lenet.history['accuracy']\n",
    "all_val_accuracy.append(training_history_lenet.history['val_accuracy'])\n",
    "\n",
    "\n",
    "# Results\n",
    "test_pred_lenet = lenet.predict(X_test)\n",
    "test_pred_lenet_class = test_pred_lenet.argmax(axis = 1)\n",
    "y_test_class = y_test.argmax(axis = 1)\n",
    "\n",
    "print(metrics.classification_report(y_test_class, test_pred_lenet_class))\n",
    "pd.crosstab(y_test_class, test_pred_lenet_class)"
   ]
  },
  {
   "cell_type": "code",
   "execution_count": 20,
   "metadata": {},
   "outputs": [
    {
     "name": "stdout",
     "output_type": "stream",
     "text": [
      "Epoch 1/16\n",
      "\u001b[1m10/10\u001b[0m \u001b[32m━━━━━━━━━━━━━━━━━━━━\u001b[0m\u001b[37m\u001b[0m \u001b[1m22s\u001b[0m 2s/step - accuracy: 0.8696 - loss: 0.3220 - val_accuracy: 0.8479 - val_loss: 0.4222\n",
      "Epoch 2/16\n",
      "\u001b[1m10/10\u001b[0m \u001b[32m━━━━━━━━━━━━━━━━━━━━\u001b[0m\u001b[37m\u001b[0m \u001b[1m23s\u001b[0m 2s/step - accuracy: 0.9464 - loss: 0.1475 - val_accuracy: 0.8521 - val_loss: 0.4106\n",
      "Epoch 3/16\n",
      "\u001b[1m10/10\u001b[0m \u001b[32m━━━━━━━━━━━━━━━━━━━━\u001b[0m\u001b[37m\u001b[0m \u001b[1m20s\u001b[0m 2s/step - accuracy: 0.9595 - loss: 0.1142 - val_accuracy: 0.8500 - val_loss: 0.4327\n",
      "Epoch 4/16\n",
      "\u001b[1m10/10\u001b[0m \u001b[32m━━━━━━━━━━━━━━━━━━━━\u001b[0m\u001b[37m\u001b[0m \u001b[1m21s\u001b[0m 2s/step - accuracy: 0.9699 - loss: 0.0997 - val_accuracy: 0.8479 - val_loss: 0.4542\n",
      "Epoch 5/16\n",
      "\u001b[1m10/10\u001b[0m \u001b[32m━━━━━━━━━━━━━━━━━━━━\u001b[0m\u001b[37m\u001b[0m \u001b[1m21s\u001b[0m 2s/step - accuracy: 0.9744 - loss: 0.0796 - val_accuracy: 0.8562 - val_loss: 0.4376\n",
      "Epoch 6/16\n",
      "\u001b[1m10/10\u001b[0m \u001b[32m━━━━━━━━━━━━━━━━━━━━\u001b[0m\u001b[37m\u001b[0m \u001b[1m21s\u001b[0m 2s/step - accuracy: 0.9870 - loss: 0.0579 - val_accuracy: 0.8521 - val_loss: 0.5186\n",
      "Epoch 7/16\n",
      "\u001b[1m10/10\u001b[0m \u001b[32m━━━━━━━━━━━━━━━━━━━━\u001b[0m\u001b[37m\u001b[0m \u001b[1m21s\u001b[0m 2s/step - accuracy: 0.9919 - loss: 0.0389 - val_accuracy: 0.8479 - val_loss: 0.5115\n",
      "Epoch 8/16\n",
      "\u001b[1m10/10\u001b[0m \u001b[32m━━━━━━━━━━━━━━━━━━━━\u001b[0m\u001b[37m\u001b[0m \u001b[1m21s\u001b[0m 2s/step - accuracy: 0.9940 - loss: 0.0305 - val_accuracy: 0.8438 - val_loss: 0.5126\n",
      "Epoch 9/16\n",
      "\u001b[1m10/10\u001b[0m \u001b[32m━━━━━━━━━━━━━━━━━━━━\u001b[0m\u001b[37m\u001b[0m \u001b[1m21s\u001b[0m 2s/step - accuracy: 0.9945 - loss: 0.0334 - val_accuracy: 0.8250 - val_loss: 0.7015\n",
      "Epoch 10/16\n",
      "\u001b[1m10/10\u001b[0m \u001b[32m━━━━━━━━━━━━━━━━━━━━\u001b[0m\u001b[37m\u001b[0m \u001b[1m21s\u001b[0m 2s/step - accuracy: 0.9910 - loss: 0.0473 - val_accuracy: 0.8417 - val_loss: 0.5920\n",
      "Epoch 11/16\n",
      "\u001b[1m10/10\u001b[0m \u001b[32m━━━━━━━━━━━━━━━━━━━━\u001b[0m\u001b[37m\u001b[0m \u001b[1m21s\u001b[0m 2s/step - accuracy: 0.9972 - loss: 0.0251 - val_accuracy: 0.8562 - val_loss: 0.6008\n",
      "Epoch 12/16\n",
      "\u001b[1m10/10\u001b[0m \u001b[32m━━━━━━━━━━━━━━━━━━━━\u001b[0m\u001b[37m\u001b[0m \u001b[1m20s\u001b[0m 2s/step - accuracy: 0.9962 - loss: 0.0168 - val_accuracy: 0.8458 - val_loss: 0.6960\n",
      "Epoch 13/16\n",
      "\u001b[1m10/10\u001b[0m \u001b[32m━━━━━━━━━━━━━━━━━━━━\u001b[0m\u001b[37m\u001b[0m \u001b[1m21s\u001b[0m 2s/step - accuracy: 0.9985 - loss: 0.0149 - val_accuracy: 0.8500 - val_loss: 0.6586\n",
      "Epoch 14/16\n",
      "\u001b[1m10/10\u001b[0m \u001b[32m━━━━━━━━━━━━━━━━━━━━\u001b[0m\u001b[37m\u001b[0m \u001b[1m21s\u001b[0m 2s/step - accuracy: 0.9994 - loss: 0.0061 - val_accuracy: 0.8583 - val_loss: 0.6480\n",
      "Epoch 15/16\n",
      "\u001b[1m10/10\u001b[0m \u001b[32m━━━━━━━━━━━━━━━━━━━━\u001b[0m\u001b[37m\u001b[0m \u001b[1m21s\u001b[0m 2s/step - accuracy: 1.0000 - loss: 0.0051 - val_accuracy: 0.8542 - val_loss: 0.6529\n",
      "Epoch 16/16\n",
      "\u001b[1m10/10\u001b[0m \u001b[32m━━━━━━━━━━━━━━━━━━━━\u001b[0m\u001b[37m\u001b[0m \u001b[1m21s\u001b[0m 2s/step - accuracy: 1.0000 - loss: 0.0040 - val_accuracy: 0.8625 - val_loss: 0.6354\n"
     ]
    }
   ],
   "source": [
    "lenet_norm = Model(inputs = inputs, outputs = outputs) # Images normalisées MinMax\n",
    "\n",
    "# Compilation\n",
    "lenet_norm.compile(loss='categorical_crossentropy',  # fonction de perte\n",
    "              optimizer='adam',                 # algorithme de descente de gradient\n",
    "              metrics=['accuracy'])             # métrique d'évaluation\n",
    "\n",
    "training_history_lenet_norm = lenet_norm.fit(X_norm_train, y_norm_train,          # données\n",
    "                                   validation_split = 0.2,    # split de test\n",
    "                                   epochs = 16,               # nombre d'epochs\n",
    "                                   batch_size = 200)          # taille des batchs"
   ]
  },
  {
   "cell_type": "code",
   "execution_count": 21,
   "metadata": {},
   "outputs": [
    {
     "name": "stdout",
     "output_type": "stream",
     "text": [
      "\u001b[1m19/19\u001b[0m \u001b[32m━━━━━━━━━━━━━━━━━━━━\u001b[0m\u001b[37m\u001b[0m \u001b[1m2s\u001b[0m 75ms/step\n",
      "              precision    recall  f1-score   support\n",
      "\n",
      "           0       0.85      0.82      0.84       217\n",
      "           1       0.91      0.90      0.91       197\n",
      "           2       0.81      0.85      0.83       186\n",
      "\n",
      "    accuracy                           0.86       600\n",
      "   macro avg       0.86      0.86      0.86       600\n",
      "weighted avg       0.86      0.86      0.86       600\n",
      "\n"
     ]
    },
    {
     "data": {
      "text/html": [
       "<div>\n",
       "<style scoped>\n",
       "    .dataframe tbody tr th:only-of-type {\n",
       "        vertical-align: middle;\n",
       "    }\n",
       "\n",
       "    .dataframe tbody tr th {\n",
       "        vertical-align: top;\n",
       "    }\n",
       "\n",
       "    .dataframe thead th {\n",
       "        text-align: right;\n",
       "    }\n",
       "</style>\n",
       "<table border=\"1\" class=\"dataframe\">\n",
       "  <thead>\n",
       "    <tr style=\"text-align: right;\">\n",
       "      <th>col_0</th>\n",
       "      <th>0</th>\n",
       "      <th>1</th>\n",
       "      <th>2</th>\n",
       "    </tr>\n",
       "    <tr>\n",
       "      <th>row_0</th>\n",
       "      <th></th>\n",
       "      <th></th>\n",
       "      <th></th>\n",
       "    </tr>\n",
       "  </thead>\n",
       "  <tbody>\n",
       "    <tr>\n",
       "      <th>0</th>\n",
       "      <td>179</td>\n",
       "      <td>12</td>\n",
       "      <td>26</td>\n",
       "    </tr>\n",
       "    <tr>\n",
       "      <th>1</th>\n",
       "      <td>8</td>\n",
       "      <td>178</td>\n",
       "      <td>11</td>\n",
       "    </tr>\n",
       "    <tr>\n",
       "      <th>2</th>\n",
       "      <td>23</td>\n",
       "      <td>5</td>\n",
       "      <td>158</td>\n",
       "    </tr>\n",
       "  </tbody>\n",
       "</table>\n",
       "</div>"
      ],
      "text/plain": [
       "col_0    0    1    2\n",
       "row_0               \n",
       "0      179   12   26\n",
       "1        8  178   11\n",
       "2       23    5  158"
      ]
     },
     "execution_count": 21,
     "metadata": {},
     "output_type": "execute_result"
    }
   ],
   "source": [
    "all_val_accuracy_norm=[]\n",
    "train_acc_lenet_norm = training_history_lenet_norm.history['accuracy']\n",
    "all_val_accuracy_norm.append(training_history_lenet_norm.history['val_accuracy'])\n",
    "\n",
    "\n",
    "# Results\n",
    "test_pred_lenet_norm = lenet_norm.predict(X_norm_test)\n",
    "test_pred_lenet_class_norm = test_pred_lenet_norm.argmax(axis = 1)\n",
    "y_test_class_norm = y_norm_test.argmax(axis = 1)\n",
    "\n",
    "print(metrics.classification_report(y_test_class_norm, test_pred_lenet_class_norm))\n",
    "pd.crosstab(y_test_class_norm, test_pred_lenet_class_norm)"
   ]
  },
  {
   "cell_type": "code",
   "execution_count": 22,
   "metadata": {},
   "outputs": [
    {
     "name": "stdout",
     "output_type": "stream",
     "text": [
      "Epoch 1/16\n",
      "\u001b[1m10/10\u001b[0m \u001b[32m━━━━━━━━━━━━━━━━━━━━\u001b[0m\u001b[37m\u001b[0m \u001b[1m26s\u001b[0m 2s/step - accuracy: 0.8784 - loss: 0.6044 - val_accuracy: 0.7896 - val_loss: 0.6129\n",
      "Epoch 2/16\n",
      "\u001b[1m10/10\u001b[0m \u001b[32m━━━━━━━━━━━━━━━━━━━━\u001b[0m\u001b[37m\u001b[0m \u001b[1m21s\u001b[0m 2s/step - accuracy: 0.9079 - loss: 0.2276 - val_accuracy: 0.8500 - val_loss: 0.4951\n",
      "Epoch 3/16\n",
      "\u001b[1m10/10\u001b[0m \u001b[32m━━━━━━━━━━━━━━━━━━━━\u001b[0m\u001b[37m\u001b[0m \u001b[1m21s\u001b[0m 2s/step - accuracy: 0.9698 - loss: 0.1375 - val_accuracy: 0.8625 - val_loss: 0.5145\n",
      "Epoch 4/16\n",
      "\u001b[1m10/10\u001b[0m \u001b[32m━━━━━━━━━━━━━━━━━━━━\u001b[0m\u001b[37m\u001b[0m \u001b[1m21s\u001b[0m 2s/step - accuracy: 0.9804 - loss: 0.0673 - val_accuracy: 0.8646 - val_loss: 0.5780\n",
      "Epoch 5/16\n",
      "\u001b[1m10/10\u001b[0m \u001b[32m━━━━━━━━━━━━━━━━━━━━\u001b[0m\u001b[37m\u001b[0m \u001b[1m21s\u001b[0m 2s/step - accuracy: 0.9909 - loss: 0.0414 - val_accuracy: 0.8667 - val_loss: 0.6028\n",
      "Epoch 6/16\n",
      "\u001b[1m10/10\u001b[0m \u001b[32m━━━━━━━━━━━━━━━━━━━━\u001b[0m\u001b[37m\u001b[0m \u001b[1m21s\u001b[0m 2s/step - accuracy: 0.9942 - loss: 0.0319 - val_accuracy: 0.8396 - val_loss: 0.6392\n",
      "Epoch 7/16\n",
      "\u001b[1m10/10\u001b[0m \u001b[32m━━━━━━━━━━━━━━━━━━━━\u001b[0m\u001b[37m\u001b[0m \u001b[1m21s\u001b[0m 2s/step - accuracy: 0.9938 - loss: 0.0304 - val_accuracy: 0.8708 - val_loss: 0.6667\n",
      "Epoch 8/16\n",
      "\u001b[1m10/10\u001b[0m \u001b[32m━━━━━━━━━━━━━━━━━━━━\u001b[0m\u001b[37m\u001b[0m \u001b[1m21s\u001b[0m 2s/step - accuracy: 0.9981 - loss: 0.0171 - val_accuracy: 0.8667 - val_loss: 0.7093\n",
      "Epoch 9/16\n",
      "\u001b[1m10/10\u001b[0m \u001b[32m━━━━━━━━━━━━━━━━━━━━\u001b[0m\u001b[37m\u001b[0m \u001b[1m21s\u001b[0m 2s/step - accuracy: 0.9984 - loss: 0.0123 - val_accuracy: 0.8646 - val_loss: 0.7082\n",
      "Epoch 10/16\n",
      "\u001b[1m10/10\u001b[0m \u001b[32m━━━━━━━━━━━━━━━━━━━━\u001b[0m\u001b[37m\u001b[0m \u001b[1m21s\u001b[0m 2s/step - accuracy: 0.9991 - loss: 0.0074 - val_accuracy: 0.8729 - val_loss: 0.7368\n",
      "Epoch 11/16\n",
      "\u001b[1m10/10\u001b[0m \u001b[32m━━━━━━━━━━━━━━━━━━━━\u001b[0m\u001b[37m\u001b[0m \u001b[1m21s\u001b[0m 2s/step - accuracy: 1.0000 - loss: 0.0052 - val_accuracy: 0.8667 - val_loss: 0.7723\n",
      "Epoch 12/16\n",
      "\u001b[1m10/10\u001b[0m \u001b[32m━━━━━━━━━━━━━━━━━━━━\u001b[0m\u001b[37m\u001b[0m \u001b[1m21s\u001b[0m 2s/step - accuracy: 1.0000 - loss: 0.0056 - val_accuracy: 0.8792 - val_loss: 0.8110\n",
      "Epoch 13/16\n",
      "\u001b[1m10/10\u001b[0m \u001b[32m━━━━━━━━━━━━━━━━━━━━\u001b[0m\u001b[37m\u001b[0m \u001b[1m21s\u001b[0m 2s/step - accuracy: 1.0000 - loss: 0.0044 - val_accuracy: 0.8604 - val_loss: 0.8230\n",
      "Epoch 14/16\n",
      "\u001b[1m10/10\u001b[0m \u001b[32m━━━━━━━━━━━━━━━━━━━━\u001b[0m\u001b[37m\u001b[0m \u001b[1m21s\u001b[0m 2s/step - accuracy: 1.0000 - loss: 0.0035 - val_accuracy: 0.8729 - val_loss: 0.8697\n",
      "Epoch 15/16\n",
      "\u001b[1m10/10\u001b[0m \u001b[32m━━━━━━━━━━━━━━━━━━━━\u001b[0m\u001b[37m\u001b[0m \u001b[1m21s\u001b[0m 2s/step - accuracy: 1.0000 - loss: 0.0029 - val_accuracy: 0.8667 - val_loss: 0.8533\n",
      "Epoch 16/16\n",
      "\u001b[1m10/10\u001b[0m \u001b[32m━━━━━━━━━━━━━━━━━━━━\u001b[0m\u001b[37m\u001b[0m \u001b[1m21s\u001b[0m 2s/step - accuracy: 1.0000 - loss: 0.0021 - val_accuracy: 0.8708 - val_loss: 0.8685\n"
     ]
    }
   ],
   "source": [
    "lenet_norm_hist = Model(inputs = inputs, outputs = outputs) # Images normalisées MinMax\n",
    "\n",
    "# Compilation\n",
    "lenet_norm_hist.compile(loss='categorical_crossentropy',  # fonction de perte\n",
    "              optimizer='adam',                 # algorithme de descente de gradient\n",
    "              metrics=['accuracy'])             # métrique d'évaluation\n",
    "\n",
    "training_history_lenet_norm_hist = lenet_norm_hist.fit(X_norm_hist_train, y_norm_hist_train,          # données\n",
    "                                   validation_split = 0.2,    # split de test\n",
    "                                   epochs = 16,               # nombre d'epochs\n",
    "                                   batch_size = 200)          # taille des batchs"
   ]
  },
  {
   "cell_type": "code",
   "execution_count": 23,
   "metadata": {},
   "outputs": [
    {
     "name": "stdout",
     "output_type": "stream",
     "text": [
      "\u001b[1m19/19\u001b[0m \u001b[32m━━━━━━━━━━━━━━━━━━━━\u001b[0m\u001b[37m\u001b[0m \u001b[1m2s\u001b[0m 84ms/step\n",
      "              precision    recall  f1-score   support\n",
      "\n",
      "           0       0.80      0.85      0.83       217\n",
      "           1       0.92      0.89      0.90       197\n",
      "           2       0.83      0.80      0.81       186\n",
      "\n",
      "    accuracy                           0.85       600\n",
      "   macro avg       0.85      0.85      0.85       600\n",
      "weighted avg       0.85      0.85      0.85       600\n",
      "\n"
     ]
    },
    {
     "data": {
      "text/html": [
       "<div>\n",
       "<style scoped>\n",
       "    .dataframe tbody tr th:only-of-type {\n",
       "        vertical-align: middle;\n",
       "    }\n",
       "\n",
       "    .dataframe tbody tr th {\n",
       "        vertical-align: top;\n",
       "    }\n",
       "\n",
       "    .dataframe thead th {\n",
       "        text-align: right;\n",
       "    }\n",
       "</style>\n",
       "<table border=\"1\" class=\"dataframe\">\n",
       "  <thead>\n",
       "    <tr style=\"text-align: right;\">\n",
       "      <th>col_0</th>\n",
       "      <th>0</th>\n",
       "      <th>1</th>\n",
       "      <th>2</th>\n",
       "    </tr>\n",
       "    <tr>\n",
       "      <th>row_0</th>\n",
       "      <th></th>\n",
       "      <th></th>\n",
       "      <th></th>\n",
       "    </tr>\n",
       "  </thead>\n",
       "  <tbody>\n",
       "    <tr>\n",
       "      <th>0</th>\n",
       "      <td>185</td>\n",
       "      <td>10</td>\n",
       "      <td>22</td>\n",
       "    </tr>\n",
       "    <tr>\n",
       "      <th>1</th>\n",
       "      <td>13</td>\n",
       "      <td>175</td>\n",
       "      <td>9</td>\n",
       "    </tr>\n",
       "    <tr>\n",
       "      <th>2</th>\n",
       "      <td>32</td>\n",
       "      <td>6</td>\n",
       "      <td>148</td>\n",
       "    </tr>\n",
       "  </tbody>\n",
       "</table>\n",
       "</div>"
      ],
      "text/plain": [
       "col_0    0    1    2\n",
       "row_0               \n",
       "0      185   10   22\n",
       "1       13  175    9\n",
       "2       32    6  148"
      ]
     },
     "execution_count": 23,
     "metadata": {},
     "output_type": "execute_result"
    }
   ],
   "source": [
    "all_val_accuracy_norm_hist=[]\n",
    "train_acc_lenet_norm_hist = training_history_lenet_norm_hist.history['accuracy']\n",
    "all_val_accuracy_norm_hist.append(training_history_lenet_norm_hist.history['val_accuracy'])\n",
    "\n",
    "\n",
    "# Results\n",
    "test_pred_lenet_norm_hist = lenet_norm_hist.predict(X_norm_hist_test)\n",
    "test_pred_lenet_class_norm_hist = test_pred_lenet_norm_hist.argmax(axis = 1)\n",
    "y_test_class_norm_hist = y_norm_hist_test.argmax(axis = 1)\n",
    "\n",
    "print(metrics.classification_report(y_test_class_norm_hist, test_pred_lenet_class_norm_hist))\n",
    "pd.crosstab(y_test_class_norm_hist, test_pred_lenet_class_norm_hist)"
   ]
  },
  {
   "cell_type": "code",
   "execution_count": 24,
   "metadata": {},
   "outputs": [
    {
     "data": {
      "text/plain": [
       "<matplotlib.legend.Legend at 0x2916f6bd820>"
      ]
     },
     "execution_count": 24,
     "metadata": {},
     "output_type": "execute_result"
    },
    {
     "data": {
      "image/png": "[encoded data removed]",
      "text/plain": [
       "<Figure size 640x480 with 1 Axes>"
      ]
     },
     "metadata": {},
     "output_type": "display_data"
    }
   ],
   "source": [
    "# Graphes combinés de l'ensemble des modèles\n",
    "plt.xlabel('Epochs')\n",
    "plt.ylabel('Accuracy')\n",
    "plt.plot(np.arange(1 , 17, 1),\n",
    "         all_val_accuracy[0], \n",
    "         label = 'LeNet Raw',\n",
    "         color = 'green')\n",
    "plt.plot(np.arange(1 , 17, 1),\n",
    "         all_val_accuracy_norm[0], \n",
    "         label = 'LeNet MinMax',\n",
    "         color = 'red')        \n",
    "plt.plot(np.arange(1 , 17, 1),\n",
    "         all_val_accuracy_norm_hist[0], \n",
    "         label = 'LeNet HistEgal',\n",
    "         color = 'blue')\n",
    "plt.legend()"
   ]
  }
 ],
 "metadata": {
  "kernelspec": {
   "display_name": ".venv",
   "language": "python",
   "name": "python3"
  },
  "language_info": {
   "codemirror_mode": {
    "name": "ipython",
    "version": 3
   },
   "file_extension": ".py",
   "mimetype": "text/x-python",
   "name": "python",
   "nbconvert_exporter": "python",
   "pygments_lexer": "ipython3",
   "version": "3.12.3"
  }
 },
 "nbformat": 4,
 "nbformat_minor": 2
}
