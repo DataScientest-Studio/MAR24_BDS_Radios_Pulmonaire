{
 "cells": [
  {
   "cell_type": "code",
   "execution_count": 1,
   "metadata": {},
   "outputs": [],
   "source": [
    "import numpy as np\n",
    "import pandas as pd\n",
    "import cv2\n",
    "from tqdm import tqdm\n",
    "import os\n",
    "from sklearn.model_selection import train_test_split\n",
    "import matplotlib.pyplot as plt\n",
    "from sklearn.preprocessing import LabelEncoder\n",
    "from sklearn import metrics"
   ]
  },
  {
   "cell_type": "code",
   "execution_count": 2,
   "metadata": {},
   "outputs": [],
   "source": [
    "lung_seg_path = os.path.join(\"..\", \"data\", \"processed\",\"Lung Segmentation Data\")"
   ]
  },
  {
   "cell_type": "code",
   "execution_count": 3,
   "metadata": {},
   "outputs": [],
   "source": [
    "def load_images(folder_path, num_images, final_folder):\n",
    "    '''Cette fonction permet de charger les images qui seront utilisées pour le modèle LeNet.\n",
    "    folder_path est le chemin vers le dossier contenant l'ensemble des images (qui contient normalement 3 sous-dossiers)\n",
    "    num_images est le nombre d'images que l'on souhaite importer par sous dossier\n",
    "    final_folder est le dossier final dans lequel les images sont contenues : \"images\" pour les données brutes, \"lung_masks\" pour les masques...'''\n",
    "\n",
    "    images = []\n",
    "    labels = []\n",
    "\n",
    "    for subfolder in os.listdir(folder_path): # Je parcours les sous-dossiers (Covid, Non-covid, Normal)\n",
    "        subfolder_path = os.path.join(folder_path, subfolder, final_folder) # Les images se situent encore dans un sous dossier\n",
    "\n",
    "        for image in tqdm(os.listdir(subfolder_path)[:num_images]):\n",
    "            image_path = os.path.join(subfolder_path, image)\n",
    "            img = cv2.imread(image_path,  cv2.IMREAD_GRAYSCALE)\n",
    "            img_array = np.array(img)\n",
    "            images.append(img_array)\n",
    "            labels.append(subfolder)\n",
    "    \n",
    "    return images, labels"
   ]
  },
  {
   "cell_type": "code",
   "execution_count": 4,
   "metadata": {},
   "outputs": [
    {
     "name": "stderr",
     "output_type": "stream",
     "text": [
      "  0%|          | 0/1000 [00:00<?, ?it/s]"
     ]
    },
    {
     "name": "stderr",
     "output_type": "stream",
     "text": [
      "100%|██████████| 1000/1000 [00:01<00:00, 671.14it/s]\n",
      "100%|██████████| 1000/1000 [00:01<00:00, 760.46it/s]\n",
      "100%|██████████| 1000/1000 [00:01<00:00, 738.01it/s]\n"
     ]
    }
   ],
   "source": [
    "image, label = load_images(lung_seg_path, 1000, \"images\") # Images brutes"
   ]
  },
  {
   "cell_type": "code",
   "execution_count": 5,
   "metadata": {},
   "outputs": [
    {
     "name": "stderr",
     "output_type": "stream",
     "text": [
      "  0%|          | 0/1000 [00:00<?, ?it/s]"
     ]
    },
    {
     "name": "stderr",
     "output_type": "stream",
     "text": [
      "100%|██████████| 1000/1000 [00:01<00:00, 513.41it/s]\n",
      "100%|██████████| 1000/1000 [00:02<00:00, 386.93it/s]\n",
      "100%|██████████| 1000/1000 [00:02<00:00, 406.79it/s]\n"
     ]
    }
   ],
   "source": [
    "image_norm, label_norm = load_images(lung_seg_path, 1000, \"MinMaxNormalized images\")"
   ]
  },
  {
   "cell_type": "code",
   "execution_count": 6,
   "metadata": {},
   "outputs": [
    {
     "name": "stderr",
     "output_type": "stream",
     "text": [
      "  0%|          | 0/1000 [00:00<?, ?it/s]"
     ]
    },
    {
     "name": "stderr",
     "output_type": "stream",
     "text": [
      "100%|██████████| 1000/1000 [00:01<00:00, 611.45it/s]\n",
      "100%|██████████| 1000/1000 [00:02<00:00, 348.93it/s]\n",
      "100%|██████████| 1000/1000 [00:03<00:00, 268.17it/s]\n"
     ]
    }
   ],
   "source": [
    "image_norm_hist, label_norm_hist = load_images(lung_seg_path, 1000, \"HistEgalNormalized images\")"
   ]
  },
  {
   "cell_type": "code",
   "execution_count": 7,
   "metadata": {},
   "outputs": [
    {
     "name": "stderr",
     "output_type": "stream",
     "text": [
      "100%|██████████| 1000/1000 [00:01<00:00, 688.70it/s]\n",
      "100%|██████████| 1000/1000 [00:01<00:00, 773.40it/s]\n",
      "100%|██████████| 1000/1000 [00:01<00:00, 798.72it/s]\n"
     ]
    }
   ],
   "source": [
    "image_norm_CLAHE, label_norm_CLAHE = load_images(lung_seg_path, 1000, \"CLAHE images\")"
   ]
  },
  {
   "cell_type": "code",
   "execution_count": 8,
   "metadata": {},
   "outputs": [
    {
     "data": {
      "text/plain": [
       "(3000,)"
      ]
     },
     "execution_count": 8,
     "metadata": {},
     "output_type": "execute_result"
    }
   ],
   "source": [
    "# Transformation des labels pour ne plus avoir des strings\n",
    "label_encoder = LabelEncoder()\n",
    "targets_encoded = label_encoder.fit_transform(label) #COVID-19 =0, Non_COVID =1, Normal =2\n",
    "targets_encoded.shape"
   ]
  },
  {
   "cell_type": "code",
   "execution_count": 9,
   "metadata": {},
   "outputs": [
    {
     "data": {
      "text/plain": [
       "(3000,)"
      ]
     },
     "execution_count": 9,
     "metadata": {},
     "output_type": "execute_result"
    }
   ],
   "source": [
    "# Transformation des labels pour ne plus avoir des strings (Images normalisées MinMax)\n",
    "label_encoder_norm = LabelEncoder()\n",
    "targets_encoded_norm = label_encoder_norm.fit_transform(label_norm) #COVID-19 =0, Non_COVID =1, Normal =2\n",
    "targets_encoded_norm.shape"
   ]
  },
  {
   "cell_type": "code",
   "execution_count": 10,
   "metadata": {},
   "outputs": [
    {
     "data": {
      "text/plain": [
       "(3000,)"
      ]
     },
     "execution_count": 10,
     "metadata": {},
     "output_type": "execute_result"
    }
   ],
   "source": [
    "# Transformation des labels pour ne plus avoir des strings (Images normalisées HistEgal)\n",
    "label_encoder_norm_hist = LabelEncoder()\n",
    "targets_encoded_norm_hist = label_encoder_norm_hist.fit_transform(label_norm_hist) #COVID-19 =0, Non_COVID =1, Normal =2\n",
    "targets_encoded_norm_hist.shape"
   ]
  },
  {
   "cell_type": "code",
   "execution_count": 11,
   "metadata": {},
   "outputs": [
    {
     "data": {
      "text/plain": [
       "(3000,)"
      ]
     },
     "execution_count": 11,
     "metadata": {},
     "output_type": "execute_result"
    }
   ],
   "source": [
    "# Transformation des labels pour ne plus avoir des strings (Images normalisées CLAHE)\n",
    "label_encoder_norm_CLAHE = LabelEncoder()\n",
    "targets_encoded_norm_CLAHE = label_encoder_norm_CLAHE.fit_transform(label_norm_CLAHE) #COVID-19 =0, Non_COVID =1, Normal =2\n",
    "targets_encoded_norm_CLAHE.shape"
   ]
  },
  {
   "cell_type": "code",
   "execution_count": 12,
   "metadata": {},
   "outputs": [
    {
     "data": {
      "text/plain": [
       "(3000, 256, 256, 1)"
      ]
     },
     "execution_count": 12,
     "metadata": {},
     "output_type": "execute_result"
    }
   ],
   "source": [
    "# Transformation de la liste d'images en tableau à 4 dimensions (nb_images, largeur, hauteur, profondeur)\n",
    "images_encoded = np.stack(image)\n",
    "images_encoded = images_encoded.reshape((-1, 256, 256, 1))\n",
    "images_encoded.shape"
   ]
  },
  {
   "cell_type": "code",
   "execution_count": 13,
   "metadata": {},
   "outputs": [
    {
     "data": {
      "text/plain": [
       "(3000, 256, 256, 1)"
      ]
     },
     "execution_count": 13,
     "metadata": {},
     "output_type": "execute_result"
    }
   ],
   "source": [
    "# Transformation de la liste d'images en tableau à 4 dimensions (nb_images, largeur, hauteur, profondeur) (Images normalisées)\n",
    "images_encoded_norm = np.stack(image_norm)\n",
    "images_encoded_norm = images_encoded_norm.reshape((-1, 256, 256, 1))\n",
    "images_encoded_norm.shape"
   ]
  },
  {
   "cell_type": "code",
   "execution_count": 14,
   "metadata": {},
   "outputs": [
    {
     "data": {
      "text/plain": [
       "(3000, 256, 256, 1)"
      ]
     },
     "execution_count": 14,
     "metadata": {},
     "output_type": "execute_result"
    }
   ],
   "source": [
    "# Transformation de la liste d'images en tableau à 4 dimensions (nb_images, largeur, hauteur, profondeur) (Images normalisées HistEgal)\n",
    "images_encoded_norm_hist = np.stack(image_norm_hist)\n",
    "images_encoded_norm_hist = images_encoded_norm_hist.reshape((-1, 256, 256, 1))\n",
    "images_encoded_norm_hist.shape"
   ]
  },
  {
   "cell_type": "code",
   "execution_count": 15,
   "metadata": {},
   "outputs": [
    {
     "data": {
      "text/plain": [
       "(3000, 256, 256, 1)"
      ]
     },
     "execution_count": 15,
     "metadata": {},
     "output_type": "execute_result"
    }
   ],
   "source": [
    "# Transformation de la liste d'images en tableau à 4 dimensions (nb_images, largeur, hauteur, profondeur) (Images normalisées CLAHE)\n",
    "images_encoded_norm_CLAHE = np.stack(image_norm_CLAHE)\n",
    "images_encoded_norm_CLAHE = images_encoded_norm_CLAHE.reshape((-1, 256, 256, 1))\n",
    "images_encoded_norm_CLAHE.shape"
   ]
  },
  {
   "cell_type": "code",
   "execution_count": 16,
   "metadata": {},
   "outputs": [],
   "source": [
    "# Séparation des données en ensembles de test et train\n",
    "X_train, X_test, y_train, y_test = train_test_split(images_encoded, targets_encoded, test_size=0.2, random_state=42)\n",
    "\n",
    "# Séparation des données en ensembles de test et train (Images normalisées)\n",
    "X_norm_train, X_norm_test, y_norm_train, y_norm_test = train_test_split(images_encoded_norm, targets_encoded_norm, test_size=0.2, random_state=42)\n",
    "\n",
    "# Séparation des données en ensembles de test et train (Images normalisées HistEgal)\n",
    "X_norm_hist_train, X_norm_hist_test, y_norm_hist_train, y_norm_hist_test = train_test_split(images_encoded_norm_hist, targets_encoded_norm_hist, test_size=0.2, random_state=42)\n",
    "\n",
    "# Séparation des données en ensembles de test et train (Images normalisées CLAHE)\n",
    "X_norm_CLAHE_train, X_norm_CLAHE_test, y_norm_CLAHE_train, y_norm_CLAHE_test = train_test_split(images_encoded_norm_CLAHE, targets_encoded_norm_CLAHE, test_size=0.2, random_state=42)"
   ]
  },
  {
   "cell_type": "code",
   "execution_count": 17,
   "metadata": {},
   "outputs": [],
   "source": [
    "from keras.utils import to_categorical"
   ]
  },
  {
   "cell_type": "code",
   "execution_count": 18,
   "metadata": {},
   "outputs": [],
   "source": [
    "# Labels en vecteurs catégoriels binaires\n",
    "y_train = to_categorical(y_train)\n",
    "y_test = to_categorical(y_test)\n",
    "# Données de X comprises entre 0 et 1\n",
    "X_train = X_train / 255\n",
    "X_test = X_test / 255\n",
    "\n",
    "# Labels en vecteurs catégoriels binaires (Images normalisées)\n",
    "y_norm_train = to_categorical(y_norm_train)\n",
    "y_norm_test = to_categorical(y_norm_test)\n",
    "\n",
    "# Données de X comprises entre 0 et 1 (Images normalisées)\n",
    "X_norm_train = X_norm_train / 255\n",
    "X_norm_test = X_norm_test / 255\n",
    "\n",
    "# Labels en vecteurs catégoriels binaires (Images normalisées HistEgal)\n",
    "y_norm_hist_train = to_categorical(y_norm_hist_train)\n",
    "y_norm_hist_test = to_categorical(y_norm_hist_test)\n",
    "\n",
    "# Données de X comprises entre 0 et 1 (Images normalisées HistEgal)\n",
    "X_norm_hist_train = X_norm_hist_train / 255\n",
    "X_norm_hist_test = X_norm_hist_test / 255\n",
    "\n",
    "# Labels en vecteurs catégoriels binaires (Images normalisées HistEgal)\n",
    "y_norm_CLAHE_train = to_categorical(y_norm_CLAHE_train)\n",
    "y_norm_CLAHE_test = to_categorical(y_norm_CLAHE_test)\n",
    "\n",
    "# Données de X comprises entre 0 et 1 (Images normalisées HistEgal)\n",
    "X_norm_CLAHE_train = X_norm_CLAHE_train / 255\n",
    "X_norm_CLAHE_test = X_norm_CLAHE_test / 255"
   ]
  },
  {
   "cell_type": "code",
   "execution_count": 19,
   "metadata": {},
   "outputs": [],
   "source": [
    "from tensorflow.keras.models import Sequential, Model\n",
    "from tensorflow.keras.layers import Dense, Activation, Input\n",
    "from tensorflow.keras.layers import Dropout\n",
    "from tensorflow.keras.layers import Flatten\n",
    "from tensorflow.keras.layers import Conv2D\n",
    "from tensorflow.keras.layers import MaxPooling2D"
   ]
  },
  {
   "cell_type": "code",
   "execution_count": 20,
   "metadata": {},
   "outputs": [
    {
     "name": "stderr",
     "output_type": "stream",
     "text": [
      "d:\\Nico\\Code\\MAR24_BDS_Radios_Pulmonaire\\.venv\\Lib\\site-packages\\keras\\src\\layers\\convolutional\\base_conv.py:107: UserWarning: Do not pass an `input_shape`/`input_dim` argument to a layer. When using Sequential models, prefer using an `Input(shape)` object as the first layer in the model instead.\n",
      "  super().__init__(activity_regularizer=activity_regularizer, **kwargs)\n"
     ]
    }
   ],
   "source": [
    "# Architecture du modèle\n",
    "inputs=Input(shape = (256, 256,1), name = \"Input\")\n",
    "\n",
    "\n",
    "conv_1 = Conv2D(filters = 30,                    # Nombre de filtres\n",
    "                kernel_size = (5, 5),            # Dimensions du noyau\n",
    "                padding = 'valid',               # Mode de Dépassement\n",
    "                input_shape = (28, 28, 1),       # Dimensions de l'image en entrée\n",
    "                activation = 'relu')             # Fonction d'activation\n",
    "\n",
    "max_pool_1 = MaxPooling2D(pool_size = (2, 2))\n",
    "\n",
    "conv_2 = Conv2D(filters = 16,                    \n",
    "                kernel_size = (3, 3),          \n",
    "                padding = 'valid',             \n",
    "                activation = 'relu')\n",
    "\n",
    "max_pool_2 = MaxPooling2D(pool_size = (2, 2))\n",
    "\n",
    "flatten = Flatten()\n",
    "\n",
    "dropout = Dropout(rate = 0.2)\n",
    "\n",
    "dense_1 = Dense(units = 128,\n",
    "                activation = 'relu')\n",
    "\n",
    "dense_2 = Dense(units = 3,\n",
    "                activation = 'softmax')\n",
    "x=conv_1(inputs)\n",
    "x=max_pool_1(x)\n",
    "x=conv_2(x)\n",
    "x=max_pool_2(x)\n",
    "\n",
    "\n",
    "x=dropout(x)\n",
    "x=flatten(x)\n",
    "x=dense_1(x)\n",
    "outputs=dense_2(x)"
   ]
  },
  {
   "cell_type": "code",
   "execution_count": 21,
   "metadata": {},
   "outputs": [
    {
     "name": "stdout",
     "output_type": "stream",
     "text": [
      "Epoch 1/20\n",
      "\u001b[1m10/10\u001b[0m \u001b[32m━━━━━━━━━━━━━━━━━━━━\u001b[0m\u001b[37m\u001b[0m \u001b[1m88s\u001b[0m 5s/step - accuracy: 0.3972 - loss: 1.2553 - val_accuracy: 0.7312 - val_loss: 0.7387\n",
      "Epoch 2/20\n",
      "\u001b[1m10/10\u001b[0m \u001b[32m━━━━━━━━━━━━━━━━━━━━\u001b[0m\u001b[37m\u001b[0m \u001b[1m21s\u001b[0m 2s/step - accuracy: 0.7555 - loss: 0.6675 - val_accuracy: 0.7625 - val_loss: 0.5621\n",
      "Epoch 3/20\n",
      "\u001b[1m10/10\u001b[0m \u001b[32m━━━━━━━━━━━━━━━━━━━━\u001b[0m\u001b[37m\u001b[0m \u001b[1m24s\u001b[0m 2s/step - accuracy: 0.8108 - loss: 0.5168 - val_accuracy: 0.7708 - val_loss: 0.5610\n",
      "Epoch 4/20\n",
      "\u001b[1m10/10\u001b[0m \u001b[32m━━━━━━━━━━━━━━━━━━━━\u001b[0m\u001b[37m\u001b[0m \u001b[1m21s\u001b[0m 2s/step - accuracy: 0.7958 - loss: 0.5512 - val_accuracy: 0.8438 - val_loss: 0.4081\n",
      "Epoch 5/20\n",
      "\u001b[1m10/10\u001b[0m \u001b[32m━━━━━━━━━━━━━━━━━━━━\u001b[0m\u001b[37m\u001b[0m \u001b[1m22s\u001b[0m 2s/step - accuracy: 0.8678 - loss: 0.4042 - val_accuracy: 0.8479 - val_loss: 0.3869\n",
      "Epoch 6/20\n",
      "\u001b[1m10/10\u001b[0m \u001b[32m━━━━━━━━━━━━━━━━━━━━\u001b[0m\u001b[37m\u001b[0m \u001b[1m24s\u001b[0m 2s/step - accuracy: 0.8788 - loss: 0.3797 - val_accuracy: 0.8438 - val_loss: 0.3921\n",
      "Epoch 7/20\n",
      "\u001b[1m10/10\u001b[0m \u001b[32m━━━━━━━━━━━━━━━━━━━━\u001b[0m\u001b[37m\u001b[0m \u001b[1m23s\u001b[0m 2s/step - accuracy: 0.8934 - loss: 0.3425 - val_accuracy: 0.8562 - val_loss: 0.3781\n",
      "Epoch 8/20\n",
      "\u001b[1m10/10\u001b[0m \u001b[32m━━━━━━━━━━━━━━━━━━━━\u001b[0m\u001b[37m\u001b[0m \u001b[1m21s\u001b[0m 2s/step - accuracy: 0.9033 - loss: 0.2956 - val_accuracy: 0.8417 - val_loss: 0.4360\n",
      "Epoch 9/20\n",
      "\u001b[1m10/10\u001b[0m \u001b[32m━━━━━━━━━━━━━━━━━━━━\u001b[0m\u001b[37m\u001b[0m \u001b[1m24s\u001b[0m 2s/step - accuracy: 0.9195 - loss: 0.2825 - val_accuracy: 0.8708 - val_loss: 0.3775\n",
      "Epoch 10/20\n",
      "\u001b[1m10/10\u001b[0m \u001b[32m━━━━━━━━━━━━━━━━━━━━\u001b[0m\u001b[37m\u001b[0m \u001b[1m24s\u001b[0m 2s/step - accuracy: 0.9306 - loss: 0.2303 - val_accuracy: 0.8542 - val_loss: 0.3887\n",
      "Epoch 11/20\n",
      "\u001b[1m10/10\u001b[0m \u001b[32m━━━━━━━━━━━━━━━━━━━━\u001b[0m\u001b[37m\u001b[0m \u001b[1m24s\u001b[0m 2s/step - accuracy: 0.9386 - loss: 0.2114 - val_accuracy: 0.8708 - val_loss: 0.3717\n",
      "Epoch 12/20\n",
      "\u001b[1m10/10\u001b[0m \u001b[32m━━━━━━━━━━━━━━━━━━━━\u001b[0m\u001b[37m\u001b[0m \u001b[1m21s\u001b[0m 2s/step - accuracy: 0.9462 - loss: 0.1935 - val_accuracy: 0.8500 - val_loss: 0.3889\n",
      "Epoch 13/20\n",
      "\u001b[1m10/10\u001b[0m \u001b[32m━━━━━━━━━━━━━━━━━━━━\u001b[0m\u001b[37m\u001b[0m \u001b[1m22s\u001b[0m 2s/step - accuracy: 0.9459 - loss: 0.1785 - val_accuracy: 0.8604 - val_loss: 0.3744\n",
      "Epoch 14/20\n",
      "\u001b[1m10/10\u001b[0m \u001b[32m━━━━━━━━━━━━━━━━━━━━\u001b[0m\u001b[37m\u001b[0m \u001b[1m23s\u001b[0m 2s/step - accuracy: 0.9626 - loss: 0.1463 - val_accuracy: 0.8625 - val_loss: 0.3965\n",
      "Epoch 15/20\n",
      "\u001b[1m10/10\u001b[0m \u001b[32m━━━━━━━━━━━━━━━━━━━━\u001b[0m\u001b[37m\u001b[0m \u001b[1m20s\u001b[0m 2s/step - accuracy: 0.9695 - loss: 0.1249 - val_accuracy: 0.8583 - val_loss: 0.3731\n",
      "Epoch 16/20\n",
      "\u001b[1m10/10\u001b[0m \u001b[32m━━━━━━━━━━━━━━━━━━━━\u001b[0m\u001b[37m\u001b[0m \u001b[1m23s\u001b[0m 2s/step - accuracy: 0.9517 - loss: 0.1336 - val_accuracy: 0.8667 - val_loss: 0.4128\n",
      "Epoch 17/20\n",
      "\u001b[1m10/10\u001b[0m \u001b[32m━━━━━━━━━━━━━━━━━━━━\u001b[0m\u001b[37m\u001b[0m \u001b[1m23s\u001b[0m 2s/step - accuracy: 0.9710 - loss: 0.1089 - val_accuracy: 0.8562 - val_loss: 0.4650\n",
      "Epoch 18/20\n",
      "\u001b[1m10/10\u001b[0m \u001b[32m━━━━━━━━━━━━━━━━━━━━\u001b[0m\u001b[37m\u001b[0m \u001b[1m21s\u001b[0m 2s/step - accuracy: 0.9704 - loss: 0.1071 - val_accuracy: 0.8625 - val_loss: 0.4091\n",
      "Epoch 19/20\n",
      "\u001b[1m10/10\u001b[0m \u001b[32m━━━━━━━━━━━━━━━━━━━━\u001b[0m\u001b[37m\u001b[0m \u001b[1m21s\u001b[0m 2s/step - accuracy: 0.9823 - loss: 0.0717 - val_accuracy: 0.8625 - val_loss: 0.4135\n",
      "Epoch 20/20\n",
      "\u001b[1m10/10\u001b[0m \u001b[32m━━━━━━━━━━━━━━━━━━━━\u001b[0m\u001b[37m\u001b[0m \u001b[1m22s\u001b[0m 2s/step - accuracy: 0.9867 - loss: 0.0701 - val_accuracy: 0.8500 - val_loss: 0.4466\n"
     ]
    }
   ],
   "source": [
    "lenet = Model(inputs = inputs, outputs = outputs) # Images brutes\n",
    "\n",
    "# Compilation\n",
    "lenet.compile(loss='categorical_crossentropy',  # fonction de perte\n",
    "              optimizer='adam',                 # algorithme de descente de gradient\n",
    "              metrics=['accuracy'])             # métrique d'évaluation\n",
    "\n",
    "training_history_lenet = lenet.fit(X_train, y_train,          # données\n",
    "                                   validation_split = 0.2,    # split de test\n",
    "                                   epochs = 20,               # nombre d'epochs\n",
    "                                   batch_size = 200)          # taille des batchs"
   ]
  },
  {
   "cell_type": "code",
   "execution_count": 22,
   "metadata": {},
   "outputs": [
    {
     "name": "stdout",
     "output_type": "stream",
     "text": [
      "\u001b[1m19/19\u001b[0m \u001b[32m━━━━━━━━━━━━━━━━━━━━\u001b[0m\u001b[37m\u001b[0m \u001b[1m2s\u001b[0m 80ms/step\n",
      "              precision    recall  f1-score   support\n",
      "\n",
      "           0       0.84      0.87      0.86       217\n",
      "           1       0.88      0.91      0.89       197\n",
      "           2       0.87      0.80      0.83       186\n",
      "\n",
      "    accuracy                           0.86       600\n",
      "   macro avg       0.86      0.86      0.86       600\n",
      "weighted avg       0.86      0.86      0.86       600\n",
      "\n"
     ]
    },
    {
     "data": {
      "text/html": [
       "<div>\n",
       "<style scoped>\n",
       "    .dataframe tbody tr th:only-of-type {\n",
       "        vertical-align: middle;\n",
       "    }\n",
       "\n",
       "    .dataframe tbody tr th {\n",
       "        vertical-align: top;\n",
       "    }\n",
       "\n",
       "    .dataframe thead th {\n",
       "        text-align: right;\n",
       "    }\n",
       "</style>\n",
       "<table border=\"1\" class=\"dataframe\">\n",
       "  <thead>\n",
       "    <tr style=\"text-align: right;\">\n",
       "      <th>col_0</th>\n",
       "      <th>0</th>\n",
       "      <th>1</th>\n",
       "      <th>2</th>\n",
       "    </tr>\n",
       "    <tr>\n",
       "      <th>row_0</th>\n",
       "      <th></th>\n",
       "      <th></th>\n",
       "      <th></th>\n",
       "    </tr>\n",
       "  </thead>\n",
       "  <tbody>\n",
       "    <tr>\n",
       "      <th>0</th>\n",
       "      <td>189</td>\n",
       "      <td>14</td>\n",
       "      <td>14</td>\n",
       "    </tr>\n",
       "    <tr>\n",
       "      <th>1</th>\n",
       "      <td>9</td>\n",
       "      <td>179</td>\n",
       "      <td>9</td>\n",
       "    </tr>\n",
       "    <tr>\n",
       "      <th>2</th>\n",
       "      <td>26</td>\n",
       "      <td>11</td>\n",
       "      <td>149</td>\n",
       "    </tr>\n",
       "  </tbody>\n",
       "</table>\n",
       "</div>"
      ],
      "text/plain": [
       "col_0    0    1    2\n",
       "row_0               \n",
       "0      189   14   14\n",
       "1        9  179    9\n",
       "2       26   11  149"
      ]
     },
     "execution_count": 22,
     "metadata": {},
     "output_type": "execute_result"
    }
   ],
   "source": [
    "all_val_accuracy=[]\n",
    "train_acc_lenet = training_history_lenet.history['accuracy']\n",
    "all_val_accuracy.append(training_history_lenet.history['val_accuracy'])\n",
    "\n",
    "\n",
    "# Results\n",
    "test_pred_lenet = lenet.predict(X_test)\n",
    "test_pred_lenet_class = test_pred_lenet.argmax(axis = 1)\n",
    "y_test_class = y_test.argmax(axis = 1)\n",
    "\n",
    "print(metrics.classification_report(y_test_class, test_pred_lenet_class))\n",
    "pd.crosstab(y_test_class, test_pred_lenet_class)"
   ]
  },
  {
   "cell_type": "code",
   "execution_count": 23,
   "metadata": {},
   "outputs": [
    {
     "name": "stdout",
     "output_type": "stream",
     "text": [
      "Epoch 1/20\n",
      "\u001b[1m10/10\u001b[0m \u001b[32m━━━━━━━━━━━━━━━━━━━━\u001b[0m\u001b[37m\u001b[0m \u001b[1m23s\u001b[0m 2s/step - accuracy: 0.7833 - loss: 1.0303 - val_accuracy: 0.7812 - val_loss: 0.5975\n",
      "Epoch 2/20\n",
      "\u001b[1m10/10\u001b[0m \u001b[32m━━━━━━━━━━━━━━━━━━━━\u001b[0m\u001b[37m\u001b[0m \u001b[1m20s\u001b[0m 2s/step - accuracy: 0.8443 - loss: 0.4365 - val_accuracy: 0.8229 - val_loss: 0.5081\n",
      "Epoch 3/20\n",
      "\u001b[1m10/10\u001b[0m \u001b[32m━━━━━━━━━━━━━━━━━━━━\u001b[0m\u001b[37m\u001b[0m \u001b[1m20s\u001b[0m 2s/step - accuracy: 0.8837 - loss: 0.3654 - val_accuracy: 0.8438 - val_loss: 0.4601\n",
      "Epoch 4/20\n",
      "\u001b[1m10/10\u001b[0m \u001b[32m━━━━━━━━━━━━━━━━━━━━\u001b[0m\u001b[37m\u001b[0m \u001b[1m20s\u001b[0m 2s/step - accuracy: 0.9051 - loss: 0.2967 - val_accuracy: 0.8396 - val_loss: 0.4531\n",
      "Epoch 5/20\n",
      "\u001b[1m10/10\u001b[0m \u001b[32m━━━━━━━━━━━━━━━━━━━━\u001b[0m\u001b[37m\u001b[0m \u001b[1m20s\u001b[0m 2s/step - accuracy: 0.9122 - loss: 0.2597 - val_accuracy: 0.8333 - val_loss: 0.4355\n",
      "Epoch 6/20\n",
      "\u001b[1m10/10\u001b[0m \u001b[32m━━━━━━━━━━━━━━━━━━━━\u001b[0m\u001b[37m\u001b[0m \u001b[1m20s\u001b[0m 2s/step - accuracy: 0.9261 - loss: 0.2211 - val_accuracy: 0.8333 - val_loss: 0.4468\n",
      "Epoch 7/20\n",
      "\u001b[1m10/10\u001b[0m \u001b[32m━━━━━━━━━━━━━━━━━━━━\u001b[0m\u001b[37m\u001b[0m \u001b[1m20s\u001b[0m 2s/step - accuracy: 0.9206 - loss: 0.2192 - val_accuracy: 0.8604 - val_loss: 0.4321\n",
      "Epoch 8/20\n",
      "\u001b[1m10/10\u001b[0m \u001b[32m━━━━━━━━━━━━━━━━━━━━\u001b[0m\u001b[37m\u001b[0m \u001b[1m20s\u001b[0m 2s/step - accuracy: 0.9464 - loss: 0.1862 - val_accuracy: 0.8396 - val_loss: 0.4622\n",
      "Epoch 9/20\n",
      "\u001b[1m10/10\u001b[0m \u001b[32m━━━━━━━━━━━━━━━━━━━━\u001b[0m\u001b[37m\u001b[0m \u001b[1m20s\u001b[0m 2s/step - accuracy: 0.9374 - loss: 0.1771 - val_accuracy: 0.8500 - val_loss: 0.4424\n",
      "Epoch 10/20\n",
      "\u001b[1m10/10\u001b[0m \u001b[32m━━━━━━━━━━━━━━━━━━━━\u001b[0m\u001b[37m\u001b[0m \u001b[1m20s\u001b[0m 2s/step - accuracy: 0.9604 - loss: 0.1419 - val_accuracy: 0.8479 - val_loss: 0.4704\n",
      "Epoch 11/20\n",
      "\u001b[1m10/10\u001b[0m \u001b[32m━━━━━━━━━━━━━━━━━━━━\u001b[0m\u001b[37m\u001b[0m \u001b[1m20s\u001b[0m 2s/step - accuracy: 0.9589 - loss: 0.1306 - val_accuracy: 0.8542 - val_loss: 0.4391\n",
      "Epoch 12/20\n",
      "\u001b[1m10/10\u001b[0m \u001b[32m━━━━━━━━━━━━━━━━━━━━\u001b[0m\u001b[37m\u001b[0m \u001b[1m20s\u001b[0m 2s/step - accuracy: 0.9685 - loss: 0.1126 - val_accuracy: 0.8667 - val_loss: 0.4297\n",
      "Epoch 13/20\n",
      "\u001b[1m10/10\u001b[0m \u001b[32m━━━━━━━━━━━━━━━━━━━━\u001b[0m\u001b[37m\u001b[0m \u001b[1m20s\u001b[0m 2s/step - accuracy: 0.9746 - loss: 0.0846 - val_accuracy: 0.8604 - val_loss: 0.4335\n",
      "Epoch 14/20\n",
      "\u001b[1m10/10\u001b[0m \u001b[32m━━━━━━━━━━━━━━━━━━━━\u001b[0m\u001b[37m\u001b[0m \u001b[1m20s\u001b[0m 2s/step - accuracy: 0.9834 - loss: 0.0718 - val_accuracy: 0.8562 - val_loss: 0.4639\n",
      "Epoch 15/20\n",
      "\u001b[1m10/10\u001b[0m \u001b[32m━━━━━━━━━━━━━━━━━━━━\u001b[0m\u001b[37m\u001b[0m \u001b[1m20s\u001b[0m 2s/step - accuracy: 0.9875 - loss: 0.0636 - val_accuracy: 0.8667 - val_loss: 0.4791\n",
      "Epoch 16/20\n",
      "\u001b[1m10/10\u001b[0m \u001b[32m━━━━━━━━━━━━━━━━━━━━\u001b[0m\u001b[37m\u001b[0m \u001b[1m20s\u001b[0m 2s/step - accuracy: 0.9844 - loss: 0.0611 - val_accuracy: 0.8625 - val_loss: 0.4433\n",
      "Epoch 17/20\n",
      "\u001b[1m10/10\u001b[0m \u001b[32m━━━━━━━━━━━━━━━━━━━━\u001b[0m\u001b[37m\u001b[0m \u001b[1m20s\u001b[0m 2s/step - accuracy: 0.9924 - loss: 0.0460 - val_accuracy: 0.8667 - val_loss: 0.4755\n",
      "Epoch 18/20\n",
      "\u001b[1m10/10\u001b[0m \u001b[32m━━━━━━━━━━━━━━━━━━━━\u001b[0m\u001b[37m\u001b[0m \u001b[1m20s\u001b[0m 2s/step - accuracy: 0.9891 - loss: 0.0471 - val_accuracy: 0.8687 - val_loss: 0.4690\n",
      "Epoch 19/20\n",
      "\u001b[1m10/10\u001b[0m \u001b[32m━━━━━━━━━━━━━━━━━━━━\u001b[0m\u001b[37m\u001b[0m \u001b[1m20s\u001b[0m 2s/step - accuracy: 0.9906 - loss: 0.0407 - val_accuracy: 0.8625 - val_loss: 0.4789\n",
      "Epoch 20/20\n",
      "\u001b[1m10/10\u001b[0m \u001b[32m━━━━━━━━━━━━━━━━━━━━\u001b[0m\u001b[37m\u001b[0m \u001b[1m21s\u001b[0m 2s/step - accuracy: 0.9933 - loss: 0.0405 - val_accuracy: 0.8771 - val_loss: 0.4885\n"
     ]
    }
   ],
   "source": [
    "lenet_norm = Model(inputs = inputs, outputs = outputs) # Images normalisées MinMax\n",
    "\n",
    "# Compilation\n",
    "lenet_norm.compile(loss='categorical_crossentropy',  # fonction de perte\n",
    "              optimizer='adam',                 # algorithme de descente de gradient\n",
    "              metrics=['accuracy'])             # métrique d'évaluation\n",
    "\n",
    "training_history_lenet_norm = lenet_norm.fit(X_norm_train, y_norm_train,          # données\n",
    "                                   validation_split = 0.2,    # split de test\n",
    "                                   epochs = 20,               # nombre d'epochs\n",
    "                                   batch_size = 200)          # taille des batchs"
   ]
  },
  {
   "cell_type": "code",
   "execution_count": 24,
   "metadata": {},
   "outputs": [
    {
     "name": "stdout",
     "output_type": "stream",
     "text": [
      "\u001b[1m19/19\u001b[0m \u001b[32m━━━━━━━━━━━━━━━━━━━━\u001b[0m\u001b[37m\u001b[0m \u001b[1m2s\u001b[0m 80ms/step\n",
      "              precision    recall  f1-score   support\n",
      "\n",
      "           0       0.89      0.81      0.85       217\n",
      "           1       0.90      0.91      0.91       197\n",
      "           2       0.80      0.88      0.83       186\n",
      "\n",
      "    accuracy                           0.86       600\n",
      "   macro avg       0.86      0.87      0.86       600\n",
      "weighted avg       0.87      0.86      0.86       600\n",
      "\n"
     ]
    },
    {
     "data": {
      "text/html": [
       "<div>\n",
       "<style scoped>\n",
       "    .dataframe tbody tr th:only-of-type {\n",
       "        vertical-align: middle;\n",
       "    }\n",
       "\n",
       "    .dataframe tbody tr th {\n",
       "        vertical-align: top;\n",
       "    }\n",
       "\n",
       "    .dataframe thead th {\n",
       "        text-align: right;\n",
       "    }\n",
       "</style>\n",
       "<table border=\"1\" class=\"dataframe\">\n",
       "  <thead>\n",
       "    <tr style=\"text-align: right;\">\n",
       "      <th>col_0</th>\n",
       "      <th>0</th>\n",
       "      <th>1</th>\n",
       "      <th>2</th>\n",
       "    </tr>\n",
       "    <tr>\n",
       "      <th>row_0</th>\n",
       "      <th></th>\n",
       "      <th></th>\n",
       "      <th></th>\n",
       "    </tr>\n",
       "  </thead>\n",
       "  <tbody>\n",
       "    <tr>\n",
       "      <th>0</th>\n",
       "      <td>175</td>\n",
       "      <td>11</td>\n",
       "      <td>31</td>\n",
       "    </tr>\n",
       "    <tr>\n",
       "      <th>1</th>\n",
       "      <td>6</td>\n",
       "      <td>180</td>\n",
       "      <td>11</td>\n",
       "    </tr>\n",
       "    <tr>\n",
       "      <th>2</th>\n",
       "      <td>15</td>\n",
       "      <td>8</td>\n",
       "      <td>163</td>\n",
       "    </tr>\n",
       "  </tbody>\n",
       "</table>\n",
       "</div>"
      ],
      "text/plain": [
       "col_0    0    1    2\n",
       "row_0               \n",
       "0      175   11   31\n",
       "1        6  180   11\n",
       "2       15    8  163"
      ]
     },
     "execution_count": 24,
     "metadata": {},
     "output_type": "execute_result"
    }
   ],
   "source": [
    "all_val_accuracy_norm=[]\n",
    "train_acc_lenet_norm = training_history_lenet_norm.history['accuracy']\n",
    "all_val_accuracy_norm.append(training_history_lenet_norm.history['val_accuracy'])\n",
    "\n",
    "\n",
    "# Results\n",
    "test_pred_lenet_norm = lenet_norm.predict(X_norm_test)\n",
    "test_pred_lenet_class_norm = test_pred_lenet_norm.argmax(axis = 1)\n",
    "y_test_class_norm = y_norm_test.argmax(axis = 1)\n",
    "\n",
    "print(metrics.classification_report(y_test_class_norm, test_pred_lenet_class_norm))\n",
    "pd.crosstab(y_test_class_norm, test_pred_lenet_class_norm)"
   ]
  },
  {
   "cell_type": "code",
   "execution_count": 25,
   "metadata": {},
   "outputs": [
    {
     "name": "stdout",
     "output_type": "stream",
     "text": [
      "Epoch 1/20\n",
      "\u001b[1m10/10\u001b[0m \u001b[32m━━━━━━━━━━━━━━━━━━━━\u001b[0m\u001b[37m\u001b[0m \u001b[1m24s\u001b[0m 2s/step - accuracy: 0.8134 - loss: 1.2380 - val_accuracy: 0.7771 - val_loss: 0.7592\n",
      "Epoch 2/20\n",
      "\u001b[1m10/10\u001b[0m \u001b[32m━━━━━━━━━━━━━━━━━━━━\u001b[0m\u001b[37m\u001b[0m \u001b[1m20s\u001b[0m 2s/step - accuracy: 0.8622 - loss: 0.3274 - val_accuracy: 0.8667 - val_loss: 0.5480\n",
      "Epoch 3/20\n",
      "\u001b[1m10/10\u001b[0m \u001b[32m━━━━━━━━━━━━━━━━━━━━\u001b[0m\u001b[37m\u001b[0m \u001b[1m20s\u001b[0m 2s/step - accuracy: 0.9442 - loss: 0.1769 - val_accuracy: 0.8562 - val_loss: 0.5875\n",
      "Epoch 4/20\n",
      "\u001b[1m10/10\u001b[0m \u001b[32m━━━━━━━━━━━━━━━━━━━━\u001b[0m\u001b[37m\u001b[0m \u001b[1m20s\u001b[0m 2s/step - accuracy: 0.9655 - loss: 0.1030 - val_accuracy: 0.8521 - val_loss: 0.6224\n",
      "Epoch 5/20\n",
      "\u001b[1m10/10\u001b[0m \u001b[32m━━━━━━━━━━━━━━━━━━━━\u001b[0m\u001b[37m\u001b[0m \u001b[1m20s\u001b[0m 2s/step - accuracy: 0.9740 - loss: 0.0715 - val_accuracy: 0.8479 - val_loss: 0.6607\n",
      "Epoch 6/20\n",
      "\u001b[1m10/10\u001b[0m \u001b[32m━━━━━━━━━━━━━━━━━━━━\u001b[0m\u001b[37m\u001b[0m \u001b[1m20s\u001b[0m 2s/step - accuracy: 0.9871 - loss: 0.0546 - val_accuracy: 0.8479 - val_loss: 0.7050\n",
      "Epoch 7/20\n",
      "\u001b[1m10/10\u001b[0m \u001b[32m━━━━━━━━━━━━━━━━━━━━\u001b[0m\u001b[37m\u001b[0m \u001b[1m20s\u001b[0m 2s/step - accuracy: 0.9925 - loss: 0.0433 - val_accuracy: 0.8458 - val_loss: 0.7270\n",
      "Epoch 8/20\n",
      "\u001b[1m10/10\u001b[0m \u001b[32m━━━━━━━━━━━━━━━━━━━━\u001b[0m\u001b[37m\u001b[0m \u001b[1m20s\u001b[0m 2s/step - accuracy: 0.9930 - loss: 0.0359 - val_accuracy: 0.8500 - val_loss: 0.7315\n",
      "Epoch 9/20\n",
      "\u001b[1m10/10\u001b[0m \u001b[32m━━━━━━━━━━━━━━━━━━━━\u001b[0m\u001b[37m\u001b[0m \u001b[1m19s\u001b[0m 2s/step - accuracy: 0.9960 - loss: 0.0284 - val_accuracy: 0.8500 - val_loss: 0.7517\n",
      "Epoch 10/20\n",
      "\u001b[1m10/10\u001b[0m \u001b[32m━━━━━━━━━━━━━━━━━━━━\u001b[0m\u001b[37m\u001b[0m \u001b[1m20s\u001b[0m 2s/step - accuracy: 0.9959 - loss: 0.0315 - val_accuracy: 0.8583 - val_loss: 0.7467\n",
      "Epoch 11/20\n",
      "\u001b[1m10/10\u001b[0m \u001b[32m━━━━━━━━━━━━━━━━━━━━\u001b[0m\u001b[37m\u001b[0m \u001b[1m20s\u001b[0m 2s/step - accuracy: 0.9944 - loss: 0.0272 - val_accuracy: 0.8583 - val_loss: 0.7832\n",
      "Epoch 12/20\n",
      "\u001b[1m10/10\u001b[0m \u001b[32m━━━━━━━━━━━━━━━━━━━━\u001b[0m\u001b[37m\u001b[0m \u001b[1m20s\u001b[0m 2s/step - accuracy: 0.9973 - loss: 0.0319 - val_accuracy: 0.8562 - val_loss: 0.8062\n",
      "Epoch 13/20\n",
      "\u001b[1m10/10\u001b[0m \u001b[32m━━━━━━━━━━━━━━━━━━━━\u001b[0m\u001b[37m\u001b[0m \u001b[1m20s\u001b[0m 2s/step - accuracy: 0.9967 - loss: 0.0193 - val_accuracy: 0.8667 - val_loss: 0.7829\n",
      "Epoch 14/20\n",
      "\u001b[1m10/10\u001b[0m \u001b[32m━━━━━━━━━━━━━━━━━━━━\u001b[0m\u001b[37m\u001b[0m \u001b[1m20s\u001b[0m 2s/step - accuracy: 0.9986 - loss: 0.0145 - val_accuracy: 0.8604 - val_loss: 0.8076\n",
      "Epoch 15/20\n",
      "\u001b[1m10/10\u001b[0m \u001b[32m━━━━━━━━━━━━━━━━━━━━\u001b[0m\u001b[37m\u001b[0m \u001b[1m20s\u001b[0m 2s/step - accuracy: 0.9992 - loss: 0.0116 - val_accuracy: 0.8646 - val_loss: 0.8115\n",
      "Epoch 16/20\n",
      "\u001b[1m10/10\u001b[0m \u001b[32m━━━━━━━━━━━━━━━━━━━━\u001b[0m\u001b[37m\u001b[0m \u001b[1m20s\u001b[0m 2s/step - accuracy: 0.9986 - loss: 0.0129 - val_accuracy: 0.8646 - val_loss: 0.8436\n",
      "Epoch 17/20\n",
      "\u001b[1m10/10\u001b[0m \u001b[32m━━━━━━━━━━━━━━━━━━━━\u001b[0m\u001b[37m\u001b[0m \u001b[1m20s\u001b[0m 2s/step - accuracy: 1.0000 - loss: 0.0087 - val_accuracy: 0.8667 - val_loss: 0.8956\n",
      "Epoch 18/20\n",
      "\u001b[1m10/10\u001b[0m \u001b[32m━━━━━━━━━━━━━━━━━━━━\u001b[0m\u001b[37m\u001b[0m \u001b[1m20s\u001b[0m 2s/step - accuracy: 1.0000 - loss: 0.0070 - val_accuracy: 0.8625 - val_loss: 0.9111\n",
      "Epoch 19/20\n",
      "\u001b[1m10/10\u001b[0m \u001b[32m━━━━━━━━━━━━━━━━━━━━\u001b[0m\u001b[37m\u001b[0m \u001b[1m20s\u001b[0m 2s/step - accuracy: 0.9993 - loss: 0.0117 - val_accuracy: 0.8562 - val_loss: 0.8870\n",
      "Epoch 20/20\n",
      "\u001b[1m10/10\u001b[0m \u001b[32m━━━━━━━━━━━━━━━━━━━━\u001b[0m\u001b[37m\u001b[0m \u001b[1m20s\u001b[0m 2s/step - accuracy: 1.0000 - loss: 0.0072 - val_accuracy: 0.8625 - val_loss: 0.8855\n"
     ]
    }
   ],
   "source": [
    "lenet_norm_hist = Model(inputs = inputs, outputs = outputs) # Images normalisées MinMax\n",
    "\n",
    "# Compilation\n",
    "lenet_norm_hist.compile(loss='categorical_crossentropy',  # fonction de perte\n",
    "              optimizer='adam',                 # algorithme de descente de gradient\n",
    "              metrics=['accuracy'])             # métrique d'évaluation\n",
    "\n",
    "training_history_lenet_norm_hist = lenet_norm_hist.fit(X_norm_hist_train, y_norm_hist_train,          # données\n",
    "                                   validation_split = 0.2,    # split de test\n",
    "                                   epochs = 20,               # nombre d'epochs\n",
    "                                   batch_size = 200)          # taille des batchs"
   ]
  },
  {
   "cell_type": "code",
   "execution_count": 26,
   "metadata": {},
   "outputs": [
    {
     "name": "stdout",
     "output_type": "stream",
     "text": [
      "\u001b[1m19/19\u001b[0m \u001b[32m━━━━━━━━━━━━━━━━━━━━\u001b[0m\u001b[37m\u001b[0m \u001b[1m2s\u001b[0m 83ms/step\n",
      "              precision    recall  f1-score   support\n",
      "\n",
      "           0       0.79      0.84      0.82       217\n",
      "           1       0.87      0.89      0.88       197\n",
      "           2       0.81      0.74      0.77       186\n",
      "\n",
      "    accuracy                           0.82       600\n",
      "   macro avg       0.82      0.82      0.82       600\n",
      "weighted avg       0.82      0.82      0.82       600\n",
      "\n"
     ]
    },
    {
     "data": {
      "text/html": [
       "<div>\n",
       "<style scoped>\n",
       "    .dataframe tbody tr th:only-of-type {\n",
       "        vertical-align: middle;\n",
       "    }\n",
       "\n",
       "    .dataframe tbody tr th {\n",
       "        vertical-align: top;\n",
       "    }\n",
       "\n",
       "    .dataframe thead th {\n",
       "        text-align: right;\n",
       "    }\n",
       "</style>\n",
       "<table border=\"1\" class=\"dataframe\">\n",
       "  <thead>\n",
       "    <tr style=\"text-align: right;\">\n",
       "      <th>col_0</th>\n",
       "      <th>0</th>\n",
       "      <th>1</th>\n",
       "      <th>2</th>\n",
       "    </tr>\n",
       "    <tr>\n",
       "      <th>row_0</th>\n",
       "      <th></th>\n",
       "      <th></th>\n",
       "      <th></th>\n",
       "    </tr>\n",
       "  </thead>\n",
       "  <tbody>\n",
       "    <tr>\n",
       "      <th>0</th>\n",
       "      <td>182</td>\n",
       "      <td>12</td>\n",
       "      <td>23</td>\n",
       "    </tr>\n",
       "    <tr>\n",
       "      <th>1</th>\n",
       "      <td>12</td>\n",
       "      <td>175</td>\n",
       "      <td>10</td>\n",
       "    </tr>\n",
       "    <tr>\n",
       "      <th>2</th>\n",
       "      <td>35</td>\n",
       "      <td>14</td>\n",
       "      <td>137</td>\n",
       "    </tr>\n",
       "  </tbody>\n",
       "</table>\n",
       "</div>"
      ],
      "text/plain": [
       "col_0    0    1    2\n",
       "row_0               \n",
       "0      182   12   23\n",
       "1       12  175   10\n",
       "2       35   14  137"
      ]
     },
     "execution_count": 26,
     "metadata": {},
     "output_type": "execute_result"
    }
   ],
   "source": [
    "all_val_accuracy_norm_hist=[]\n",
    "train_acc_lenet_norm_hist = training_history_lenet_norm_hist.history['accuracy']\n",
    "all_val_accuracy_norm_hist.append(training_history_lenet_norm_hist.history['val_accuracy'])\n",
    "\n",
    "\n",
    "# Results\n",
    "test_pred_lenet_norm_hist = lenet_norm_hist.predict(X_norm_hist_test)\n",
    "test_pred_lenet_class_norm_hist = test_pred_lenet_norm_hist.argmax(axis = 1)\n",
    "y_test_class_norm_hist = y_norm_hist_test.argmax(axis = 1)\n",
    "\n",
    "print(metrics.classification_report(y_test_class_norm_hist, test_pred_lenet_class_norm_hist))\n",
    "pd.crosstab(y_test_class_norm_hist, test_pred_lenet_class_norm_hist)"
   ]
  },
  {
   "cell_type": "code",
   "execution_count": 28,
   "metadata": {},
   "outputs": [
    {
     "name": "stdout",
     "output_type": "stream",
     "text": [
      "Epoch 1/20\n",
      "\u001b[1m10/10\u001b[0m \u001b[32m━━━━━━━━━━━━━━━━━━━━\u001b[0m\u001b[37m\u001b[0m \u001b[1m25s\u001b[0m 2s/step - accuracy: 0.8474 - loss: 0.5437 - val_accuracy: 0.8167 - val_loss: 0.4879\n",
      "Epoch 2/20\n",
      "\u001b[1m10/10\u001b[0m \u001b[32m━━━━━━━━━━━━━━━━━━━━\u001b[0m\u001b[37m\u001b[0m \u001b[1m20s\u001b[0m 2s/step - accuracy: 0.9494 - loss: 0.1682 - val_accuracy: 0.8375 - val_loss: 0.5394\n",
      "Epoch 3/20\n",
      "\u001b[1m10/10\u001b[0m \u001b[32m━━━━━━━━━━━━━━━━━━━━\u001b[0m\u001b[37m\u001b[0m \u001b[1m20s\u001b[0m 2s/step - accuracy: 0.9683 - loss: 0.0828 - val_accuracy: 0.8333 - val_loss: 0.6796\n",
      "Epoch 4/20\n",
      "\u001b[1m10/10\u001b[0m \u001b[32m━━━━━━━━━━━━━━━━━━━━\u001b[0m\u001b[37m\u001b[0m \u001b[1m20s\u001b[0m 2s/step - accuracy: 0.9838 - loss: 0.0470 - val_accuracy: 0.8438 - val_loss: 0.7173\n",
      "Epoch 5/20\n",
      "\u001b[1m10/10\u001b[0m \u001b[32m━━━━━━━━━━━━━━━━━━━━\u001b[0m\u001b[37m\u001b[0m \u001b[1m19s\u001b[0m 2s/step - accuracy: 0.9925 - loss: 0.0220 - val_accuracy: 0.8479 - val_loss: 0.7599\n",
      "Epoch 6/20\n",
      "\u001b[1m10/10\u001b[0m \u001b[32m━━━━━━━━━━━━━━━━━━━━\u001b[0m\u001b[37m\u001b[0m \u001b[1m20s\u001b[0m 2s/step - accuracy: 0.9973 - loss: 0.0142 - val_accuracy: 0.8354 - val_loss: 0.8191\n",
      "Epoch 7/20\n",
      "\u001b[1m10/10\u001b[0m \u001b[32m━━━━━━━━━━━━━━━━━━━━\u001b[0m\u001b[37m\u001b[0m \u001b[1m20s\u001b[0m 2s/step - accuracy: 0.9986 - loss: 0.0101 - val_accuracy: 0.8500 - val_loss: 0.7824\n",
      "Epoch 8/20\n",
      "\u001b[1m10/10\u001b[0m \u001b[32m━━━━━━━━━━━━━━━━━━━━\u001b[0m\u001b[37m\u001b[0m \u001b[1m20s\u001b[0m 2s/step - accuracy: 1.0000 - loss: 0.0049 - val_accuracy: 0.8521 - val_loss: 0.8441\n",
      "Epoch 9/20\n",
      "\u001b[1m10/10\u001b[0m \u001b[32m━━━━━━━━━━━━━━━━━━━━\u001b[0m\u001b[37m\u001b[0m \u001b[1m20s\u001b[0m 2s/step - accuracy: 1.0000 - loss: 0.0031 - val_accuracy: 0.8542 - val_loss: 0.8321\n",
      "Epoch 10/20\n",
      "\u001b[1m10/10\u001b[0m \u001b[32m━━━━━━━━━━━━━━━━━━━━\u001b[0m\u001b[37m\u001b[0m \u001b[1m20s\u001b[0m 2s/step - accuracy: 1.0000 - loss: 0.0021 - val_accuracy: 0.8521 - val_loss: 0.8683\n",
      "Epoch 11/20\n",
      "\u001b[1m10/10\u001b[0m \u001b[32m━━━━━━━━━━━━━━━━━━━━\u001b[0m\u001b[37m\u001b[0m \u001b[1m20s\u001b[0m 2s/step - accuracy: 1.0000 - loss: 0.0031 - val_accuracy: 0.8625 - val_loss: 0.8355\n",
      "Epoch 12/20\n",
      "\u001b[1m10/10\u001b[0m \u001b[32m━━━━━━━━━━━━━━━━━━━━\u001b[0m\u001b[37m\u001b[0m \u001b[1m20s\u001b[0m 2s/step - accuracy: 1.0000 - loss: 0.0011 - val_accuracy: 0.8583 - val_loss: 0.8781\n",
      "Epoch 13/20\n",
      "\u001b[1m10/10\u001b[0m \u001b[32m━━━━━━━━━━━━━━━━━━━━\u001b[0m\u001b[37m\u001b[0m \u001b[1m20s\u001b[0m 2s/step - accuracy: 1.0000 - loss: 0.0012 - val_accuracy: 0.8562 - val_loss: 0.8855\n",
      "Epoch 14/20\n",
      "\u001b[1m10/10\u001b[0m \u001b[32m━━━━━━━━━━━━━━━━━━━━\u001b[0m\u001b[37m\u001b[0m \u001b[1m20s\u001b[0m 2s/step - accuracy: 1.0000 - loss: 9.8115e-04 - val_accuracy: 0.8625 - val_loss: 0.9011\n",
      "Epoch 15/20\n",
      "\u001b[1m10/10\u001b[0m \u001b[32m━━━━━━━━━━━━━━━━━━━━\u001b[0m\u001b[37m\u001b[0m \u001b[1m20s\u001b[0m 2s/step - accuracy: 1.0000 - loss: 8.4469e-04 - val_accuracy: 0.8625 - val_loss: 0.9264\n",
      "Epoch 16/20\n",
      "\u001b[1m10/10\u001b[0m \u001b[32m━━━━━━━━━━━━━━━━━━━━\u001b[0m\u001b[37m\u001b[0m \u001b[1m20s\u001b[0m 2s/step - accuracy: 1.0000 - loss: 0.0010 - val_accuracy: 0.8542 - val_loss: 0.9133\n",
      "Epoch 17/20\n",
      "\u001b[1m10/10\u001b[0m \u001b[32m━━━━━━━━━━━━━━━━━━━━\u001b[0m\u001b[37m\u001b[0m \u001b[1m19s\u001b[0m 2s/step - accuracy: 1.0000 - loss: 6.3405e-04 - val_accuracy: 0.8625 - val_loss: 0.9453\n",
      "Epoch 18/20\n",
      "\u001b[1m10/10\u001b[0m \u001b[32m━━━━━━━━━━━━━━━━━━━━\u001b[0m\u001b[37m\u001b[0m \u001b[1m20s\u001b[0m 2s/step - accuracy: 1.0000 - loss: 5.0365e-04 - val_accuracy: 0.8562 - val_loss: 0.9400\n",
      "Epoch 19/20\n",
      "\u001b[1m10/10\u001b[0m \u001b[32m━━━━━━━━━━━━━━━━━━━━\u001b[0m\u001b[37m\u001b[0m \u001b[1m20s\u001b[0m 2s/step - accuracy: 1.0000 - loss: 5.3720e-04 - val_accuracy: 0.8604 - val_loss: 0.9561\n",
      "Epoch 20/20\n",
      "\u001b[1m10/10\u001b[0m \u001b[32m━━━━━━━━━━━━━━━━━━━━\u001b[0m\u001b[37m\u001b[0m \u001b[1m20s\u001b[0m 2s/step - accuracy: 1.0000 - loss: 5.0065e-04 - val_accuracy: 0.8604 - val_loss: 0.9655\n"
     ]
    }
   ],
   "source": [
    "lenet_norm_CLAHE = Model(inputs = inputs, outputs = outputs) # Images normalisées MinMax\n",
    "\n",
    "# Compilation\n",
    "lenet_norm_CLAHE.compile(loss='categorical_crossentropy',  # fonction de perte\n",
    "              optimizer='adam',                 # algorithme de descente de gradient\n",
    "              metrics=['accuracy'])             # métrique d'évaluation\n",
    "\n",
    "training_history_lenet_norm_CLAHE = lenet_norm_CLAHE.fit(X_norm_CLAHE_train, y_norm_CLAHE_train,          # données\n",
    "                                   validation_split = 0.2,    # split de test\n",
    "                                   epochs = 20,               # nombre d'epochs\n",
    "                                   batch_size = 200)          # taille des batchs"
   ]
  },
  {
   "cell_type": "code",
   "execution_count": 29,
   "metadata": {},
   "outputs": [
    {
     "name": "stdout",
     "output_type": "stream",
     "text": [
      "\u001b[1m19/19\u001b[0m \u001b[32m━━━━━━━━━━━━━━━━━━━━\u001b[0m\u001b[37m\u001b[0m \u001b[1m2s\u001b[0m 81ms/step\n",
      "              precision    recall  f1-score   support\n",
      "\n",
      "           0       0.82      0.82      0.82       217\n",
      "           1       0.87      0.88      0.88       197\n",
      "           2       0.82      0.80      0.81       186\n",
      "\n",
      "    accuracy                           0.84       600\n",
      "   macro avg       0.84      0.84      0.84       600\n",
      "weighted avg       0.84      0.84      0.84       600\n",
      "\n"
     ]
    },
    {
     "data": {
      "text/html": [
       "<div>\n",
       "<style scoped>\n",
       "    .dataframe tbody tr th:only-of-type {\n",
       "        vertical-align: middle;\n",
       "    }\n",
       "\n",
       "    .dataframe tbody tr th {\n",
       "        vertical-align: top;\n",
       "    }\n",
       "\n",
       "    .dataframe thead th {\n",
       "        text-align: right;\n",
       "    }\n",
       "</style>\n",
       "<table border=\"1\" class=\"dataframe\">\n",
       "  <thead>\n",
       "    <tr style=\"text-align: right;\">\n",
       "      <th>col_0</th>\n",
       "      <th>0</th>\n",
       "      <th>1</th>\n",
       "      <th>2</th>\n",
       "    </tr>\n",
       "    <tr>\n",
       "      <th>row_0</th>\n",
       "      <th></th>\n",
       "      <th></th>\n",
       "      <th></th>\n",
       "    </tr>\n",
       "  </thead>\n",
       "  <tbody>\n",
       "    <tr>\n",
       "      <th>0</th>\n",
       "      <td>179</td>\n",
       "      <td>16</td>\n",
       "      <td>22</td>\n",
       "    </tr>\n",
       "    <tr>\n",
       "      <th>1</th>\n",
       "      <td>12</td>\n",
       "      <td>174</td>\n",
       "      <td>11</td>\n",
       "    </tr>\n",
       "    <tr>\n",
       "      <th>2</th>\n",
       "      <td>28</td>\n",
       "      <td>9</td>\n",
       "      <td>149</td>\n",
       "    </tr>\n",
       "  </tbody>\n",
       "</table>\n",
       "</div>"
      ],
      "text/plain": [
       "col_0    0    1    2\n",
       "row_0               \n",
       "0      179   16   22\n",
       "1       12  174   11\n",
       "2       28    9  149"
      ]
     },
     "execution_count": 29,
     "metadata": {},
     "output_type": "execute_result"
    }
   ],
   "source": [
    "all_val_accuracy_norm_CLAHE=[]\n",
    "train_acc_lenet_norm_CLAHE = training_history_lenet_norm_CLAHE.history['accuracy']\n",
    "all_val_accuracy_norm_CLAHE.append(training_history_lenet_norm_CLAHE.history['val_accuracy'])\n",
    "\n",
    "\n",
    "# Results\n",
    "test_pred_lenet_norm_CLAHE = lenet_norm_CLAHE.predict(X_norm_CLAHE_test)\n",
    "test_pred_lenet_class_norm_CLAHE = test_pred_lenet_norm_CLAHE.argmax(axis = 1)\n",
    "y_test_class_norm_CLAHE = y_norm_CLAHE_test.argmax(axis = 1)\n",
    "\n",
    "print(metrics.classification_report(y_test_class_norm_CLAHE, test_pred_lenet_class_norm_CLAHE))\n",
    "pd.crosstab(y_test_class_norm_CLAHE, test_pred_lenet_class_norm_CLAHE)"
   ]
  },
  {
   "cell_type": "code",
   "execution_count": 49,
   "metadata": {},
   "outputs": [
    {
     "data": {
      "image/png": "[encoded data removed]",
      "text/plain": [
       "<Figure size 640x480 with 1 Axes>"
      ]
     },
     "metadata": {},
     "output_type": "display_data"
    }
   ],
   "source": [
    "# Graphes combinés de l'ensemble des modèles\n",
    "pastel_colors = {\n",
    "    'LeNet Raw': '#44AA44',     # green\n",
    "    'LeNet MinMax': '#FF4C4C',  # red\n",
    "    'LeNet HistEgal': '#3498DB',# blue\n",
    "    'LeNet CLAHE': '#666666'    # gray\n",
    "}\n",
    "\n",
    "plt.title('Comparison of validation accuracy for different normalisations', pad = 20)\n",
    "plt.xlabel('Epochs')\n",
    "plt.ylabel('Validation Accuracy')\n",
    "plt.plot(np.arange(1 , 21, 1),\n",
    "         all_val_accuracy[0], \n",
    "         label = 'Raw Images', marker='o',\n",
    "         linestyle='-', markersize=4,\n",
    "         color=pastel_colors['LeNet Raw'])\n",
    "plt.plot(np.arange(1 , 21, 1),\n",
    "         all_val_accuracy_norm[0], \n",
    "         label = 'MinMax Norm', marker='s',\n",
    "         linestyle='-', markersize=3,\n",
    "         color=pastel_colors['LeNet MinMax'])        \n",
    "plt.plot(np.arange(1 , 21, 1),\n",
    "         all_val_accuracy_norm_hist[0], \n",
    "         label = 'HistEgal Norm', marker='^',\n",
    "         linestyle='-', markersize=4,\n",
    "         color=pastel_colors['LeNet HistEgal'])\n",
    "plt.plot(np.arange(1 , 21, 1),\n",
    "         all_val_accuracy_norm_CLAHE[0], \n",
    "         label = 'CLAHE Norm', marker='d',\n",
    "         linestyle='-', markersize=4,\n",
    "         color=pastel_colors['LeNet CLAHE'])\n",
    "plt.xlim([1, 19])\n",
    "plt.ylim([0.77, 0.88])\n",
    "plt.grid(True)\n",
    "plt.legend()\n",
    "plt.show()"
   ]
  }
 ],
 "metadata": {
  "kernelspec": {
   "display_name": ".venv",
   "language": "python",
   "name": "python3"
  },
  "language_info": {
   "codemirror_mode": {
    "name": "ipython",
    "version": 3
   },
   "file_extension": ".py",
   "mimetype": "text/x-python",
   "name": "python",
   "nbconvert_exporter": "python",
   "pygments_lexer": "ipython3",
   "version": "3.12.3"
  }
 },
 "nbformat": 4,
 "nbformat_minor": 2
}
