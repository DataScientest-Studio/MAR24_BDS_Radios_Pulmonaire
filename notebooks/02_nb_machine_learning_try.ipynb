{
 "cells": [
  {
   "cell_type": "markdown",
   "metadata": {},
   "source": [
    "# Test d'un modèle LENET\n",
    "\n",
    "Tensorflow ne fonctionne pas avec python 3.12 pour les GPU. J'ai donc installé un manager de version python, pyenv, pour passer à la version 3.11.3 de python pour le faire fonctionner.\n",
    "\n",
    "Malheuresement, cela ne fonctionne plus avec windows : il faut installer WSL, qui permet d'utiliser Linux sur Windows. La manip est fastidieuse, donc pour l'instant on se contentera \n",
    "du CPU.\n",
    "\n",
    "J'ai choisi de tester le modèle sur les images normalisées, en essayant de les classifier selon les 3 catégories COVID, Non-COVID, et Normal.\n",
    "\n",
    "On commence par importer les modules :"
   ]
  },
  {
   "cell_type": "code",
   "execution_count": 20,
   "metadata": {},
   "outputs": [],
   "source": [
    "#----------------------------------------------------------------------------#\n",
    "\n",
    "import numpy as np\n",
    "import tensorflow as tf\n",
    "import os\n",
    "from PIL import Image\n",
    "import seaborn as sns\n",
    "import matplotlib.pyplot as plt\n",
    "from sklearn.metrics import confusion_matrix, classification_report\n",
    "import torch\n",
    "import torch.nn as nn\n",
    "import torch.optim as optim\n",
    "import torch.nn.functional as F\n",
    "from torch.utils.data import DataLoader\n",
    "from torchvision import transforms, datasets\n",
    "from torch.utils.data import Dataset, random_split, Subset\n",
    "from tensorflow.keras.datasets import cifar10\n",
    "from tensorflow.keras.models import Sequential\n",
    "from tensorflow.keras.layers import Conv2D, AveragePooling2D, Flatten, Dense\n",
    "from tensorflow.keras.utils import to_categorical\n",
    "from tensorflow.keras.models import Sequential, Model\n",
    "from tensorflow.keras.layers import Dense, Activation, Input\n",
    "from tensorflow.keras.layers import Dropout\n",
    "from tensorflow.keras.layers import Flatten\n",
    "from tensorflow.keras.layers import Conv2D\n",
    "from tensorflow.keras.layers import MaxPooling2D\n",
    "from sklearn.model_selection import train_test_split\n",
    "\n",
    "#----------------------------------------------------------------------------#"
   ]
  },
  {
   "cell_type": "markdown",
   "metadata": {},
   "source": [
    "## Séparations des images en set de train, validation et test"
   ]
  },
  {
   "cell_type": "code",
   "execution_count": 17,
   "metadata": {},
   "outputs": [],
   "source": [
    "#----------------------------------------------------------------------------#\n",
    "\n",
    "# Chemin du dossier principal (ne pas oublier de copier les images car la transformation est permanente)\n",
    "main_dir = r'C:\\Users\\Nicolas\\Documents\\DataScience\\MAR24_BDS_Radios_Pulmonaire\\data\\processed\\test NB\\LENET_processing'\n",
    "\n",
    "# Sous dossiers et labels correspondants\n",
    "folders = {\n",
    "    'COVID_norm': 0,\n",
    "    'Non-COVID_norm': 1,\n",
    "    'Normal_norm': 2\n",
    "}\n",
    "\n",
    "# On récupère les images et leurs labels\n",
    "image_paths = []\n",
    "image_labels = []\n",
    "\n",
    "for folder, label in folders.items():\n",
    "    folder_path = os.path.join(main_dir, folder)\n",
    "    for img in os.listdir(folder_path):\n",
    "        if img.endswith(('.png', '.jpg', '.jpeg')):  \n",
    "            image_paths.append(os.path.join(folder_path, img))\n",
    "            image_labels.append(label)\n",
    "\n",
    "# Splitting data into train+validation and test sets\n",
    "train_val_paths, test_paths, train_val_labels, test_labels = train_test_split(\n",
    "    image_paths, image_labels, test_size=0.15, random_state=42, stratify=image_labels)\n",
    "\n",
    "# Splitting train+validation into train and validation sets\n",
    "train_paths, val_paths, train_labels, val_labels = train_test_split(\n",
    "    train_val_paths, train_val_labels, test_size=0.176, random_state=42, stratify=train_val_labels)\n",
    "\n",
    "#----------------------------------------------------------------------------#"
   ]
  },
  {
   "cell_type": "markdown",
   "metadata": {},
   "source": [
    "## On va maintenant creer le dataset et le dataloader dans Pytorch"
   ]
  },
  {
   "cell_type": "code",
   "execution_count": null,
   "metadata": {},
   "outputs": [],
   "source": [
    "#----------------------------------------------------------------------------#\n",
    "\n",
    "## Sous classes permettant d'obtenir les images et leurs labels\n",
    "\n",
    "class XRayDataset(Dataset):\n",
    "    def __init__(self, image_paths, labels, transform=None):\n",
    "        self.image_paths = image_paths\n",
    "        self.labels = labels\n",
    "        self.transform = transform\n",
    "\n",
    "    def __len__(self):\n",
    "        return len(self.image_paths)\n",
    "\n",
    "    def __getitem__(self, index):\n",
    "        image_path = self.image_paths[index]\n",
    "        image = Image.open(image_path).convert('L')  # On convertit en niveau de gris\n",
    "        label = self.labels[index]\n",
    "        if self.transform:\n",
    "            image = self.transform(image)\n",
    "        return image, label\n",
    "\n",
    "# On transforme les données en 32x32 pour que cela convienne à LENET\n",
    "transform = transforms.Compose([\n",
    "    transforms.Resize((32, 32)),  \n",
    "    transforms.ToTensor(),        \n",
    "])\n",
    "\n",
    "# On crée les datasets\n",
    "train_dataset = XRayDataset(train_paths, train_labels, transform=transform)\n",
    "val_dataset = XRayDataset(val_paths, val_labels, transform=transform)\n",
    "test_dataset = XRayDataset(test_paths, test_labels, transform=transform)\n",
    "\n",
    "# On crée les dataloaders\n",
    "train_loader = DataLoader(train_dataset, batch_size=32, shuffle=True)\n",
    "val_loader = DataLoader(val_dataset, batch_size=32, shuffle=False)\n",
    "test_loader = DataLoader(test_dataset, batch_size=32, shuffle=False)\n",
    "\n",
    "#----------------------------------------------------------------------------#"
   ]
  },
  {
   "cell_type": "markdown",
   "metadata": {},
   "source": [
    "\n",
    "#### Avec cette méthode et Pytorch, le resizing est obligatoire."
   ]
  },
  {
   "cell_type": "markdown",
   "metadata": {},
   "source": [
    "## On définit le modèle LENET"
   ]
  },
  {
   "cell_type": "code",
   "execution_count": 6,
   "metadata": {},
   "outputs": [],
   "source": [
    "#----------------------------------------------------------------------------#\n",
    "\n",
    "## On instancie un modèle de classe LENET\n",
    "\n",
    "class LeNet(nn.Module):\n",
    "    def __init__(self):\n",
    "        super(LeNet, self).__init__()\n",
    "        self.cnn_model = nn.Sequential(\n",
    "            nn.Conv2d(1, 6, 5),          # (N, 1, 32, 32) -> (N,  6, 28, 28)\n",
    "            nn.ReLU(),\n",
    "            nn.AvgPool2d(2, stride=2),   # (N, 6, 28, 28) -> (N,  6, 14, 14)\n",
    "            nn.Conv2d(6, 16, 5),         # (N, 6, 14, 14) -> (N, 16, 10, 10)\n",
    "            nn.ReLU(),\n",
    "            nn.AvgPool2d(2, stride=2)    # (N, 16, 10, 10) -> (N, 16, 5, 5)\n",
    "        )\n",
    "        self.fc_model = nn.Sequential(\n",
    "            nn.Linear(400, 120),         # (N, 400) -> (N, 120)\n",
    "            nn.ReLU(),\n",
    "            nn.Linear(120, 84),          # (N, 120) -> (N, 84)\n",
    "            nn.ReLU(),\n",
    "            nn.Linear(84, 3)             # (N, 84) -> (N, 3)\n",
    "        )\n",
    "\n",
    "    def forward(self, x):\n",
    "        x = self.cnn_model(x)\n",
    "        x = x.view(x.size(0), -1)\n",
    "        x = self.fc_model(x)\n",
    "        return x\n",
    "\n",
    "#----------------------------------------------------------------------------#"
   ]
  },
  {
   "cell_type": "markdown",
   "metadata": {},
   "source": [
    "## On entraîne le modèle sur le set train"
   ]
  },
  {
   "cell_type": "code",
   "execution_count": null,
   "metadata": {},
   "outputs": [],
   "source": [
    "#----------------------------------------------------------------------------#\n",
    "\n",
    "device = torch.device(\"cuda\" if torch.cuda.is_available() else \"cpu\") ## On vérifie si l'on peut utiliser la carte graphique\n",
    "model = LeNet().to(device)\n",
    "criterion = nn.CrossEntropyLoss()\n",
    "optimizer = optim.Adam(model.parameters(), lr=0.001)\n",
    "\n",
    "for epoch in range(10):  # Boucle sur le dataset\n",
    "    running_loss = 0.0\n",
    "    for i, data in enumerate(train_loader, 0):\n",
    "        inputs, labels = data[0].to(device), data[1].to(device)\n",
    "\n",
    "        optimizer.zero_grad()\n",
    "\n",
    "        outputs = model(inputs)\n",
    "        loss = criterion(outputs, labels)\n",
    "        loss.backward()\n",
    "        optimizer.step()\n",
    "\n",
    "        running_loss += loss.item()\n",
    "        if i % 200 == 199:    # print tous les 200 mini batches\n",
    "            print(f'Epoch {epoch + 1}, Batch {i + 1}, Loss: {running_loss / 200:.3f}')\n",
    "            running_loss = 0.0\n",
    "\n",
    "print('Fin Entrainement')\n",
    "\n",
    "#----------------------------------------------------------------------------#"
   ]
  },
  {
   "cell_type": "markdown",
   "metadata": {},
   "source": [
    "## Maintenant que le modèle est entraîner, nous pouvons visualiser sa performance sur ce set "
   ]
  },
  {
   "cell_type": "code",
   "execution_count": 32,
   "metadata": {},
   "outputs": [
    {
     "name": "stdout",
     "output_type": "stream",
     "text": [
      "Confusion Matrix:\n",
      "[[1386  160  247]\n",
      " [ 180 1351  159]\n",
      " [ 161  152 1292]]\n",
      "Classification Report:\n",
      "              precision    recall  f1-score   support\n",
      "\n",
      "       COVID       0.80      0.77      0.79      1793\n",
      "   Non-COVID       0.81      0.80      0.81      1690\n",
      "      Normal       0.76      0.80      0.78      1605\n",
      "\n",
      "    accuracy                           0.79      5088\n",
      "   macro avg       0.79      0.79      0.79      5088\n",
      "weighted avg       0.79      0.79      0.79      5088\n",
      "\n"
     ]
    },
    {
     "data": {
      "image/png": "[encoded data removed]",
      "text/plain": [
       "<Figure size 800x600 with 2 Axes>"
      ]
     },
     "metadata": {},
     "output_type": "display_data"
    }
   ],
   "source": [
    "#----------------------------------------------------------------------------#\n",
    "\n",
    "## On évalue le modèle sur le set de test avec la matrice de confusion et le classification report\n",
    "\n",
    "def evaluate_model(model, data_loader, device):\n",
    "    model.eval()  # On met le modèle en mode évaluation\n",
    "    all_preds = []\n",
    "    all_labels = []\n",
    "    with torch.no_grad():  \n",
    "        for images, labels in data_loader:\n",
    "            images, labels = images.to(device), labels.to(device)\n",
    "            outputs = model(images)\n",
    "            _, predicted = torch.max(outputs, 1)\n",
    "            all_preds.extend(predicted.cpu().numpy())\n",
    "            all_labels.extend(labels.cpu().numpy())\n",
    "    \n",
    "    # On calcule la matrice de confusion\n",
    "    cm = confusion_matrix(all_labels, all_preds)\n",
    "    print(\"Confusion Matrix:\")\n",
    "    print(cm)\n",
    "    \n",
    "    # On affiche le rapport de classification\n",
    "    print(\"Classification Report:\")\n",
    "    print(classification_report(all_labels, all_preds, target_names=['COVID', 'Non-COVID', 'Normal']))\n",
    "\n",
    "    # On plot la matrice de confusion\n",
    "    plt.figure(figsize=(8,6))\n",
    "    sns.heatmap(cm, annot=True, fmt='d', cmap='Blues', xticklabels=['COVID', 'Non-COVID', 'Normal'], yticklabels=['COVID', 'Non-COVID', 'Normal'])\n",
    "    plt.xlabel('Classes prédites')\n",
    "    plt.ylabel('Vraies classes')\n",
    "    plt.title('Confusion Matrix')\n",
    "    plt.show()\n",
    "\n",
    "\n",
    "evaluate_model(model, test_loader, device)\n",
    "\n",
    "#----------------------------------------------------------------------------#"
   ]
  }
 ],
 "metadata": {
  "kernelspec": {
   "display_name": "Python 3",
   "language": "python",
   "name": "python3"
  },
  "language_info": {
   "codemirror_mode": {
    "name": "ipython",
    "version": 3
   },
   "file_extension": ".py",
   "mimetype": "text/x-python",
   "name": "python",
   "nbconvert_exporter": "python",
   "pygments_lexer": "ipython3",
   "version": "3.12.2"
  }
 },
 "nbformat": 4,
 "nbformat_minor": 2
}
