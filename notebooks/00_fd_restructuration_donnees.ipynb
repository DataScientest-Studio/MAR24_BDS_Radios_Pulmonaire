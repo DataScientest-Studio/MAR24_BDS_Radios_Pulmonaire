{
 "cells": [
  {
   "cell_type": "markdown",
   "metadata": {},
   "source": [
    "# Retravail de la structure du jeu de données original\n",
    "\n",
    "\n",
    "**Prérequis :**  \n",
    "Toutes les données extraites de COVID-QU-Ex dataset doivent être stockées dans le dossier : data/raw  \n",
    "données extraites à partir du téléchargement sur https://www.kaggle.com/datasets/anasmohammedtahir/covidqu :  \n",
    "- dossier : Infection Segmentation Data\n",
    "- dossier : Lung Segmentation Data\n",
    "- fichier COVID-QU-Ex dataset.txt\n",
    "\n",
    "On ne va travailler que sur le dossier Lung Segmentation Data, qui contient le jeu de données complet.  \n",
    "\n",
    "Le dossier : \"data\\raw\\Lung Segmentation Data\\Lung Segmentation Data\" contient donc 3 dossiers : Test, Train, Val    \n",
    "chacun découpé en : COVID-19, Non-COVID, Normal  \n",
    "eux-mêmes découpés en : images, lung masks  \n",
    "\n",
    "\n",
    "**Action du Notebook :**  \n",
    "à partir du jeu de données complet \"Lung Segmentation Data\" stocké dans data/raw:  \n",
    "- rassemble les .png éparpillés en 3 dossiers Test, Train, Val en 1 seul,  \n",
    "- et les stocke dans data/processed.  \n",
    "\n",
    "On abouti au final à la structure suivante dans  data/processed : \n",
    "\n",
    "- COVID-19\n",
    "    - images\n",
    "    - lung masks\n",
    "- Non-COVID\n",
    "    - images\n",
    "    - lung masks\n",
    "- Normal\n",
    "    - images\n",
    "    - lung masks"
   ]
  },
  {
   "cell_type": "code",
   "execution_count": 1,
   "metadata": {},
   "outputs": [
    {
     "name": "stdout",
     "output_type": "stream",
     "text": [
      "dossier notebooks : c:\\Users\\Florent\\Documents\\data_science\\MAR24_BDS_Radios_Pulmonaire\\notebooks\n",
      "dossier data/raw : c:\\Users\\Florent\\Documents\\data_science\\MAR24_BDS_Radios_Pulmonaire\\data\\raw\\Lung Segmentation Data\\Lung Segmentation Data\n",
      "dossier data/processed : c:\\Users\\Florent\\Documents\\data_science\\MAR24_BDS_Radios_Pulmonaire\\data\\processed\n",
      "dossier data/processed/Lung Segmentation Data : c:\\Users\\Florent\\Documents\\data_science\\MAR24_BDS_Radios_Pulmonaire\\data\\processed\\Lung Segmentation Data\n"
     ]
    }
   ],
   "source": [
    "import itertools\n",
    "import pandas as pd\n",
    "import os\n",
    "import shutil\n",
    "\n",
    "\n",
    "# Gestion des dossiers à partir du dossier du notebook\n",
    "notebook_dir = os.path.abspath(\".\")\n",
    "print(\"dossier notebooks :\", notebook_dir)\n",
    "\n",
    "relative_raw_data_path = os.path.join(\"..\", \"data\", \"raw\", \"Lung Segmentation Data\", \"Lung Segmentation Data\")\n",
    "raw_data_path = os.path.abspath(relative_raw_data_path)\n",
    "print(\"dossier data/raw :\", raw_data_path)\n",
    "\n",
    "relative_processed_root_path = os.path.join(\"..\", \"data\", \"processed\")\n",
    "processed_root_path = os.path.abspath(relative_processed_root_path)\n",
    "print(\"dossier data/processed :\", processed_root_path)\n",
    "\n",
    "processed_data_path = os.path.join(processed_root_path, \"Lung Segmentation Data\")\n",
    "print(\"dossier data/processed/Lung Segmentation Data :\", processed_data_path)\n",
    "\n",
    "\n",
    "# Niveaux de dossiers des données :\n",
    "raw_dataset_folders = [\"Test\", \"Train\", \"Val\"]\n",
    "patho_subfolders = [\"COVID-19\", \"Non-COVID\", \"Normal\"]\n",
    "png_file_types = [\"images\", \"lung masks\"]\n"
   ]
  },
  {
   "cell_type": "code",
   "execution_count": 2,
   "metadata": {},
   "outputs": [
    {
     "name": "stdout",
     "output_type": "stream",
     "text": [
      "Raw path: c:\\Users\\Florent\\Documents\\data_science\\MAR24_BDS_Radios_Pulmonaire\\data\\raw\\Lung Segmentation Data\\Lung Segmentation Data\\Test\\COVID-19\\images --> Processed path: c:\\Users\\Florent\\Documents\\data_science\\MAR24_BDS_Radios_Pulmonaire\\data\\processed\\Lung Segmentation Data\\COVID-19\\images\n",
      "Raw path: c:\\Users\\Florent\\Documents\\data_science\\MAR24_BDS_Radios_Pulmonaire\\data\\raw\\Lung Segmentation Data\\Lung Segmentation Data\\Test\\COVID-19\\lung masks --> Processed path: c:\\Users\\Florent\\Documents\\data_science\\MAR24_BDS_Radios_Pulmonaire\\data\\processed\\Lung Segmentation Data\\COVID-19\\lung masks\n",
      "Raw path: c:\\Users\\Florent\\Documents\\data_science\\MAR24_BDS_Radios_Pulmonaire\\data\\raw\\Lung Segmentation Data\\Lung Segmentation Data\\Test\\Non-COVID\\images --> Processed path: c:\\Users\\Florent\\Documents\\data_science\\MAR24_BDS_Radios_Pulmonaire\\data\\processed\\Lung Segmentation Data\\Non-COVID\\images\n",
      "Raw path: c:\\Users\\Florent\\Documents\\data_science\\MAR24_BDS_Radios_Pulmonaire\\data\\raw\\Lung Segmentation Data\\Lung Segmentation Data\\Test\\Non-COVID\\lung masks --> Processed path: c:\\Users\\Florent\\Documents\\data_science\\MAR24_BDS_Radios_Pulmonaire\\data\\processed\\Lung Segmentation Data\\Non-COVID\\lung masks\n",
      "Raw path: c:\\Users\\Florent\\Documents\\data_science\\MAR24_BDS_Radios_Pulmonaire\\data\\raw\\Lung Segmentation Data\\Lung Segmentation Data\\Test\\Normal\\images --> Processed path: c:\\Users\\Florent\\Documents\\data_science\\MAR24_BDS_Radios_Pulmonaire\\data\\processed\\Lung Segmentation Data\\Normal\\images\n",
      "Raw path: c:\\Users\\Florent\\Documents\\data_science\\MAR24_BDS_Radios_Pulmonaire\\data\\raw\\Lung Segmentation Data\\Lung Segmentation Data\\Test\\Normal\\lung masks --> Processed path: c:\\Users\\Florent\\Documents\\data_science\\MAR24_BDS_Radios_Pulmonaire\\data\\processed\\Lung Segmentation Data\\Normal\\lung masks\n",
      "Raw path: c:\\Users\\Florent\\Documents\\data_science\\MAR24_BDS_Radios_Pulmonaire\\data\\raw\\Lung Segmentation Data\\Lung Segmentation Data\\Train\\COVID-19\\images --> Processed path: c:\\Users\\Florent\\Documents\\data_science\\MAR24_BDS_Radios_Pulmonaire\\data\\processed\\Lung Segmentation Data\\COVID-19\\images\n",
      "Raw path: c:\\Users\\Florent\\Documents\\data_science\\MAR24_BDS_Radios_Pulmonaire\\data\\raw\\Lung Segmentation Data\\Lung Segmentation Data\\Train\\COVID-19\\lung masks --> Processed path: c:\\Users\\Florent\\Documents\\data_science\\MAR24_BDS_Radios_Pulmonaire\\data\\processed\\Lung Segmentation Data\\COVID-19\\lung masks\n",
      "Raw path: c:\\Users\\Florent\\Documents\\data_science\\MAR24_BDS_Radios_Pulmonaire\\data\\raw\\Lung Segmentation Data\\Lung Segmentation Data\\Train\\Non-COVID\\images --> Processed path: c:\\Users\\Florent\\Documents\\data_science\\MAR24_BDS_Radios_Pulmonaire\\data\\processed\\Lung Segmentation Data\\Non-COVID\\images\n",
      "Raw path: c:\\Users\\Florent\\Documents\\data_science\\MAR24_BDS_Radios_Pulmonaire\\data\\raw\\Lung Segmentation Data\\Lung Segmentation Data\\Train\\Non-COVID\\lung masks --> Processed path: c:\\Users\\Florent\\Documents\\data_science\\MAR24_BDS_Radios_Pulmonaire\\data\\processed\\Lung Segmentation Data\\Non-COVID\\lung masks\n",
      "Raw path: c:\\Users\\Florent\\Documents\\data_science\\MAR24_BDS_Radios_Pulmonaire\\data\\raw\\Lung Segmentation Data\\Lung Segmentation Data\\Train\\Normal\\images --> Processed path: c:\\Users\\Florent\\Documents\\data_science\\MAR24_BDS_Radios_Pulmonaire\\data\\processed\\Lung Segmentation Data\\Normal\\images\n",
      "Raw path: c:\\Users\\Florent\\Documents\\data_science\\MAR24_BDS_Radios_Pulmonaire\\data\\raw\\Lung Segmentation Data\\Lung Segmentation Data\\Train\\Normal\\lung masks --> Processed path: c:\\Users\\Florent\\Documents\\data_science\\MAR24_BDS_Radios_Pulmonaire\\data\\processed\\Lung Segmentation Data\\Normal\\lung masks\n",
      "Raw path: c:\\Users\\Florent\\Documents\\data_science\\MAR24_BDS_Radios_Pulmonaire\\data\\raw\\Lung Segmentation Data\\Lung Segmentation Data\\Val\\COVID-19\\images --> Processed path: c:\\Users\\Florent\\Documents\\data_science\\MAR24_BDS_Radios_Pulmonaire\\data\\processed\\Lung Segmentation Data\\COVID-19\\images\n",
      "Raw path: c:\\Users\\Florent\\Documents\\data_science\\MAR24_BDS_Radios_Pulmonaire\\data\\raw\\Lung Segmentation Data\\Lung Segmentation Data\\Val\\COVID-19\\lung masks --> Processed path: c:\\Users\\Florent\\Documents\\data_science\\MAR24_BDS_Radios_Pulmonaire\\data\\processed\\Lung Segmentation Data\\COVID-19\\lung masks\n",
      "Raw path: c:\\Users\\Florent\\Documents\\data_science\\MAR24_BDS_Radios_Pulmonaire\\data\\raw\\Lung Segmentation Data\\Lung Segmentation Data\\Val\\Non-COVID\\images --> Processed path: c:\\Users\\Florent\\Documents\\data_science\\MAR24_BDS_Radios_Pulmonaire\\data\\processed\\Lung Segmentation Data\\Non-COVID\\images\n",
      "Raw path: c:\\Users\\Florent\\Documents\\data_science\\MAR24_BDS_Radios_Pulmonaire\\data\\raw\\Lung Segmentation Data\\Lung Segmentation Data\\Val\\Non-COVID\\lung masks --> Processed path: c:\\Users\\Florent\\Documents\\data_science\\MAR24_BDS_Radios_Pulmonaire\\data\\processed\\Lung Segmentation Data\\Non-COVID\\lung masks\n",
      "Raw path: c:\\Users\\Florent\\Documents\\data_science\\MAR24_BDS_Radios_Pulmonaire\\data\\raw\\Lung Segmentation Data\\Lung Segmentation Data\\Val\\Normal\\images --> Processed path: c:\\Users\\Florent\\Documents\\data_science\\MAR24_BDS_Radios_Pulmonaire\\data\\processed\\Lung Segmentation Data\\Normal\\images\n",
      "Raw path: c:\\Users\\Florent\\Documents\\data_science\\MAR24_BDS_Radios_Pulmonaire\\data\\raw\\Lung Segmentation Data\\Lung Segmentation Data\\Val\\Normal\\lung masks --> Processed path: c:\\Users\\Florent\\Documents\\data_science\\MAR24_BDS_Radios_Pulmonaire\\data\\processed\\Lung Segmentation Data\\Normal\\lung masks\n"
     ]
    }
   ],
   "source": [
    "# Creation du dictionnaire pour la correspondance entre raw et processed data :\n",
    "raw_processed_paths_dict = {}\n",
    "\n",
    "for folder in raw_dataset_folders:\n",
    "    for subfolder in patho_subfolders:\n",
    "        for file_type in png_file_types:\n",
    "            raw_folder_path = os.path.join(raw_data_path, folder, subfolder, file_type)\n",
    "            processed_folder_path = os.path.join(processed_data_path, subfolder, file_type)\n",
    "            raw_processed_paths_dict[raw_folder_path] = processed_folder_path\n",
    "\n",
    "\n",
    "for raw_path, processed_path in raw_processed_paths_dict.items():\n",
    "    print(f\"Raw path: {raw_path} --> Processed path: {processed_path}\")\n"
   ]
  },
  {
   "cell_type": "code",
   "execution_count": 3,
   "metadata": {},
   "outputs": [],
   "source": [
    "def create_folder(parent_folder: str, folder_name: str):\n",
    "    \"\"\" Fonction qui crée un dossier 'folder_name' à l'emplacement 'parent_folder'.\n",
    "    Si le dossier existe déjà il n'est pas re-créé.\n",
    "    \"\"\"\n",
    "    folder_path = os.path.join(parent_folder, folder_name)\n",
    "\n",
    "    if not os.path.exists(folder_path):\n",
    "        try:\n",
    "            os.makedirs(folder_path)\n",
    "            print(f\"Folder '{folder_path}' created successfully.\")\n",
    "        except OSError as e:\n",
    "            print(f\"Error creating folder '{folder_path}': {e}\")\n",
    "    else:\n",
    "        print(f\"Folder '{folder_path}' already exists.\")\n",
    "\n"
   ]
  },
  {
   "cell_type": "code",
   "execution_count": 4,
   "metadata": {},
   "outputs": [
    {
     "name": "stdout",
     "output_type": "stream",
     "text": [
      "Folder 'c:\\Users\\Florent\\Documents\\data_science\\MAR24_BDS_Radios_Pulmonaire\\data\\processed\\Lung Segmentation Data' created successfully.\n",
      "Folder 'c:\\Users\\Florent\\Documents\\data_science\\MAR24_BDS_Radios_Pulmonaire\\data\\processed\\Lung Segmentation Data\\COVID-19' created successfully.\n",
      "Folder 'c:\\Users\\Florent\\Documents\\data_science\\MAR24_BDS_Radios_Pulmonaire\\data\\processed\\Lung Segmentation Data\\COVID-19\\images' created successfully.\n",
      "Folder 'c:\\Users\\Florent\\Documents\\data_science\\MAR24_BDS_Radios_Pulmonaire\\data\\processed\\Lung Segmentation Data\\COVID-19' already exists.\n",
      "Folder 'c:\\Users\\Florent\\Documents\\data_science\\MAR24_BDS_Radios_Pulmonaire\\data\\processed\\Lung Segmentation Data\\COVID-19\\lung masks' created successfully.\n",
      "Folder 'c:\\Users\\Florent\\Documents\\data_science\\MAR24_BDS_Radios_Pulmonaire\\data\\processed\\Lung Segmentation Data\\Non-COVID' created successfully.\n",
      "Folder 'c:\\Users\\Florent\\Documents\\data_science\\MAR24_BDS_Radios_Pulmonaire\\data\\processed\\Lung Segmentation Data\\Non-COVID\\images' created successfully.\n",
      "Folder 'c:\\Users\\Florent\\Documents\\data_science\\MAR24_BDS_Radios_Pulmonaire\\data\\processed\\Lung Segmentation Data\\Non-COVID' already exists.\n",
      "Folder 'c:\\Users\\Florent\\Documents\\data_science\\MAR24_BDS_Radios_Pulmonaire\\data\\processed\\Lung Segmentation Data\\Non-COVID\\lung masks' created successfully.\n",
      "Folder 'c:\\Users\\Florent\\Documents\\data_science\\MAR24_BDS_Radios_Pulmonaire\\data\\processed\\Lung Segmentation Data\\Normal' created successfully.\n",
      "Folder 'c:\\Users\\Florent\\Documents\\data_science\\MAR24_BDS_Radios_Pulmonaire\\data\\processed\\Lung Segmentation Data\\Normal\\images' created successfully.\n",
      "Folder 'c:\\Users\\Florent\\Documents\\data_science\\MAR24_BDS_Radios_Pulmonaire\\data\\processed\\Lung Segmentation Data\\Normal' already exists.\n",
      "Folder 'c:\\Users\\Florent\\Documents\\data_science\\MAR24_BDS_Radios_Pulmonaire\\data\\processed\\Lung Segmentation Data\\Normal\\lung masks' created successfully.\n"
     ]
    }
   ],
   "source": [
    "# Creation des nouveaux dossiers \n",
    "\n",
    "create_folder(processed_root_path, \"Lung Segmentation Data\")\n",
    "\n",
    "for pat, typ in itertools.product(patho_subfolders, png_file_types):\n",
    "\n",
    "    patho_path = os.path.join(processed_data_path, pat)\n",
    "\n",
    "    create_folder(processed_data_path, pat)\n",
    "    create_folder(patho_path, typ)\n"
   ]
  },
  {
   "cell_type": "code",
   "execution_count": 5,
   "metadata": {},
   "outputs": [],
   "source": [
    "def copy_png_files(source_folder: str, destination_folder: str):\n",
    "    \"\"\" Fonction qui copie un fichier .png avec ses metadata d'un dossier 'source_folder' \n",
    "    vers un dossier 'destination_folder'.\n",
    "    Retourne un dataframe avec les fichiers qui n'ont pas pu être copié car ils \n",
    "    existaient déjà dans le dossier de destination (doublons).\n",
    "    \"\"\"\n",
    "    png_files = [f for f in os.listdir(source_folder) if f.endswith('.png')]\n",
    " \n",
    "    already_exist_files = [] # liste des fichiers ne pouvant pas etre copié car existent deja dans le dossier destination\n",
    "\n",
    "    for png_file in png_files:\n",
    "        source_file_path = os.path.join(source_folder, png_file)\n",
    "        destination_file_path = os.path.join(destination_folder, png_file)\n",
    "\n",
    "        # si le fichier existe deja dans le dossier de destination : le stocke dans une liste et passe au suivant sans le copier\n",
    "        if os.path.exists(destination_file_path):\n",
    "            print(f\"Warning: File '{png_file}' already exists in '{destination_folder}'. Skipping...\")\n",
    "            already_exist_files.append({'file_name': png_file, 'destination_folder': destination_folder})\n",
    "            continue\n",
    "        \n",
    "        # Copie avec metadata\n",
    "        shutil.copy2(source_file_path, destination_file_path)  \n",
    "        # print(f\"File '{png_file}' copied to '{destination_folder}'.\")\n",
    "\n",
    "    already_exists_files_df = pd.DataFrame(already_exist_files)\n",
    "    \n",
    "    return already_exists_files_df\n",
    "\n"
   ]
  },
  {
   "cell_type": "code",
   "execution_count": 6,
   "metadata": {},
   "outputs": [
    {
     "name": "stdout",
     "output_type": "stream",
     "text": [
      "Source: c:\\Users\\Florent\\Documents\\data_science\\MAR24_BDS_Radios_Pulmonaire\\data\\raw\\Lung Segmentation Data\\Lung Segmentation Data\\Test\\COVID-19\\images, Destination: c:\\Users\\Florent\\Documents\\data_science\\MAR24_BDS_Radios_Pulmonaire\\data\\processed\\Lung Segmentation Data\\COVID-19\\images\n",
      "Source: c:\\Users\\Florent\\Documents\\data_science\\MAR24_BDS_Radios_Pulmonaire\\data\\raw\\Lung Segmentation Data\\Lung Segmentation Data\\Test\\COVID-19\\lung masks, Destination: c:\\Users\\Florent\\Documents\\data_science\\MAR24_BDS_Radios_Pulmonaire\\data\\processed\\Lung Segmentation Data\\COVID-19\\lung masks\n",
      "Source: c:\\Users\\Florent\\Documents\\data_science\\MAR24_BDS_Radios_Pulmonaire\\data\\raw\\Lung Segmentation Data\\Lung Segmentation Data\\Test\\Non-COVID\\images, Destination: c:\\Users\\Florent\\Documents\\data_science\\MAR24_BDS_Radios_Pulmonaire\\data\\processed\\Lung Segmentation Data\\Non-COVID\\images\n",
      "Source: c:\\Users\\Florent\\Documents\\data_science\\MAR24_BDS_Radios_Pulmonaire\\data\\raw\\Lung Segmentation Data\\Lung Segmentation Data\\Test\\Non-COVID\\lung masks, Destination: c:\\Users\\Florent\\Documents\\data_science\\MAR24_BDS_Radios_Pulmonaire\\data\\processed\\Lung Segmentation Data\\Non-COVID\\lung masks\n",
      "Source: c:\\Users\\Florent\\Documents\\data_science\\MAR24_BDS_Radios_Pulmonaire\\data\\raw\\Lung Segmentation Data\\Lung Segmentation Data\\Test\\Normal\\images, Destination: c:\\Users\\Florent\\Documents\\data_science\\MAR24_BDS_Radios_Pulmonaire\\data\\processed\\Lung Segmentation Data\\Normal\\images\n",
      "Source: c:\\Users\\Florent\\Documents\\data_science\\MAR24_BDS_Radios_Pulmonaire\\data\\raw\\Lung Segmentation Data\\Lung Segmentation Data\\Test\\Normal\\lung masks, Destination: c:\\Users\\Florent\\Documents\\data_science\\MAR24_BDS_Radios_Pulmonaire\\data\\processed\\Lung Segmentation Data\\Normal\\lung masks\n",
      "Source: c:\\Users\\Florent\\Documents\\data_science\\MAR24_BDS_Radios_Pulmonaire\\data\\raw\\Lung Segmentation Data\\Lung Segmentation Data\\Train\\COVID-19\\images, Destination: c:\\Users\\Florent\\Documents\\data_science\\MAR24_BDS_Radios_Pulmonaire\\data\\processed\\Lung Segmentation Data\\COVID-19\\images\n",
      "Source: c:\\Users\\Florent\\Documents\\data_science\\MAR24_BDS_Radios_Pulmonaire\\data\\raw\\Lung Segmentation Data\\Lung Segmentation Data\\Train\\COVID-19\\lung masks, Destination: c:\\Users\\Florent\\Documents\\data_science\\MAR24_BDS_Radios_Pulmonaire\\data\\processed\\Lung Segmentation Data\\COVID-19\\lung masks\n",
      "Source: c:\\Users\\Florent\\Documents\\data_science\\MAR24_BDS_Radios_Pulmonaire\\data\\raw\\Lung Segmentation Data\\Lung Segmentation Data\\Train\\Non-COVID\\images, Destination: c:\\Users\\Florent\\Documents\\data_science\\MAR24_BDS_Radios_Pulmonaire\\data\\processed\\Lung Segmentation Data\\Non-COVID\\images\n",
      "Source: c:\\Users\\Florent\\Documents\\data_science\\MAR24_BDS_Radios_Pulmonaire\\data\\raw\\Lung Segmentation Data\\Lung Segmentation Data\\Train\\Non-COVID\\lung masks, Destination: c:\\Users\\Florent\\Documents\\data_science\\MAR24_BDS_Radios_Pulmonaire\\data\\processed\\Lung Segmentation Data\\Non-COVID\\lung masks\n",
      "Source: c:\\Users\\Florent\\Documents\\data_science\\MAR24_BDS_Radios_Pulmonaire\\data\\raw\\Lung Segmentation Data\\Lung Segmentation Data\\Train\\Normal\\images, Destination: c:\\Users\\Florent\\Documents\\data_science\\MAR24_BDS_Radios_Pulmonaire\\data\\processed\\Lung Segmentation Data\\Normal\\images\n",
      "Source: c:\\Users\\Florent\\Documents\\data_science\\MAR24_BDS_Radios_Pulmonaire\\data\\raw\\Lung Segmentation Data\\Lung Segmentation Data\\Train\\Normal\\lung masks, Destination: c:\\Users\\Florent\\Documents\\data_science\\MAR24_BDS_Radios_Pulmonaire\\data\\processed\\Lung Segmentation Data\\Normal\\lung masks\n",
      "Source: c:\\Users\\Florent\\Documents\\data_science\\MAR24_BDS_Radios_Pulmonaire\\data\\raw\\Lung Segmentation Data\\Lung Segmentation Data\\Val\\COVID-19\\images, Destination: c:\\Users\\Florent\\Documents\\data_science\\MAR24_BDS_Radios_Pulmonaire\\data\\processed\\Lung Segmentation Data\\COVID-19\\images\n",
      "Source: c:\\Users\\Florent\\Documents\\data_science\\MAR24_BDS_Radios_Pulmonaire\\data\\raw\\Lung Segmentation Data\\Lung Segmentation Data\\Val\\COVID-19\\lung masks, Destination: c:\\Users\\Florent\\Documents\\data_science\\MAR24_BDS_Radios_Pulmonaire\\data\\processed\\Lung Segmentation Data\\COVID-19\\lung masks\n",
      "Source: c:\\Users\\Florent\\Documents\\data_science\\MAR24_BDS_Radios_Pulmonaire\\data\\raw\\Lung Segmentation Data\\Lung Segmentation Data\\Val\\Non-COVID\\images, Destination: c:\\Users\\Florent\\Documents\\data_science\\MAR24_BDS_Radios_Pulmonaire\\data\\processed\\Lung Segmentation Data\\Non-COVID\\images\n",
      "Source: c:\\Users\\Florent\\Documents\\data_science\\MAR24_BDS_Radios_Pulmonaire\\data\\raw\\Lung Segmentation Data\\Lung Segmentation Data\\Val\\Non-COVID\\lung masks, Destination: c:\\Users\\Florent\\Documents\\data_science\\MAR24_BDS_Radios_Pulmonaire\\data\\processed\\Lung Segmentation Data\\Non-COVID\\lung masks\n",
      "Source: c:\\Users\\Florent\\Documents\\data_science\\MAR24_BDS_Radios_Pulmonaire\\data\\raw\\Lung Segmentation Data\\Lung Segmentation Data\\Val\\Normal\\images, Destination: c:\\Users\\Florent\\Documents\\data_science\\MAR24_BDS_Radios_Pulmonaire\\data\\processed\\Lung Segmentation Data\\Normal\\images\n",
      "Source: c:\\Users\\Florent\\Documents\\data_science\\MAR24_BDS_Radios_Pulmonaire\\data\\raw\\Lung Segmentation Data\\Lung Segmentation Data\\Val\\Normal\\lung masks, Destination: c:\\Users\\Florent\\Documents\\data_science\\MAR24_BDS_Radios_Pulmonaire\\data\\processed\\Lung Segmentation Data\\Normal\\lung masks\n"
     ]
    }
   ],
   "source": [
    "# Copie des .png\n",
    "\n",
    "for key, value in raw_processed_paths_dict.items():\n",
    "    print(f\"Source: {key}, Destination: {value}\")\n",
    "\n",
    "    copy_png_files(key, value)\n",
    "    "
   ]
  },
  {
   "cell_type": "code",
   "execution_count": 7,
   "metadata": {},
   "outputs": [],
   "source": [
    "def list_files_in_subfolders(folder: str):\n",
    "    \"\"\"Liste tous les fichiers dans un dossier ainsi que dans tous ses sous-dossiers.\n",
    "    Retourne une liste.\"\"\"\n",
    "    file_list = []\n",
    "\n",
    "    for root, dirs, files in os.walk(folder):\n",
    "        for file in files:\n",
    "            file_list.append(file)\n",
    "\n",
    "    return file_list\n",
    "\n"
   ]
  },
  {
   "cell_type": "code",
   "execution_count": 8,
   "metadata": {},
   "outputs": [
    {
     "name": "stdout",
     "output_type": "stream",
     "text": [
      "N raw absent de processed : 0\n",
      "N fichiers dans raw : 67840\n",
      "N fichiers dans processed : 67840\n"
     ]
    }
   ],
   "source": [
    "# Comparaison du contenu des raw et processed data \n",
    "\n",
    "raw_files = list_files_in_subfolders(raw_data_path)\n",
    "processed_files = list_files_in_subfolders(processed_data_path)\n",
    "\n",
    "raw_not_in_processed = [x for x in raw_files if x not in processed_files]\n",
    "\n",
    "print(\"N raw absent de processed :\", len(raw_not_in_processed))\n",
    "print(\"N fichiers dans raw :\", len(raw_files))\n",
    "print(\"N fichiers dans processed :\", len(processed_files))"
   ]
  }
 ],
 "metadata": {
  "kernelspec": {
   "display_name": ".venv",
   "language": "python",
   "name": "python3"
  },
  "language_info": {
   "codemirror_mode": {
    "name": "ipython",
    "version": 3
   },
   "file_extension": ".py",
   "mimetype": "text/x-python",
   "name": "python",
   "nbconvert_exporter": "python",
   "pygments_lexer": "ipython3",
   "version": "3.12.3"
  }
 },
 "nbformat": 4,
 "nbformat_minor": 2
}
